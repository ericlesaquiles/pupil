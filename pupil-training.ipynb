{
 "cells": [
  {
   "cell_type": "code",
   "execution_count": 1,
   "metadata": {
    "colab": {
     "base_uri": "https://localhost:8080/"
    },
    "id": "Y8cDtxLIBHgQ",
    "outputId": "958a2f80-07a3-40de-e224-9e5d1cbdaa25"
   },
   "outputs": [
    {
     "name": "stdout",
     "output_type": "stream",
     "text": [
      "Sat Nov 16 11:53:04 2024       \n",
      "+-----------------------------------------------------------------------------------------+\n",
      "| NVIDIA-SMI 560.35.03              Driver Version: 560.35.03      CUDA Version: 12.6     |\n",
      "|-----------------------------------------+------------------------+----------------------+\n",
      "| GPU  Name                 Persistence-M | Bus-Id          Disp.A | Volatile Uncorr. ECC |\n",
      "| Fan  Temp   Perf          Pwr:Usage/Cap |           Memory-Usage | GPU-Util  Compute M. |\n",
      "|                                         |                        |               MIG M. |\n",
      "|=========================================+========================+======================|\n",
      "|   0  NVIDIA GeForce RTX 3050 ...    Off |   00000000:01:00.0  On |                  N/A |\n",
      "| N/A   43C    P8              4W /   60W |      64MiB /   6144MiB |     14%      Default |\n",
      "|                                         |                        |                  N/A |\n",
      "+-----------------------------------------+------------------------+----------------------+\n",
      "                                                                                         \n",
      "+-----------------------------------------------------------------------------------------+\n",
      "| Processes:                                                                              |\n",
      "|  GPU   GI   CI        PID   Type   Process name                              GPU Memory |\n",
      "|        ID   ID                                                               Usage      |\n",
      "|=========================================================================================|\n",
      "|    0   N/A  N/A      3701      G   /usr/lib/xorg/Xorg                             53MiB |\n",
      "+-----------------------------------------------------------------------------------------+\n"
     ]
    }
   ],
   "source": [
    "!nvidia-smi"
   ]
  },
  {
   "cell_type": "markdown",
   "metadata": {
    "id": "3C3EO_2zNChu"
   },
   "source": [
    "## Install YOLOv8\n",
    "\n",
    "YOLOv8 can be installed in two ways - from the source and via pip. This is because it is the first iteration of YOLO to have an official package."
   ]
  },
  {
   "cell_type": "code",
   "execution_count": 2,
   "metadata": {
    "colab": {
     "base_uri": "https://localhost:8080/"
    },
    "id": "tdSMcABDNKW-",
    "outputId": "26a05fa7-e659-467f-9c81-6887214e2f59"
   },
   "outputs": [
    {
     "name": "stdout",
     "output_type": "stream",
     "text": [
      "/home/ericles/Documents/Aprendizado/Unicamp/Machine-learning/Pupil-seg\n"
     ]
    }
   ],
   "source": [
    "# Pip install method (recommended)\n",
    "#!pip install ultralytics==8.2.103 -q\n",
    "\n",
    "import ultralytics\n",
    "import torch\n",
    "#ultralytics.checks()\n",
    "from ultralytics import YOLO\n",
    "\n",
    "from IPython.display import display, Image\n",
    "\n",
    "import os\n",
    "ROOT_DIR = os.getcwd()\n",
    "print(ROOT_DIR)"
   ]
  },
  {
   "cell_type": "markdown",
   "metadata": {
    "id": "HnnZSm5OQfPQ"
   },
   "source": [
    "## CLI Basics"
   ]
  },
  {
   "cell_type": "markdown",
   "metadata": {
    "id": "K33S7zlkQku0"
   },
   "source": [
    "If you want to train, validate or run inference on models and don't need to make any modifications to the code, using YOLO command line interface is the easiest way to get started. Read more about CLI in [Ultralytics YOLO Docs](https://docs.ultralytics.com/usage/cli/).\n",
    "\n",
    "```\n",
    "yolo task=detect    mode=train    model=yolov8n.yaml      args...\n",
    "          classify       predict        yolov8n-cls.yaml  args...\n",
    "          segment        val            yolov8n-seg.yaml  args...\n",
    "                         export         yolov8n.pt        format=onnx  args...\n",
    "```"
   ]
  },
  {
   "cell_type": "markdown",
   "metadata": {
    "id": "AFMBYQtMVL-B"
   },
   "source": [
    "### 🐍 Python SDK\n",
    "\n",
    "The simplest way of simply using YOLOv8 directly in a Python environment."
   ]
  },
  {
   "cell_type": "code",
   "execution_count": 3,
   "metadata": {
    "colab": {
     "base_uri": "https://localhost:8080/"
    },
    "id": "Rx9NWF-sVN6Y",
    "outputId": "19181799-b010-4e8d-ceef-b498aabcc19c",
    "scrolled": true
   },
   "outputs": [],
   "source": [
    "model = YOLO(f'{ROOT_DIR}/yolov8m-seg.pt')\n",
    "\n",
    "#results = model.predict(source='https://media.roboflow.com/notebooks/examples/dog.jpeg', conf=0.25)\n",
    "#results[0].boxes.xyxy\n",
    "#results[0].boxes.conf\n",
    "#results[0].boxes.cls\n",
    "#results[0].masks.data"
   ]
  },
  {
   "cell_type": "markdown",
   "metadata": {
    "id": "YUjFBKKqXa-u"
   },
   "source": [
    "## Custom Training"
   ]
  },
  {
   "cell_type": "code",
   "execution_count": 4,
   "metadata": {
    "id": "D2YkphuiaE7_"
   },
   "outputs": [
    {
     "name": "stdout",
     "output_type": "stream",
     "text": [
      "New https://pypi.org/project/ultralytics/8.3.31 available 😃 Update with 'pip install -U ultralytics'\n",
      "Ultralytics 8.3.28 🚀 Python-3.12.3 torch-2.5.1+cu124 CUDA:0 (NVIDIA GeForce RTX 3050 6GB Laptop GPU, 5834MiB)\n",
      "\u001b[34m\u001b[1mengine/trainer: \u001b[0mtask=segment, mode=train, model=/home/ericles/Documents/Aprendizado/Unicamp/Machine-learning/Pupil-seg/yolov8m-seg.pt, data=/home/ericles/Documents/Aprendizado/Unicamp/Machine-learning/Pupil-seg/data.yaml, epochs=30, time=None, patience=100, batch=8, imgsz=640, save=True, save_period=-1, cache=False, device=None, workers=8, project=None, name=train10, exist_ok=False, pretrained=True, optimizer=auto, verbose=True, seed=0, deterministic=True, single_cls=False, rect=False, cos_lr=False, close_mosaic=10, resume=False, amp=True, fraction=1.0, profile=False, freeze=None, multi_scale=False, overlap_mask=True, mask_ratio=4, dropout=0.0, val=True, split=val, save_json=False, save_hybrid=False, conf=None, iou=0.7, max_det=300, half=False, dnn=False, plots=True, source=None, vid_stride=1, stream_buffer=False, visualize=False, augment=False, agnostic_nms=False, classes=None, retina_masks=False, embed=None, show=False, save_frames=False, save_txt=False, save_conf=False, save_crop=False, show_labels=True, show_conf=True, show_boxes=True, line_width=None, format=torchscript, keras=False, optimize=False, int8=False, dynamic=False, simplify=True, opset=None, workspace=4, nms=False, lr0=0.01, lrf=0.01, momentum=0.937, weight_decay=0.0005, warmup_epochs=3.0, warmup_momentum=0.8, warmup_bias_lr=0.1, box=7.5, cls=0.5, dfl=1.5, pose=12.0, kobj=1.0, label_smoothing=0.0, nbs=64, hsv_h=0.015, hsv_s=0.7, hsv_v=0.4, degrees=0.0, translate=0.1, scale=0.5, shear=0.0, perspective=0.0, flipud=0.0, fliplr=0.5, bgr=0.0, mosaic=1.0, mixup=0.0, copy_paste=0.0, copy_paste_mode=flip, auto_augment=randaugment, erasing=0.4, crop_fraction=1.0, cfg=None, tracker=botsort.yaml, save_dir=runs/segment/train10\n"
     ]
    },
    {
     "name": "stderr",
     "output_type": "stream",
     "text": [
      "WARNING: All log messages before absl::InitializeLog() is called are written to STDERR\n",
      "E0000 00:00:1731770348.688440    9946 cuda_dnn.cc:8310] Unable to register cuDNN factory: Attempting to register factory for plugin cuDNN when one has already been registered\n",
      "E0000 00:00:1731770348.698962    9946 cuda_blas.cc:1418] Unable to register cuBLAS factory: Attempting to register factory for plugin cuBLAS when one has already been registered\n"
     ]
    },
    {
     "name": "stdout",
     "output_type": "stream",
     "text": [
      "Overriding model.yaml nc=80 with nc=1\n",
      "\n",
      "                   from  n    params  module                                       arguments                     \n",
      "  0                  -1  1      1392  ultralytics.nn.modules.conv.Conv             [3, 48, 3, 2]                 \n",
      "  1                  -1  1     41664  ultralytics.nn.modules.conv.Conv             [48, 96, 3, 2]                \n",
      "  2                  -1  2    111360  ultralytics.nn.modules.block.C2f             [96, 96, 2, True]             \n",
      "  3                  -1  1    166272  ultralytics.nn.modules.conv.Conv             [96, 192, 3, 2]               \n",
      "  4                  -1  4    813312  ultralytics.nn.modules.block.C2f             [192, 192, 4, True]           \n",
      "  5                  -1  1    664320  ultralytics.nn.modules.conv.Conv             [192, 384, 3, 2]              \n",
      "  6                  -1  4   3248640  ultralytics.nn.modules.block.C2f             [384, 384, 4, True]           \n",
      "  7                  -1  1   1991808  ultralytics.nn.modules.conv.Conv             [384, 576, 3, 2]              \n",
      "  8                  -1  2   3985920  ultralytics.nn.modules.block.C2f             [576, 576, 2, True]           \n",
      "  9                  -1  1    831168  ultralytics.nn.modules.block.SPPF            [576, 576, 5]                 \n",
      " 10                  -1  1         0  torch.nn.modules.upsampling.Upsample         [None, 2, 'nearest']          \n",
      " 11             [-1, 6]  1         0  ultralytics.nn.modules.conv.Concat           [1]                           \n",
      " 12                  -1  2   1993728  ultralytics.nn.modules.block.C2f             [960, 384, 2]                 \n",
      " 13                  -1  1         0  torch.nn.modules.upsampling.Upsample         [None, 2, 'nearest']          \n",
      " 14             [-1, 4]  1         0  ultralytics.nn.modules.conv.Concat           [1]                           \n",
      " 15                  -1  2    517632  ultralytics.nn.modules.block.C2f             [576, 192, 2]                 \n",
      " 16                  -1  1    332160  ultralytics.nn.modules.conv.Conv             [192, 192, 3, 2]              \n",
      " 17            [-1, 12]  1         0  ultralytics.nn.modules.conv.Concat           [1]                           \n",
      " 18                  -1  2   1846272  ultralytics.nn.modules.block.C2f             [576, 384, 2]                 \n",
      " 19                  -1  1   1327872  ultralytics.nn.modules.conv.Conv             [384, 384, 3, 2]              \n",
      " 20             [-1, 9]  1         0  ultralytics.nn.modules.conv.Concat           [1]                           \n",
      " 21                  -1  2   4207104  ultralytics.nn.modules.block.C2f             [960, 576, 2]                 \n",
      " 22        [15, 18, 21]  1   5159603  ultralytics.nn.modules.head.Segment          [1, 32, 192, [192, 384, 576]] \n",
      "YOLOv8m-seg summary: 331 layers, 27,240,227 parameters, 27,240,211 gradients, 110.4 GFLOPs\n",
      "\n",
      "Transferred 531/537 items from pretrained weights\n",
      "\u001b[34m\u001b[1mTensorBoard: \u001b[0mStart with 'tensorboard --logdir runs/segment/train10', view at http://localhost:6006/\n",
      "Freezing layer 'model.22.dfl.conv.weight'\n",
      "\u001b[34m\u001b[1mAMP: \u001b[0mrunning Automatic Mixed Precision (AMP) checks...\n",
      "\u001b[34m\u001b[1mAMP: \u001b[0mchecks passed ✅\n"
     ]
    },
    {
     "name": "stderr",
     "output_type": "stream",
     "text": [
      "\u001b[34m\u001b[1mtrain: \u001b[0mScanning /home/ericles/Documents/Aprendizado/Unicamp/Machine-learning/Pupil-seg/data/labels/train... 5010 image\u001b[0m"
     ]
    },
    {
     "name": "stdout",
     "output_type": "stream",
     "text": [
      "\u001b[34m\u001b[1mtrain: \u001b[0mNew cache created: /home/ericles/Documents/Aprendizado/Unicamp/Machine-learning/Pupil-seg/data/labels/train.cache\n"
     ]
    },
    {
     "name": "stderr",
     "output_type": "stream",
     "text": [
      "\n",
      "\u001b[34m\u001b[1mval: \u001b[0mScanning /home/ericles/Documents/Aprendizado/Unicamp/Machine-learning/Pupil-seg/data/labels/val.cache... 877 imag\u001b[0m\n"
     ]
    },
    {
     "name": "stdout",
     "output_type": "stream",
     "text": [
      "Plotting labels to runs/segment/train10/labels.jpg... \n",
      "\u001b[34m\u001b[1moptimizer:\u001b[0m 'optimizer=auto' found, ignoring 'lr0=0.01' and 'momentum=0.937' and determining best 'optimizer', 'lr0' and 'momentum' automatically... \n",
      "\u001b[34m\u001b[1moptimizer:\u001b[0m AdamW(lr=0.002, momentum=0.9) with parameter groups 86 weight(decay=0.0), 97 weight(decay=0.0005), 96 bias(decay=0.0)\n",
      "\u001b[34m\u001b[1mTensorBoard: \u001b[0mmodel graph visualization added ✅\n",
      "Image sizes 640 train, 640 val\n",
      "Using 8 dataloader workers\n",
      "Logging results to \u001b[1mruns/segment/train10\u001b[0m\n",
      "Starting training for 30 epochs...\n",
      "\n",
      "      Epoch    GPU_mem   box_loss   seg_loss   cls_loss   dfl_loss  Instances       Size\n"
     ]
    },
    {
     "name": "stderr",
     "output_type": "stream",
     "text": [
      "       1/30      4.45G       1.69      1.885      1.144      0.892         13        640: 100%|██████████| 627/627 [04\n",
      "                 Class     Images  Instances      Box(P          R      mAP50  mAP50-95)     Mask(P          R      mA"
     ]
    },
    {
     "name": "stdout",
     "output_type": "stream",
     "text": [
      "                   all        879       1649      0.758      0.871      0.856      0.321      0.565      0.643      0.555      0.216\n"
     ]
    },
    {
     "name": "stderr",
     "output_type": "stream",
     "text": [
      "\n"
     ]
    },
    {
     "name": "stdout",
     "output_type": "stream",
     "text": [
      "\n",
      "      Epoch    GPU_mem   box_loss   seg_loss   cls_loss   dfl_loss  Instances       Size\n"
     ]
    },
    {
     "name": "stderr",
     "output_type": "stream",
     "text": [
      "       2/30      4.17G      1.619      1.731     0.7548     0.8791          7        640: 100%|██████████| 627/627 [04\n",
      "                 Class     Images  Instances      Box(P          R      mAP50  mAP50-95)     Mask(P          R      mA"
     ]
    },
    {
     "name": "stdout",
     "output_type": "stream",
     "text": [
      "                   all        879       1649       0.88      0.851      0.863      0.387      0.746      0.694      0.711      0.331\n"
     ]
    },
    {
     "name": "stderr",
     "output_type": "stream",
     "text": [
      "\n"
     ]
    },
    {
     "name": "stdout",
     "output_type": "stream",
     "text": [
      "\n",
      "      Epoch    GPU_mem   box_loss   seg_loss   cls_loss   dfl_loss  Instances       Size\n"
     ]
    },
    {
     "name": "stderr",
     "output_type": "stream",
     "text": [
      "       3/30      4.34G      1.569      1.623     0.7113      0.871         17        640: 100%|██████████| 627/627 [04\n",
      "                 Class     Images  Instances      Box(P          R      mAP50  mAP50-95)     Mask(P          R      mA"
     ]
    },
    {
     "name": "stdout",
     "output_type": "stream",
     "text": [
      "                   all        879       1649      0.953      0.955      0.968      0.438      0.824      0.824      0.819      0.374\n"
     ]
    },
    {
     "name": "stderr",
     "output_type": "stream",
     "text": [
      "\n"
     ]
    },
    {
     "name": "stdout",
     "output_type": "stream",
     "text": [
      "\n",
      "      Epoch    GPU_mem   box_loss   seg_loss   cls_loss   dfl_loss  Instances       Size\n"
     ]
    },
    {
     "name": "stderr",
     "output_type": "stream",
     "text": [
      "       4/30       4.2G      1.524      1.594     0.6846     0.8646          6        640: 100%|██████████| 627/627 [04\n",
      "                 Class     Images  Instances      Box(P          R      mAP50  mAP50-95)     Mask(P          R      mA"
     ]
    },
    {
     "name": "stdout",
     "output_type": "stream",
     "text": [
      "                   all        879       1649      0.884      0.686      0.876      0.375      0.617      0.782      0.732      0.344\n"
     ]
    },
    {
     "name": "stderr",
     "output_type": "stream",
     "text": [
      "\n"
     ]
    },
    {
     "name": "stdout",
     "output_type": "stream",
     "text": [
      "\n",
      "      Epoch    GPU_mem   box_loss   seg_loss   cls_loss   dfl_loss  Instances       Size\n"
     ]
    },
    {
     "name": "stderr",
     "output_type": "stream",
     "text": [
      "       5/30      4.35G       1.46       1.57      0.654     0.8548         17        640: 100%|██████████| 627/627 [04\n",
      "                 Class     Images  Instances      Box(P          R      mAP50  mAP50-95)     Mask(P          R      mA"
     ]
    },
    {
     "name": "stdout",
     "output_type": "stream",
     "text": [
      "                   all        879       1649       0.89       0.77      0.875      0.348      0.755      0.663      0.713      0.335\n"
     ]
    },
    {
     "name": "stderr",
     "output_type": "stream",
     "text": [
      "\n"
     ]
    },
    {
     "name": "stdout",
     "output_type": "stream",
     "text": [
      "\n",
      "      Epoch    GPU_mem   box_loss   seg_loss   cls_loss   dfl_loss  Instances       Size\n"
     ]
    },
    {
     "name": "stderr",
     "output_type": "stream",
     "text": [
      "       6/30      4.18G      1.412      1.497     0.6448     0.8544         14        640: 100%|██████████| 627/627 [04\n",
      "                 Class     Images  Instances      Box(P          R      mAP50  mAP50-95)     Mask(P          R      mA"
     ]
    },
    {
     "name": "stdout",
     "output_type": "stream",
     "text": [
      "                   all        879       1649      0.953      0.833      0.931      0.447       0.88      0.764      0.836      0.397\n"
     ]
    },
    {
     "name": "stderr",
     "output_type": "stream",
     "text": [
      "\n"
     ]
    },
    {
     "name": "stdout",
     "output_type": "stream",
     "text": [
      "\n",
      "      Epoch    GPU_mem   box_loss   seg_loss   cls_loss   dfl_loss  Instances       Size\n"
     ]
    },
    {
     "name": "stderr",
     "output_type": "stream",
     "text": [
      "       7/30      4.33G      1.399      1.487     0.6236     0.8435         10        640: 100%|██████████| 627/627 [04\n",
      "                 Class     Images  Instances      Box(P          R      mAP50  mAP50-95)     Mask(P          R      mA"
     ]
    },
    {
     "name": "stdout",
     "output_type": "stream",
     "text": [
      "                   all        879       1649      0.826      0.881      0.895      0.414      0.736      0.784      0.772      0.344\n"
     ]
    },
    {
     "name": "stderr",
     "output_type": "stream",
     "text": [
      "\n"
     ]
    },
    {
     "name": "stdout",
     "output_type": "stream",
     "text": [
      "\n",
      "      Epoch    GPU_mem   box_loss   seg_loss   cls_loss   dfl_loss  Instances       Size\n"
     ]
    },
    {
     "name": "stderr",
     "output_type": "stream",
     "text": [
      "       8/30      4.33G       1.38      1.457     0.6187      0.846          6        640: 100%|██████████| 627/627 [04\n",
      "                 Class     Images  Instances      Box(P          R      mAP50  mAP50-95)     Mask(P          R      mA"
     ]
    },
    {
     "name": "stdout",
     "output_type": "stream",
     "text": [
      "                   all        879       1649      0.961       0.91      0.978      0.422      0.827      0.808      0.827      0.398\n"
     ]
    },
    {
     "name": "stderr",
     "output_type": "stream",
     "text": [
      "\n"
     ]
    },
    {
     "name": "stdout",
     "output_type": "stream",
     "text": [
      "\n",
      "      Epoch    GPU_mem   box_loss   seg_loss   cls_loss   dfl_loss  Instances       Size\n"
     ]
    },
    {
     "name": "stderr",
     "output_type": "stream",
     "text": [
      "       9/30      4.27G      1.348      1.439     0.6004     0.8424         11        640: 100%|██████████| 627/627 [04\n",
      "                 Class     Images  Instances      Box(P          R      mAP50  mAP50-95)     Mask(P          R      mA"
     ]
    },
    {
     "name": "stdout",
     "output_type": "stream",
     "text": [
      "                   all        879       1649       0.79      0.747      0.807      0.286      0.687      0.672      0.675      0.285\n"
     ]
    },
    {
     "name": "stderr",
     "output_type": "stream",
     "text": [
      "\n"
     ]
    },
    {
     "name": "stdout",
     "output_type": "stream",
     "text": [
      "\n",
      "      Epoch    GPU_mem   box_loss   seg_loss   cls_loss   dfl_loss  Instances       Size\n"
     ]
    },
    {
     "name": "stderr",
     "output_type": "stream",
     "text": [
      "      10/30      4.34G      1.329      1.433     0.6024     0.8389         22        640: 100%|██████████| 627/627 [04\n",
      "                 Class     Images  Instances      Box(P          R      mAP50  mAP50-95)     Mask(P          R      mA"
     ]
    },
    {
     "name": "stdout",
     "output_type": "stream",
     "text": [
      "                   all        879       1649      0.865      0.928      0.907      0.394      0.715       0.77      0.664      0.295\n"
     ]
    },
    {
     "name": "stderr",
     "output_type": "stream",
     "text": [
      "\n"
     ]
    },
    {
     "name": "stdout",
     "output_type": "stream",
     "text": [
      "\n",
      "      Epoch    GPU_mem   box_loss   seg_loss   cls_loss   dfl_loss  Instances       Size\n"
     ]
    },
    {
     "name": "stderr",
     "output_type": "stream",
     "text": [
      "      11/30      4.33G      1.284        1.4     0.5768     0.8376          6        640: 100%|██████████| 627/627 [04\n",
      "                 Class     Images  Instances      Box(P          R      mAP50  mAP50-95)     Mask(P          R      mA"
     ]
    },
    {
     "name": "stdout",
     "output_type": "stream",
     "text": [
      "                   all        879       1649      0.826      0.867      0.909      0.439      0.728      0.822      0.788      0.375\n"
     ]
    },
    {
     "name": "stderr",
     "output_type": "stream",
     "text": [
      "\n"
     ]
    },
    {
     "name": "stdout",
     "output_type": "stream",
     "text": [
      "\n",
      "      Epoch    GPU_mem   box_loss   seg_loss   cls_loss   dfl_loss  Instances       Size\n"
     ]
    },
    {
     "name": "stderr",
     "output_type": "stream",
     "text": [
      "      12/30      4.36G      1.286      1.399     0.5741     0.8373          6        640: 100%|██████████| 627/627 [04\n",
      "                 Class     Images  Instances      Box(P          R      mAP50  mAP50-95)     Mask(P          R      mA"
     ]
    },
    {
     "name": "stdout",
     "output_type": "stream",
     "text": [
      "                   all        879       1649      0.915      0.796      0.906      0.392       0.84      0.759      0.782      0.331\n"
     ]
    },
    {
     "name": "stderr",
     "output_type": "stream",
     "text": [
      "\n"
     ]
    },
    {
     "name": "stdout",
     "output_type": "stream",
     "text": [
      "\n",
      "      Epoch    GPU_mem   box_loss   seg_loss   cls_loss   dfl_loss  Instances       Size\n"
     ]
    },
    {
     "name": "stderr",
     "output_type": "stream",
     "text": [
      "      13/30      4.34G      1.252      1.393     0.5644     0.8334         12        640: 100%|██████████| 627/627 [04\n",
      "                 Class     Images  Instances      Box(P          R      mAP50  mAP50-95)     Mask(P          R      mA"
     ]
    },
    {
     "name": "stdout",
     "output_type": "stream",
     "text": [
      "                   all        879       1649       0.91       0.91      0.954      0.396      0.859      0.875      0.871      0.361\n"
     ]
    },
    {
     "name": "stderr",
     "output_type": "stream",
     "text": [
      "\n"
     ]
    },
    {
     "name": "stdout",
     "output_type": "stream",
     "text": [
      "\n",
      "      Epoch    GPU_mem   box_loss   seg_loss   cls_loss   dfl_loss  Instances       Size\n"
     ]
    },
    {
     "name": "stderr",
     "output_type": "stream",
     "text": [
      "      14/30      4.33G      1.258      1.366     0.5649     0.8309          8        640: 100%|██████████| 627/627 [04\n",
      "                 Class     Images  Instances      Box(P          R      mAP50  mAP50-95)     Mask(P          R      mA"
     ]
    },
    {
     "name": "stdout",
     "output_type": "stream",
     "text": [
      "                   all        879       1649      0.872      0.797      0.915      0.411      0.673      0.714      0.715      0.309\n"
     ]
    },
    {
     "name": "stderr",
     "output_type": "stream",
     "text": [
      "\n"
     ]
    },
    {
     "name": "stdout",
     "output_type": "stream",
     "text": [
      "\n",
      "      Epoch    GPU_mem   box_loss   seg_loss   cls_loss   dfl_loss  Instances       Size\n"
     ]
    },
    {
     "name": "stderr",
     "output_type": "stream",
     "text": [
      "      15/30      4.35G      1.228      1.323     0.5488     0.8278         11        640: 100%|██████████| 627/627 [04\n",
      "                 Class     Images  Instances      Box(P          R      mAP50  mAP50-95)     Mask(P          R      mA"
     ]
    },
    {
     "name": "stdout",
     "output_type": "stream",
     "text": [
      "                   all        879       1649      0.972      0.879      0.966      0.468      0.902      0.819      0.863      0.396\n"
     ]
    },
    {
     "name": "stderr",
     "output_type": "stream",
     "text": [
      "\n"
     ]
    },
    {
     "name": "stdout",
     "output_type": "stream",
     "text": [
      "\n",
      "      Epoch    GPU_mem   box_loss   seg_loss   cls_loss   dfl_loss  Instances       Size\n"
     ]
    },
    {
     "name": "stderr",
     "output_type": "stream",
     "text": [
      "      16/30      4.33G      1.218      1.332     0.5481     0.8281         16        640: 100%|██████████| 627/627 [04\n",
      "                 Class     Images  Instances      Box(P          R      mAP50  mAP50-95)     Mask(P          R      mA"
     ]
    },
    {
     "name": "stdout",
     "output_type": "stream",
     "text": [
      "                   all        879       1649      0.928      0.944      0.972      0.453      0.848      0.868      0.833      0.398\n"
     ]
    },
    {
     "name": "stderr",
     "output_type": "stream",
     "text": [
      "\n"
     ]
    },
    {
     "name": "stdout",
     "output_type": "stream",
     "text": [
      "\n",
      "      Epoch    GPU_mem   box_loss   seg_loss   cls_loss   dfl_loss  Instances       Size\n"
     ]
    },
    {
     "name": "stderr",
     "output_type": "stream",
     "text": [
      "      17/30      4.25G      1.194      1.315      0.537     0.8244         13        640: 100%|██████████| 627/627 [04\n",
      "                 Class     Images  Instances      Box(P          R      mAP50  mAP50-95)     Mask(P          R      mA"
     ]
    },
    {
     "name": "stdout",
     "output_type": "stream",
     "text": [
      "                   all        879       1649      0.928      0.958      0.977      0.459      0.804      0.841      0.787      0.345\n"
     ]
    },
    {
     "name": "stderr",
     "output_type": "stream",
     "text": [
      "\n"
     ]
    },
    {
     "name": "stdout",
     "output_type": "stream",
     "text": [
      "\n",
      "      Epoch    GPU_mem   box_loss   seg_loss   cls_loss   dfl_loss  Instances       Size\n"
     ]
    },
    {
     "name": "stderr",
     "output_type": "stream",
     "text": [
      "      18/30      4.35G      1.195      1.321     0.5294     0.8246         12        640: 100%|██████████| 627/627 [04\n",
      "                 Class     Images  Instances      Box(P          R      mAP50  mAP50-95)     Mask(P          R      mA"
     ]
    },
    {
     "name": "stdout",
     "output_type": "stream",
     "text": [
      "                   all        879       1649      0.951      0.903      0.963      0.447      0.839      0.796       0.78      0.337\n"
     ]
    },
    {
     "name": "stderr",
     "output_type": "stream",
     "text": [
      "\n"
     ]
    },
    {
     "name": "stdout",
     "output_type": "stream",
     "text": [
      "\n",
      "      Epoch    GPU_mem   box_loss   seg_loss   cls_loss   dfl_loss  Instances       Size\n"
     ]
    },
    {
     "name": "stderr",
     "output_type": "stream",
     "text": [
      "      19/30      4.33G      1.181      1.335     0.5281      0.827         11        640: 100%|██████████| 627/627 [04\n",
      "                 Class     Images  Instances      Box(P          R      mAP50  mAP50-95)     Mask(P          R      mA"
     ]
    },
    {
     "name": "stdout",
     "output_type": "stream",
     "text": [
      "                   all        879       1649      0.965      0.941      0.975       0.43      0.822      0.814      0.753      0.302\n"
     ]
    },
    {
     "name": "stderr",
     "output_type": "stream",
     "text": [
      "\n"
     ]
    },
    {
     "name": "stdout",
     "output_type": "stream",
     "text": [
      "\n",
      "      Epoch    GPU_mem   box_loss   seg_loss   cls_loss   dfl_loss  Instances       Size\n"
     ]
    },
    {
     "name": "stderr",
     "output_type": "stream",
     "text": [
      "      20/30      4.35G      1.153      1.285     0.5225     0.8203         10        640: 100%|██████████| 627/627 [04\n",
      "                 Class     Images  Instances      Box(P          R      mAP50  mAP50-95)     Mask(P          R      mA"
     ]
    },
    {
     "name": "stdout",
     "output_type": "stream",
     "text": [
      "                   all        879       1649      0.927       0.91      0.969      0.486      0.829      0.807      0.814      0.338\n"
     ]
    },
    {
     "name": "stderr",
     "output_type": "stream",
     "text": [
      "\n"
     ]
    },
    {
     "name": "stdout",
     "output_type": "stream",
     "text": [
      "Closing dataloader mosaic\n",
      "\n",
      "      Epoch    GPU_mem   box_loss   seg_loss   cls_loss   dfl_loss  Instances       Size\n"
     ]
    },
    {
     "name": "stderr",
     "output_type": "stream",
     "text": [
      "      21/30      4.34G      1.149      1.313     0.5261     0.8279          8        640: 100%|██████████| 627/627 [04\n",
      "                 Class     Images  Instances      Box(P          R      mAP50  mAP50-95)     Mask(P          R      mA"
     ]
    },
    {
     "name": "stdout",
     "output_type": "stream",
     "text": [
      "                   all        879       1649      0.969      0.973       0.98      0.473      0.895      0.894      0.871       0.33\n"
     ]
    },
    {
     "name": "stderr",
     "output_type": "stream",
     "text": [
      "\n"
     ]
    },
    {
     "name": "stdout",
     "output_type": "stream",
     "text": [
      "\n",
      "      Epoch    GPU_mem   box_loss   seg_loss   cls_loss   dfl_loss  Instances       Size\n"
     ]
    },
    {
     "name": "stderr",
     "output_type": "stream",
     "text": [
      "      22/30      4.33G      1.135      1.299     0.5174     0.8262          8        640: 100%|██████████| 627/627 [04\n",
      "                 Class     Images  Instances      Box(P          R      mAP50  mAP50-95)     Mask(P          R      mA"
     ]
    },
    {
     "name": "stdout",
     "output_type": "stream",
     "text": [
      "                   all        879       1649      0.912      0.878      0.953      0.467      0.829      0.796      0.816      0.323\n"
     ]
    },
    {
     "name": "stderr",
     "output_type": "stream",
     "text": [
      "\n"
     ]
    },
    {
     "name": "stdout",
     "output_type": "stream",
     "text": [
      "\n",
      "      Epoch    GPU_mem   box_loss   seg_loss   cls_loss   dfl_loss  Instances       Size\n"
     ]
    },
    {
     "name": "stderr",
     "output_type": "stream",
     "text": [
      "      23/30      4.33G       1.11      1.273     0.5118     0.8238          8        640: 100%|██████████| 627/627 [04\n",
      "                 Class     Images  Instances      Box(P          R      mAP50  mAP50-95)     Mask(P          R      mA"
     ]
    },
    {
     "name": "stdout",
     "output_type": "stream",
     "text": [
      "                   all        879       1649      0.966      0.945      0.974        0.5      0.903      0.884      0.872      0.374\n"
     ]
    },
    {
     "name": "stderr",
     "output_type": "stream",
     "text": [
      "\n"
     ]
    },
    {
     "name": "stdout",
     "output_type": "stream",
     "text": [
      "\n",
      "      Epoch    GPU_mem   box_loss   seg_loss   cls_loss   dfl_loss  Instances       Size\n"
     ]
    },
    {
     "name": "stderr",
     "output_type": "stream",
     "text": [
      "      24/30      4.33G      1.094      1.259     0.5019     0.8245          7        640: 100%|██████████| 627/627 [04\n",
      "                 Class     Images  Instances      Box(P          R      mAP50  mAP50-95)     Mask(P          R      mA"
     ]
    },
    {
     "name": "stdout",
     "output_type": "stream",
     "text": [
      "                   all        879       1649      0.963      0.923      0.973      0.468      0.859      0.831      0.818      0.365\n"
     ]
    },
    {
     "name": "stderr",
     "output_type": "stream",
     "text": [
      "\n"
     ]
    },
    {
     "name": "stdout",
     "output_type": "stream",
     "text": [
      "\n",
      "      Epoch    GPU_mem   box_loss   seg_loss   cls_loss   dfl_loss  Instances       Size\n"
     ]
    },
    {
     "name": "stderr",
     "output_type": "stream",
     "text": [
      "      25/30      4.25G      1.083       1.23     0.4972     0.8211          8        640: 100%|██████████| 627/627 [04\n",
      "                 Class     Images  Instances      Box(P          R      mAP50  mAP50-95)     Mask(P          R      mA"
     ]
    },
    {
     "name": "stdout",
     "output_type": "stream",
     "text": [
      "                   all        879       1649      0.972      0.953      0.978       0.46      0.926      0.907      0.915      0.398\n"
     ]
    },
    {
     "name": "stderr",
     "output_type": "stream",
     "text": [
      "\n"
     ]
    },
    {
     "name": "stdout",
     "output_type": "stream",
     "text": [
      "\n",
      "      Epoch    GPU_mem   box_loss   seg_loss   cls_loss   dfl_loss  Instances       Size\n"
     ]
    },
    {
     "name": "stderr",
     "output_type": "stream",
     "text": [
      "      26/30      4.34G      1.062      1.212     0.4817     0.8172          8        640: 100%|██████████| 627/627 [04\n",
      "                 Class     Images  Instances      Box(P          R      mAP50  mAP50-95)     Mask(P          R      mA"
     ]
    },
    {
     "name": "stdout",
     "output_type": "stream",
     "text": [
      "                   all        879       1649      0.969       0.96      0.976      0.476      0.884      0.875      0.848      0.387\n"
     ]
    },
    {
     "name": "stderr",
     "output_type": "stream",
     "text": [
      "\n"
     ]
    },
    {
     "name": "stdout",
     "output_type": "stream",
     "text": [
      "\n",
      "      Epoch    GPU_mem   box_loss   seg_loss   cls_loss   dfl_loss  Instances       Size\n"
     ]
    },
    {
     "name": "stderr",
     "output_type": "stream",
     "text": [
      "      27/30      4.19G       1.05       1.18     0.4748     0.8181          8        640: 100%|██████████| 627/627 [04\n",
      "                 Class     Images  Instances      Box(P          R      mAP50  mAP50-95)     Mask(P          R      mA"
     ]
    },
    {
     "name": "stdout",
     "output_type": "stream",
     "text": [
      "                   all        879       1649      0.955      0.887      0.947       0.46      0.857      0.802      0.814      0.364\n"
     ]
    },
    {
     "name": "stderr",
     "output_type": "stream",
     "text": [
      "\n"
     ]
    },
    {
     "name": "stdout",
     "output_type": "stream",
     "text": [
      "\n",
      "      Epoch    GPU_mem   box_loss   seg_loss   cls_loss   dfl_loss  Instances       Size\n"
     ]
    },
    {
     "name": "stderr",
     "output_type": "stream",
     "text": [
      "      28/30      4.33G      1.031      1.173     0.4641     0.8171          8        640: 100%|██████████| 627/627 [04\n",
      "                 Class     Images  Instances      Box(P          R      mAP50  mAP50-95)     Mask(P          R      mA"
     ]
    },
    {
     "name": "stdout",
     "output_type": "stream",
     "text": [
      "                   all        879       1649      0.941      0.855      0.934      0.457      0.812      0.739      0.753      0.312\n"
     ]
    },
    {
     "name": "stderr",
     "output_type": "stream",
     "text": [
      "\n"
     ]
    },
    {
     "name": "stdout",
     "output_type": "stream",
     "text": [
      "\n",
      "      Epoch    GPU_mem   box_loss   seg_loss   cls_loss   dfl_loss  Instances       Size\n"
     ]
    },
    {
     "name": "stderr",
     "output_type": "stream",
     "text": [
      "      29/30       4.2G      1.013      1.173     0.4628     0.8154          7        640: 100%|██████████| 627/627 [04\n",
      "                 Class     Images  Instances      Box(P          R      mAP50  mAP50-95)     Mask(P          R      mA"
     ]
    },
    {
     "name": "stdout",
     "output_type": "stream",
     "text": [
      "                   all        879       1649      0.959      0.921      0.965      0.489      0.869      0.831      0.826      0.342\n"
     ]
    },
    {
     "name": "stderr",
     "output_type": "stream",
     "text": [
      "\n"
     ]
    },
    {
     "name": "stdout",
     "output_type": "stream",
     "text": [
      "\n",
      "      Epoch    GPU_mem   box_loss   seg_loss   cls_loss   dfl_loss  Instances       Size\n"
     ]
    },
    {
     "name": "stderr",
     "output_type": "stream",
     "text": [
      "      30/30      4.19G     0.9957      1.152     0.4542     0.8117          8        640: 100%|██████████| 627/627 [04\n",
      "                 Class     Images  Instances      Box(P          R      mAP50  mAP50-95)     Mask(P          R      mA"
     ]
    },
    {
     "name": "stdout",
     "output_type": "stream",
     "text": [
      "                   all        879       1649      0.961      0.824      0.914      0.449      0.862      0.742      0.778      0.343\n"
     ]
    },
    {
     "name": "stderr",
     "output_type": "stream",
     "text": [
      "\n"
     ]
    },
    {
     "name": "stdout",
     "output_type": "stream",
     "text": [
      "\n",
      "30 epochs completed in 2.402 hours.\n",
      "Optimizer stripped from runs/segment/train10/weights/last.pt, 54.8MB\n",
      "Optimizer stripped from runs/segment/train10/weights/best.pt, 54.8MB\n",
      "\n",
      "Validating runs/segment/train10/weights/best.pt...\n",
      "Ultralytics 8.3.28 🚀 Python-3.12.3 torch-2.5.1+cu124 CUDA:0 (NVIDIA GeForce RTX 3050 6GB Laptop GPU, 5834MiB)\n",
      "YOLOv8m-seg summary (fused): 245 layers, 27,222,963 parameters, 0 gradients, 110.0 GFLOPs\n"
     ]
    },
    {
     "name": "stderr",
     "output_type": "stream",
     "text": [
      "                 Class     Images  Instances      Box(P          R      mAP50  mAP50-95)     Mask(P          R      mA\n"
     ]
    },
    {
     "name": "stdout",
     "output_type": "stream",
     "text": [
      "                   all        879       1649      0.966      0.945      0.974        0.5      0.902      0.884      0.872      0.374\n",
      "Speed: 0.2ms preprocess, 12.8ms inference, 0.0ms loss, 0.3ms postprocess per image\n",
      "Results saved to \u001b[1mruns/segment/train10\u001b[0m\n"
     ]
    },
    {
     "data": {
      "text/plain": [
       "ultralytics.utils.metrics.SegmentMetrics object with attributes:\n",
       "\n",
       "ap_class_index: array([0])\n",
       "box: ultralytics.utils.metrics.Metric object\n",
       "confusion_matrix: <ultralytics.utils.metrics.ConfusionMatrix object at 0x7a5c4e0201a0>\n",
       "curves: ['Precision-Recall(B)', 'F1-Confidence(B)', 'Precision-Confidence(B)', 'Recall-Confidence(B)', 'Precision-Recall(M)', 'F1-Confidence(M)', 'Precision-Confidence(M)', 'Recall-Confidence(M)']\n",
       "curves_results: [[array([          0,    0.001001,    0.002002,    0.003003,    0.004004,    0.005005,    0.006006,    0.007007,    0.008008,    0.009009,     0.01001,    0.011011,    0.012012,    0.013013,    0.014014,    0.015015,    0.016016,    0.017017,    0.018018,    0.019019,     0.02002,    0.021021,    0.022022,    0.023023,\n",
       "          0.024024,    0.025025,    0.026026,    0.027027,    0.028028,    0.029029,     0.03003,    0.031031,    0.032032,    0.033033,    0.034034,    0.035035,    0.036036,    0.037037,    0.038038,    0.039039,     0.04004,    0.041041,    0.042042,    0.043043,    0.044044,    0.045045,    0.046046,    0.047047,\n",
       "          0.048048,    0.049049,     0.05005,    0.051051,    0.052052,    0.053053,    0.054054,    0.055055,    0.056056,    0.057057,    0.058058,    0.059059,     0.06006,    0.061061,    0.062062,    0.063063,    0.064064,    0.065065,    0.066066,    0.067067,    0.068068,    0.069069,     0.07007,    0.071071,\n",
       "          0.072072,    0.073073,    0.074074,    0.075075,    0.076076,    0.077077,    0.078078,    0.079079,     0.08008,    0.081081,    0.082082,    0.083083,    0.084084,    0.085085,    0.086086,    0.087087,    0.088088,    0.089089,     0.09009,    0.091091,    0.092092,    0.093093,    0.094094,    0.095095,\n",
       "          0.096096,    0.097097,    0.098098,    0.099099,      0.1001,      0.1011,      0.1021,      0.1031,      0.1041,     0.10511,     0.10611,     0.10711,     0.10811,     0.10911,     0.11011,     0.11111,     0.11211,     0.11311,     0.11411,     0.11512,     0.11612,     0.11712,     0.11812,     0.11912,\n",
       "           0.12012,     0.12112,     0.12212,     0.12312,     0.12412,     0.12513,     0.12613,     0.12713,     0.12813,     0.12913,     0.13013,     0.13113,     0.13213,     0.13313,     0.13413,     0.13514,     0.13614,     0.13714,     0.13814,     0.13914,     0.14014,     0.14114,     0.14214,     0.14314,\n",
       "           0.14414,     0.14515,     0.14615,     0.14715,     0.14815,     0.14915,     0.15015,     0.15115,     0.15215,     0.15315,     0.15415,     0.15516,     0.15616,     0.15716,     0.15816,     0.15916,     0.16016,     0.16116,     0.16216,     0.16316,     0.16416,     0.16517,     0.16617,     0.16717,\n",
       "           0.16817,     0.16917,     0.17017,     0.17117,     0.17217,     0.17317,     0.17417,     0.17518,     0.17618,     0.17718,     0.17818,     0.17918,     0.18018,     0.18118,     0.18218,     0.18318,     0.18418,     0.18519,     0.18619,     0.18719,     0.18819,     0.18919,     0.19019,     0.19119,\n",
       "           0.19219,     0.19319,     0.19419,      0.1952,      0.1962,      0.1972,      0.1982,      0.1992,      0.2002,      0.2012,      0.2022,      0.2032,      0.2042,     0.20521,     0.20621,     0.20721,     0.20821,     0.20921,     0.21021,     0.21121,     0.21221,     0.21321,     0.21421,     0.21522,\n",
       "           0.21622,     0.21722,     0.21822,     0.21922,     0.22022,     0.22122,     0.22222,     0.22322,     0.22422,     0.22523,     0.22623,     0.22723,     0.22823,     0.22923,     0.23023,     0.23123,     0.23223,     0.23323,     0.23423,     0.23524,     0.23624,     0.23724,     0.23824,     0.23924,\n",
       "           0.24024,     0.24124,     0.24224,     0.24324,     0.24424,     0.24525,     0.24625,     0.24725,     0.24825,     0.24925,     0.25025,     0.25125,     0.25225,     0.25325,     0.25425,     0.25526,     0.25626,     0.25726,     0.25826,     0.25926,     0.26026,     0.26126,     0.26226,     0.26326,\n",
       "           0.26426,     0.26527,     0.26627,     0.26727,     0.26827,     0.26927,     0.27027,     0.27127,     0.27227,     0.27327,     0.27427,     0.27528,     0.27628,     0.27728,     0.27828,     0.27928,     0.28028,     0.28128,     0.28228,     0.28328,     0.28428,     0.28529,     0.28629,     0.28729,\n",
       "           0.28829,     0.28929,     0.29029,     0.29129,     0.29229,     0.29329,     0.29429,      0.2953,      0.2963,      0.2973,      0.2983,      0.2993,      0.3003,      0.3013,      0.3023,      0.3033,      0.3043,     0.30531,     0.30631,     0.30731,     0.30831,     0.30931,     0.31031,     0.31131,\n",
       "           0.31231,     0.31331,     0.31431,     0.31532,     0.31632,     0.31732,     0.31832,     0.31932,     0.32032,     0.32132,     0.32232,     0.32332,     0.32432,     0.32533,     0.32633,     0.32733,     0.32833,     0.32933,     0.33033,     0.33133,     0.33233,     0.33333,     0.33433,     0.33534,\n",
       "           0.33634,     0.33734,     0.33834,     0.33934,     0.34034,     0.34134,     0.34234,     0.34334,     0.34434,     0.34535,     0.34635,     0.34735,     0.34835,     0.34935,     0.35035,     0.35135,     0.35235,     0.35335,     0.35435,     0.35536,     0.35636,     0.35736,     0.35836,     0.35936,\n",
       "           0.36036,     0.36136,     0.36236,     0.36336,     0.36436,     0.36537,     0.36637,     0.36737,     0.36837,     0.36937,     0.37037,     0.37137,     0.37237,     0.37337,     0.37437,     0.37538,     0.37638,     0.37738,     0.37838,     0.37938,     0.38038,     0.38138,     0.38238,     0.38338,\n",
       "           0.38438,     0.38539,     0.38639,     0.38739,     0.38839,     0.38939,     0.39039,     0.39139,     0.39239,     0.39339,     0.39439,      0.3954,      0.3964,      0.3974,      0.3984,      0.3994,      0.4004,      0.4014,      0.4024,      0.4034,      0.4044,     0.40541,     0.40641,     0.40741,\n",
       "           0.40841,     0.40941,     0.41041,     0.41141,     0.41241,     0.41341,     0.41441,     0.41542,     0.41642,     0.41742,     0.41842,     0.41942,     0.42042,     0.42142,     0.42242,     0.42342,     0.42442,     0.42543,     0.42643,     0.42743,     0.42843,     0.42943,     0.43043,     0.43143,\n",
       "           0.43243,     0.43343,     0.43443,     0.43544,     0.43644,     0.43744,     0.43844,     0.43944,     0.44044,     0.44144,     0.44244,     0.44344,     0.44444,     0.44545,     0.44645,     0.44745,     0.44845,     0.44945,     0.45045,     0.45145,     0.45245,     0.45345,     0.45445,     0.45546,\n",
       "           0.45646,     0.45746,     0.45846,     0.45946,     0.46046,     0.46146,     0.46246,     0.46346,     0.46446,     0.46547,     0.46647,     0.46747,     0.46847,     0.46947,     0.47047,     0.47147,     0.47247,     0.47347,     0.47447,     0.47548,     0.47648,     0.47748,     0.47848,     0.47948,\n",
       "           0.48048,     0.48148,     0.48248,     0.48348,     0.48448,     0.48549,     0.48649,     0.48749,     0.48849,     0.48949,     0.49049,     0.49149,     0.49249,     0.49349,     0.49449,      0.4955,      0.4965,      0.4975,      0.4985,      0.4995,      0.5005,      0.5015,      0.5025,      0.5035,\n",
       "            0.5045,     0.50551,     0.50651,     0.50751,     0.50851,     0.50951,     0.51051,     0.51151,     0.51251,     0.51351,     0.51451,     0.51552,     0.51652,     0.51752,     0.51852,     0.51952,     0.52052,     0.52152,     0.52252,     0.52352,     0.52452,     0.52553,     0.52653,     0.52753,\n",
       "           0.52853,     0.52953,     0.53053,     0.53153,     0.53253,     0.53353,     0.53453,     0.53554,     0.53654,     0.53754,     0.53854,     0.53954,     0.54054,     0.54154,     0.54254,     0.54354,     0.54454,     0.54555,     0.54655,     0.54755,     0.54855,     0.54955,     0.55055,     0.55155,\n",
       "           0.55255,     0.55355,     0.55455,     0.55556,     0.55656,     0.55756,     0.55856,     0.55956,     0.56056,     0.56156,     0.56256,     0.56356,     0.56456,     0.56557,     0.56657,     0.56757,     0.56857,     0.56957,     0.57057,     0.57157,     0.57257,     0.57357,     0.57457,     0.57558,\n",
       "           0.57658,     0.57758,     0.57858,     0.57958,     0.58058,     0.58158,     0.58258,     0.58358,     0.58458,     0.58559,     0.58659,     0.58759,     0.58859,     0.58959,     0.59059,     0.59159,     0.59259,     0.59359,     0.59459,      0.5956,      0.5966,      0.5976,      0.5986,      0.5996,\n",
       "            0.6006,      0.6016,      0.6026,      0.6036,      0.6046,     0.60561,     0.60661,     0.60761,     0.60861,     0.60961,     0.61061,     0.61161,     0.61261,     0.61361,     0.61461,     0.61562,     0.61662,     0.61762,     0.61862,     0.61962,     0.62062,     0.62162,     0.62262,     0.62362,\n",
       "           0.62462,     0.62563,     0.62663,     0.62763,     0.62863,     0.62963,     0.63063,     0.63163,     0.63263,     0.63363,     0.63463,     0.63564,     0.63664,     0.63764,     0.63864,     0.63964,     0.64064,     0.64164,     0.64264,     0.64364,     0.64464,     0.64565,     0.64665,     0.64765,\n",
       "           0.64865,     0.64965,     0.65065,     0.65165,     0.65265,     0.65365,     0.65465,     0.65566,     0.65666,     0.65766,     0.65866,     0.65966,     0.66066,     0.66166,     0.66266,     0.66366,     0.66466,     0.66567,     0.66667,     0.66767,     0.66867,     0.66967,     0.67067,     0.67167,\n",
       "           0.67267,     0.67367,     0.67467,     0.67568,     0.67668,     0.67768,     0.67868,     0.67968,     0.68068,     0.68168,     0.68268,     0.68368,     0.68468,     0.68569,     0.68669,     0.68769,     0.68869,     0.68969,     0.69069,     0.69169,     0.69269,     0.69369,     0.69469,      0.6957,\n",
       "            0.6967,      0.6977,      0.6987,      0.6997,      0.7007,      0.7017,      0.7027,      0.7037,      0.7047,     0.70571,     0.70671,     0.70771,     0.70871,     0.70971,     0.71071,     0.71171,     0.71271,     0.71371,     0.71471,     0.71572,     0.71672,     0.71772,     0.71872,     0.71972,\n",
       "           0.72072,     0.72172,     0.72272,     0.72372,     0.72472,     0.72573,     0.72673,     0.72773,     0.72873,     0.72973,     0.73073,     0.73173,     0.73273,     0.73373,     0.73473,     0.73574,     0.73674,     0.73774,     0.73874,     0.73974,     0.74074,     0.74174,     0.74274,     0.74374,\n",
       "           0.74474,     0.74575,     0.74675,     0.74775,     0.74875,     0.74975,     0.75075,     0.75175,     0.75275,     0.75375,     0.75475,     0.75576,     0.75676,     0.75776,     0.75876,     0.75976,     0.76076,     0.76176,     0.76276,     0.76376,     0.76476,     0.76577,     0.76677,     0.76777,\n",
       "           0.76877,     0.76977,     0.77077,     0.77177,     0.77277,     0.77377,     0.77477,     0.77578,     0.77678,     0.77778,     0.77878,     0.77978,     0.78078,     0.78178,     0.78278,     0.78378,     0.78478,     0.78579,     0.78679,     0.78779,     0.78879,     0.78979,     0.79079,     0.79179,\n",
       "           0.79279,     0.79379,     0.79479,      0.7958,      0.7968,      0.7978,      0.7988,      0.7998,      0.8008,      0.8018,      0.8028,      0.8038,      0.8048,     0.80581,     0.80681,     0.80781,     0.80881,     0.80981,     0.81081,     0.81181,     0.81281,     0.81381,     0.81481,     0.81582,\n",
       "           0.81682,     0.81782,     0.81882,     0.81982,     0.82082,     0.82182,     0.82282,     0.82382,     0.82482,     0.82583,     0.82683,     0.82783,     0.82883,     0.82983,     0.83083,     0.83183,     0.83283,     0.83383,     0.83483,     0.83584,     0.83684,     0.83784,     0.83884,     0.83984,\n",
       "           0.84084,     0.84184,     0.84284,     0.84384,     0.84484,     0.84585,     0.84685,     0.84785,     0.84885,     0.84985,     0.85085,     0.85185,     0.85285,     0.85385,     0.85485,     0.85586,     0.85686,     0.85786,     0.85886,     0.85986,     0.86086,     0.86186,     0.86286,     0.86386,\n",
       "           0.86486,     0.86587,     0.86687,     0.86787,     0.86887,     0.86987,     0.87087,     0.87187,     0.87287,     0.87387,     0.87487,     0.87588,     0.87688,     0.87788,     0.87888,     0.87988,     0.88088,     0.88188,     0.88288,     0.88388,     0.88488,     0.88589,     0.88689,     0.88789,\n",
       "           0.88889,     0.88989,     0.89089,     0.89189,     0.89289,     0.89389,     0.89489,      0.8959,      0.8969,      0.8979,      0.8989,      0.8999,      0.9009,      0.9019,      0.9029,      0.9039,      0.9049,     0.90591,     0.90691,     0.90791,     0.90891,     0.90991,     0.91091,     0.91191,\n",
       "           0.91291,     0.91391,     0.91491,     0.91592,     0.91692,     0.91792,     0.91892,     0.91992,     0.92092,     0.92192,     0.92292,     0.92392,     0.92492,     0.92593,     0.92693,     0.92793,     0.92893,     0.92993,     0.93093,     0.93193,     0.93293,     0.93393,     0.93493,     0.93594,\n",
       "           0.93694,     0.93794,     0.93894,     0.93994,     0.94094,     0.94194,     0.94294,     0.94394,     0.94494,     0.94595,     0.94695,     0.94795,     0.94895,     0.94995,     0.95095,     0.95195,     0.95295,     0.95395,     0.95495,     0.95596,     0.95696,     0.95796,     0.95896,     0.95996,\n",
       "           0.96096,     0.96196,     0.96296,     0.96396,     0.96496,     0.96597,     0.96697,     0.96797,     0.96897,     0.96997,     0.97097,     0.97197,     0.97297,     0.97397,     0.97497,     0.97598,     0.97698,     0.97798,     0.97898,     0.97998,     0.98098,     0.98198,     0.98298,     0.98398,\n",
       "           0.98498,     0.98599,     0.98699,     0.98799,     0.98899,     0.98999,     0.99099,     0.99199,     0.99299,     0.99399,     0.99499,       0.996,       0.997,       0.998,       0.999,           1]), array([[          1,           1,           1,           1,           1,           1,           1,           1,           1,           1,           1,           1,           1,           1,           1,           1,           1,           1,           1,           1,           1,           1,           1,\n",
       "                  1,           1,           1,           1,           1,           1,           1,           1,           1,           1,           1,           1,           1,           1,           1,           1,           1,           1,           1,           1,           1,           1,           1,\n",
       "                  1,           1,           1,           1,           1,           1,           1,           1,           1,           1,           1,           1,           1,           1,           1,           1,           1,           1,           1,           1,           1,           1,           1,\n",
       "                  1,           1,           1,           1,           1,           1,           1,           1,           1,           1,           1,           1,           1,           1,           1,           1,           1,           1,           1,           1,           1,           1,           1,\n",
       "                  1,           1,           1,           1,           1,           1,           1,           1,           1,           1,           1,           1,           1,           1,           1,           1,           1,           1,           1,           1,           1,           1,           1,\n",
       "                  1,           1,           1,           1,           1,           1,           1,           1,           1,           1,           1,           1,           1,           1,           1,           1,     0.99768,     0.99768,     0.99768,     0.99768,     0.99768,     0.99768,     0.99768,\n",
       "            0.99768,     0.99768,     0.99768,     0.99768,     0.99768,     0.99768,     0.99768,     0.99768,     0.99768,     0.99768,     0.99768,     0.99768,     0.99768,     0.99768,     0.99768,     0.99768,     0.99768,     0.99768,     0.99768,     0.99768,     0.99768,     0.99768,     0.99768,\n",
       "            0.99768,     0.99768,     0.99768,     0.99768,     0.99768,     0.99768,     0.99768,     0.99768,     0.99768,     0.99768,     0.99768,     0.99768,     0.99768,     0.99768,     0.99768,     0.99768,     0.99768,     0.99768,     0.99768,     0.99768,     0.99768,     0.99768,     0.99768,\n",
       "            0.99768,     0.99768,     0.99768,     0.99768,     0.99768,     0.99768,     0.99768,     0.99768,     0.99768,     0.99768,     0.99768,     0.99768,     0.99768,     0.99768,     0.99768,     0.99768,     0.99768,     0.99768,     0.99768,     0.99768,     0.99768,     0.99768,     0.99768,\n",
       "            0.99768,     0.99768,     0.99768,     0.99768,     0.99768,     0.99768,     0.99768,     0.99768,     0.99768,     0.99768,     0.99768,     0.99768,     0.99768,     0.99768,     0.99768,     0.99768,     0.99768,     0.99768,     0.99768,     0.99768,     0.99768,     0.99768,     0.99768,\n",
       "            0.99768,     0.99768,     0.99768,     0.99768,     0.99768,     0.99768,     0.99768,     0.99768,     0.99768,     0.99768,     0.99768,     0.99768,     0.99768,     0.99768,     0.99768,     0.99768,     0.99768,     0.99768,     0.99768,     0.99768,     0.99768,     0.99768,     0.99768,\n",
       "            0.99768,     0.99768,     0.99768,     0.99768,     0.99768,     0.99768,     0.99768,     0.99768,     0.99565,     0.99565,     0.99565,     0.99565,     0.99565,     0.99565,     0.99565,     0.99565,     0.99565,     0.99565,     0.99565,     0.99565,     0.99565,     0.99565,     0.99565,\n",
       "            0.99565,     0.99565,     0.99478,     0.99478,     0.99478,     0.99478,     0.99478,     0.99478,     0.99478,     0.99478,     0.99478,     0.99478,     0.99478,     0.99478,     0.99478,     0.99478,     0.99478,     0.99478,     0.99478,     0.99478,     0.99478,     0.99478,     0.99478,\n",
       "            0.99478,     0.99478,     0.99478,     0.99478,     0.99478,     0.99478,     0.99478,     0.99478,     0.99478,     0.99478,     0.99478,     0.99478,     0.99478,     0.99478,     0.99478,     0.99478,     0.99478,     0.99478,     0.99478,     0.99478,     0.99478,     0.99478,     0.99478,\n",
       "            0.99478,     0.99478,     0.99478,     0.99478,     0.99478,     0.99478,     0.99478,     0.99478,     0.99478,     0.99478,     0.99478,     0.99478,     0.99478,     0.99478,     0.99478,     0.99478,     0.99478,     0.99478,     0.99478,     0.99478,     0.99478,     0.99478,     0.99478,\n",
       "            0.99478,     0.99478,      0.9936,      0.9936,      0.9936,      0.9936,      0.9936,      0.9936,      0.9936,      0.9936,      0.9936,      0.9936,      0.9936,      0.9936,      0.9936,      0.9936,      0.9936,      0.9936,      0.9936,      0.9936,      0.9936,      0.9936,      0.9936,\n",
       "             0.9936,      0.9936,      0.9936,      0.9936,      0.9936,      0.9936,      0.9936,      0.9936,      0.9936,     0.99274,     0.99274,     0.99274,     0.99274,     0.99274,     0.99274,     0.99274,     0.99274,     0.99274,     0.99274,     0.99274,     0.99274,     0.99274,     0.99274,\n",
       "            0.99274,     0.99274,     0.99274,     0.99274,     0.99274,     0.99274,     0.99274,     0.99274,     0.99274,     0.99274,     0.99274,     0.99274,     0.99274,     0.99274,     0.99274,     0.99274,     0.99274,     0.99274,     0.99274,     0.99274,     0.99274,     0.99274,     0.99274,\n",
       "            0.99274,     0.99148,     0.99148,     0.99148,     0.99148,     0.99148,     0.99148,     0.99148,     0.99148,      0.9901,      0.9901,     0.98918,     0.98918,     0.98918,     0.98918,     0.98918,     0.98918,     0.98918,     0.98918,     0.98918,     0.98918,     0.98918,     0.98918,\n",
       "            0.98918,     0.98918,     0.98918,     0.98918,     0.98918,     0.98918,     0.98918,     0.98918,     0.98918,     0.98918,     0.98918,     0.98918,     0.98918,     0.98918,     0.98918,     0.98918,     0.98918,     0.98918,     0.98918,     0.98918,     0.98918,     0.98918,     0.98918,\n",
       "            0.98918,     0.98918,     0.98918,     0.98918,     0.98918,     0.98918,     0.98918,     0.98918,     0.98918,     0.98918,     0.98918,     0.98918,     0.98918,     0.98918,     0.98918,     0.98918,     0.98918,     0.98918,     0.98918,     0.98918,     0.98918,     0.98918,     0.98918,\n",
       "            0.98918,     0.98918,     0.98918,     0.98918,     0.98918,     0.98918,     0.98918,     0.98918,     0.98918,     0.98918,     0.98918,     0.98918,     0.98918,     0.98918,     0.98918,     0.98918,     0.98918,     0.98918,     0.98918,     0.98918,     0.98918,     0.98918,     0.98918,\n",
       "            0.98918,     0.98918,     0.98918,     0.98918,     0.98918,     0.98918,     0.98918,     0.98918,     0.98918,     0.98918,     0.98918,     0.98918,     0.98918,     0.98918,     0.98918,     0.98918,     0.98918,     0.98918,     0.98918,     0.98918,     0.98918,     0.98918,     0.98918,\n",
       "            0.98918,     0.98918,     0.98918,     0.98918,     0.98918,     0.98918,     0.98918,     0.98918,     0.98918,     0.98918,     0.98918,     0.98918,     0.98918,     0.98918,     0.98918,     0.98918,     0.98918,     0.98918,     0.98918,     0.98918,     0.98918,     0.98918,     0.98918,\n",
       "            0.98918,     0.98918,     0.98918,     0.98918,     0.98918,     0.98918,     0.98918,     0.98918,     0.98918,     0.98918,     0.98918,     0.98918,     0.98918,     0.98918,     0.98918,     0.98918,     0.98918,     0.98918,     0.98918,     0.98918,     0.98918,     0.98918,     0.98918,\n",
       "            0.98918,     0.98918,     0.98918,     0.98918,     0.98918,     0.98918,     0.98918,     0.98918,     0.98918,     0.98918,     0.98918,     0.98918,     0.98918,     0.98918,     0.98918,     0.98918,     0.98918,     0.98918,     0.98918,     0.98918,     0.98918,     0.98918,     0.98918,\n",
       "            0.98918,     0.98918,     0.98918,     0.98918,     0.98918,     0.98918,     0.98918,     0.98918,     0.98918,     0.98918,     0.98918,     0.98918,     0.98854,     0.98854,     0.98854,     0.98854,     0.98854,     0.98854,     0.98854,     0.98854,     0.98854,     0.98854,     0.98854,\n",
       "            0.98854,     0.98854,     0.98854,     0.98854,     0.98854,     0.98854,     0.98854,     0.98824,     0.98824,     0.98824,     0.98824,     0.98824,     0.98824,     0.98824,     0.98824,     0.98824,     0.98824,     0.98824,     0.98824,     0.98824,     0.98824,     0.98824,     0.98824,\n",
       "            0.98824,     0.98824,     0.98824,     0.98824,     0.98824,     0.98824,     0.98824,     0.98824,     0.98824,     0.98824,     0.98824,     0.98824,     0.98824,     0.98824,     0.98824,     0.98824,     0.98824,     0.98824,     0.98824,     0.98824,     0.98824,     0.98824,     0.98824,\n",
       "            0.98824,     0.98824,     0.98824,     0.98824,     0.98824,     0.98824,     0.98824,     0.98824,     0.98824,     0.98824,     0.98824,     0.98824,     0.98824,     0.98824,     0.98824,     0.98824,     0.98824,     0.98824,     0.98824,     0.98824,     0.98824,     0.98824,     0.98824,\n",
       "            0.98824,     0.98824,     0.98824,     0.98824,     0.98824,     0.98824,     0.98824,     0.98824,     0.98824,     0.98824,     0.98824,     0.98824,     0.98824,     0.98824,     0.98824,     0.98824,     0.98824,     0.98824,     0.98824,     0.98824,     0.98824,     0.98824,     0.98824,\n",
       "            0.98824,     0.98824,     0.98824,     0.98824,     0.98824,     0.98824,     0.98824,     0.98824,     0.98824,     0.98824,     0.98824,     0.98824,     0.98824,     0.98824,     0.98824,     0.98824,     0.98824,     0.98824,     0.98824,     0.98824,     0.98824,     0.98824,     0.98824,\n",
       "            0.98824,     0.98824,     0.98824,     0.98824,     0.98824,     0.98824,     0.98824,     0.98824,     0.98824,     0.98824,     0.98824,     0.98824,     0.98824,     0.98824,     0.98824,     0.98824,     0.98824,     0.98824,     0.98824,     0.98824,     0.98824,     0.98824,     0.98824,\n",
       "            0.98824,     0.98824,     0.98824,     0.98824,     0.98824,     0.98763,     0.98763,     0.98763,     0.98763,     0.98763,     0.98763,     0.98763,     0.98763,     0.98763,     0.98763,     0.98754,     0.98754,     0.98754,     0.98754,     0.98754,     0.98754,     0.98754,     0.98754,\n",
       "            0.98754,     0.98754,     0.98754,     0.98754,     0.98754,     0.98754,     0.98754,     0.98754,     0.98754,     0.98754,     0.98754,     0.98754,     0.98754,     0.98754,     0.98754,     0.98754,     0.98754,     0.98754,     0.98754,     0.98754,     0.98754,     0.98754,     0.98754,\n",
       "            0.98754,     0.98754,     0.98754,     0.98754,     0.98754,     0.98754,     0.98754,     0.98754,     0.98754,     0.98754,     0.98754,     0.98754,     0.98723,     0.98723,     0.98723,     0.98723,     0.98723,     0.98723,     0.98723,     0.98723,     0.98723,     0.98723,     0.98723,\n",
       "            0.98723,     0.98723,     0.98723,     0.98723,     0.98723,     0.98723,     0.98723,     0.98723,     0.98723,     0.98723,     0.98723,     0.98723,     0.98723,     0.98723,     0.98723,     0.98723,     0.98682,     0.98682,     0.98682,     0.98682,     0.98682,     0.98682,     0.98682,\n",
       "            0.98682,     0.98682,     0.98682,     0.98682,     0.98682,     0.98682,     0.98682,     0.98682,     0.98682,     0.98682,     0.98682,     0.98682,     0.98624,     0.98624,     0.98624,     0.98624,     0.98624,     0.98624,     0.98558,       0.985,       0.985,       0.985,       0.985,\n",
       "              0.985,       0.985,     0.98444,     0.98444,     0.98444,     0.98444,     0.98444,     0.98444,     0.98389,     0.98389,     0.98389,     0.98389,     0.98389,     0.98389,     0.98389,      0.9833,      0.9833,      0.9833,     0.98267,     0.98141,     0.98141,     0.98141,     0.98017,\n",
       "            0.98017,     0.98017,     0.97962,     0.97962,     0.97962,     0.97962,     0.97899,     0.97773,     0.97717,     0.97717,     0.97717,     0.97591,     0.97534,     0.97534,     0.97474,     0.97419,     0.97419,     0.97419,     0.97358,     0.97315,     0.97315,     0.97315,     0.97315,\n",
       "            0.97315,     0.97315,     0.97315,     0.97206,     0.97206,     0.97206,     0.97206,     0.97206,     0.97023,     0.96981,     0.96981,     0.96981,     0.96981,     0.96981,     0.96981,     0.96934,     0.96934,     0.96934,     0.96934,     0.96883,     0.96883,     0.96883,     0.96652,\n",
       "            0.96652,     0.96652,     0.96242,     0.96242,     0.96192,     0.96192,      0.9614,      0.9614,      0.9591,     0.95795,     0.95397,     0.95397,     0.95287,     0.94724,     0.94724,     0.94674,     0.94564,     0.94009,     0.93463,     0.92707,     0.92603,     0.90764,     0.90409,\n",
       "            0.88808,     0.88086,     0.87084,     0.85016,     0.83437,      0.8229,     0.79771,      0.7928,     0.78978,      0.7774,     0.76982,     0.76919,     0.72682,     0.70568,     0.68617,     0.65349,     0.62466,     0.57799,     0.40303,     0.39941,      0.3867,     0.30772,     0.29676,\n",
       "            0.26288,     0.21997,     0.21205,     0.19266,     0.17179,     0.14315,     0.11452,    0.085893,    0.057262,    0.028631,           0]]), 'Recall', 'Precision'], [array([          0,    0.001001,    0.002002,    0.003003,    0.004004,    0.005005,    0.006006,    0.007007,    0.008008,    0.009009,     0.01001,    0.011011,    0.012012,    0.013013,    0.014014,    0.015015,    0.016016,    0.017017,    0.018018,    0.019019,     0.02002,    0.021021,    0.022022,    0.023023,\n",
       "          0.024024,    0.025025,    0.026026,    0.027027,    0.028028,    0.029029,     0.03003,    0.031031,    0.032032,    0.033033,    0.034034,    0.035035,    0.036036,    0.037037,    0.038038,    0.039039,     0.04004,    0.041041,    0.042042,    0.043043,    0.044044,    0.045045,    0.046046,    0.047047,\n",
       "          0.048048,    0.049049,     0.05005,    0.051051,    0.052052,    0.053053,    0.054054,    0.055055,    0.056056,    0.057057,    0.058058,    0.059059,     0.06006,    0.061061,    0.062062,    0.063063,    0.064064,    0.065065,    0.066066,    0.067067,    0.068068,    0.069069,     0.07007,    0.071071,\n",
       "          0.072072,    0.073073,    0.074074,    0.075075,    0.076076,    0.077077,    0.078078,    0.079079,     0.08008,    0.081081,    0.082082,    0.083083,    0.084084,    0.085085,    0.086086,    0.087087,    0.088088,    0.089089,     0.09009,    0.091091,    0.092092,    0.093093,    0.094094,    0.095095,\n",
       "          0.096096,    0.097097,    0.098098,    0.099099,      0.1001,      0.1011,      0.1021,      0.1031,      0.1041,     0.10511,     0.10611,     0.10711,     0.10811,     0.10911,     0.11011,     0.11111,     0.11211,     0.11311,     0.11411,     0.11512,     0.11612,     0.11712,     0.11812,     0.11912,\n",
       "           0.12012,     0.12112,     0.12212,     0.12312,     0.12412,     0.12513,     0.12613,     0.12713,     0.12813,     0.12913,     0.13013,     0.13113,     0.13213,     0.13313,     0.13413,     0.13514,     0.13614,     0.13714,     0.13814,     0.13914,     0.14014,     0.14114,     0.14214,     0.14314,\n",
       "           0.14414,     0.14515,     0.14615,     0.14715,     0.14815,     0.14915,     0.15015,     0.15115,     0.15215,     0.15315,     0.15415,     0.15516,     0.15616,     0.15716,     0.15816,     0.15916,     0.16016,     0.16116,     0.16216,     0.16316,     0.16416,     0.16517,     0.16617,     0.16717,\n",
       "           0.16817,     0.16917,     0.17017,     0.17117,     0.17217,     0.17317,     0.17417,     0.17518,     0.17618,     0.17718,     0.17818,     0.17918,     0.18018,     0.18118,     0.18218,     0.18318,     0.18418,     0.18519,     0.18619,     0.18719,     0.18819,     0.18919,     0.19019,     0.19119,\n",
       "           0.19219,     0.19319,     0.19419,      0.1952,      0.1962,      0.1972,      0.1982,      0.1992,      0.2002,      0.2012,      0.2022,      0.2032,      0.2042,     0.20521,     0.20621,     0.20721,     0.20821,     0.20921,     0.21021,     0.21121,     0.21221,     0.21321,     0.21421,     0.21522,\n",
       "           0.21622,     0.21722,     0.21822,     0.21922,     0.22022,     0.22122,     0.22222,     0.22322,     0.22422,     0.22523,     0.22623,     0.22723,     0.22823,     0.22923,     0.23023,     0.23123,     0.23223,     0.23323,     0.23423,     0.23524,     0.23624,     0.23724,     0.23824,     0.23924,\n",
       "           0.24024,     0.24124,     0.24224,     0.24324,     0.24424,     0.24525,     0.24625,     0.24725,     0.24825,     0.24925,     0.25025,     0.25125,     0.25225,     0.25325,     0.25425,     0.25526,     0.25626,     0.25726,     0.25826,     0.25926,     0.26026,     0.26126,     0.26226,     0.26326,\n",
       "           0.26426,     0.26527,     0.26627,     0.26727,     0.26827,     0.26927,     0.27027,     0.27127,     0.27227,     0.27327,     0.27427,     0.27528,     0.27628,     0.27728,     0.27828,     0.27928,     0.28028,     0.28128,     0.28228,     0.28328,     0.28428,     0.28529,     0.28629,     0.28729,\n",
       "           0.28829,     0.28929,     0.29029,     0.29129,     0.29229,     0.29329,     0.29429,      0.2953,      0.2963,      0.2973,      0.2983,      0.2993,      0.3003,      0.3013,      0.3023,      0.3033,      0.3043,     0.30531,     0.30631,     0.30731,     0.30831,     0.30931,     0.31031,     0.31131,\n",
       "           0.31231,     0.31331,     0.31431,     0.31532,     0.31632,     0.31732,     0.31832,     0.31932,     0.32032,     0.32132,     0.32232,     0.32332,     0.32432,     0.32533,     0.32633,     0.32733,     0.32833,     0.32933,     0.33033,     0.33133,     0.33233,     0.33333,     0.33433,     0.33534,\n",
       "           0.33634,     0.33734,     0.33834,     0.33934,     0.34034,     0.34134,     0.34234,     0.34334,     0.34434,     0.34535,     0.34635,     0.34735,     0.34835,     0.34935,     0.35035,     0.35135,     0.35235,     0.35335,     0.35435,     0.35536,     0.35636,     0.35736,     0.35836,     0.35936,\n",
       "           0.36036,     0.36136,     0.36236,     0.36336,     0.36436,     0.36537,     0.36637,     0.36737,     0.36837,     0.36937,     0.37037,     0.37137,     0.37237,     0.37337,     0.37437,     0.37538,     0.37638,     0.37738,     0.37838,     0.37938,     0.38038,     0.38138,     0.38238,     0.38338,\n",
       "           0.38438,     0.38539,     0.38639,     0.38739,     0.38839,     0.38939,     0.39039,     0.39139,     0.39239,     0.39339,     0.39439,      0.3954,      0.3964,      0.3974,      0.3984,      0.3994,      0.4004,      0.4014,      0.4024,      0.4034,      0.4044,     0.40541,     0.40641,     0.40741,\n",
       "           0.40841,     0.40941,     0.41041,     0.41141,     0.41241,     0.41341,     0.41441,     0.41542,     0.41642,     0.41742,     0.41842,     0.41942,     0.42042,     0.42142,     0.42242,     0.42342,     0.42442,     0.42543,     0.42643,     0.42743,     0.42843,     0.42943,     0.43043,     0.43143,\n",
       "           0.43243,     0.43343,     0.43443,     0.43544,     0.43644,     0.43744,     0.43844,     0.43944,     0.44044,     0.44144,     0.44244,     0.44344,     0.44444,     0.44545,     0.44645,     0.44745,     0.44845,     0.44945,     0.45045,     0.45145,     0.45245,     0.45345,     0.45445,     0.45546,\n",
       "           0.45646,     0.45746,     0.45846,     0.45946,     0.46046,     0.46146,     0.46246,     0.46346,     0.46446,     0.46547,     0.46647,     0.46747,     0.46847,     0.46947,     0.47047,     0.47147,     0.47247,     0.47347,     0.47447,     0.47548,     0.47648,     0.47748,     0.47848,     0.47948,\n",
       "           0.48048,     0.48148,     0.48248,     0.48348,     0.48448,     0.48549,     0.48649,     0.48749,     0.48849,     0.48949,     0.49049,     0.49149,     0.49249,     0.49349,     0.49449,      0.4955,      0.4965,      0.4975,      0.4985,      0.4995,      0.5005,      0.5015,      0.5025,      0.5035,\n",
       "            0.5045,     0.50551,     0.50651,     0.50751,     0.50851,     0.50951,     0.51051,     0.51151,     0.51251,     0.51351,     0.51451,     0.51552,     0.51652,     0.51752,     0.51852,     0.51952,     0.52052,     0.52152,     0.52252,     0.52352,     0.52452,     0.52553,     0.52653,     0.52753,\n",
       "           0.52853,     0.52953,     0.53053,     0.53153,     0.53253,     0.53353,     0.53453,     0.53554,     0.53654,     0.53754,     0.53854,     0.53954,     0.54054,     0.54154,     0.54254,     0.54354,     0.54454,     0.54555,     0.54655,     0.54755,     0.54855,     0.54955,     0.55055,     0.55155,\n",
       "           0.55255,     0.55355,     0.55455,     0.55556,     0.55656,     0.55756,     0.55856,     0.55956,     0.56056,     0.56156,     0.56256,     0.56356,     0.56456,     0.56557,     0.56657,     0.56757,     0.56857,     0.56957,     0.57057,     0.57157,     0.57257,     0.57357,     0.57457,     0.57558,\n",
       "           0.57658,     0.57758,     0.57858,     0.57958,     0.58058,     0.58158,     0.58258,     0.58358,     0.58458,     0.58559,     0.58659,     0.58759,     0.58859,     0.58959,     0.59059,     0.59159,     0.59259,     0.59359,     0.59459,      0.5956,      0.5966,      0.5976,      0.5986,      0.5996,\n",
       "            0.6006,      0.6016,      0.6026,      0.6036,      0.6046,     0.60561,     0.60661,     0.60761,     0.60861,     0.60961,     0.61061,     0.61161,     0.61261,     0.61361,     0.61461,     0.61562,     0.61662,     0.61762,     0.61862,     0.61962,     0.62062,     0.62162,     0.62262,     0.62362,\n",
       "           0.62462,     0.62563,     0.62663,     0.62763,     0.62863,     0.62963,     0.63063,     0.63163,     0.63263,     0.63363,     0.63463,     0.63564,     0.63664,     0.63764,     0.63864,     0.63964,     0.64064,     0.64164,     0.64264,     0.64364,     0.64464,     0.64565,     0.64665,     0.64765,\n",
       "           0.64865,     0.64965,     0.65065,     0.65165,     0.65265,     0.65365,     0.65465,     0.65566,     0.65666,     0.65766,     0.65866,     0.65966,     0.66066,     0.66166,     0.66266,     0.66366,     0.66466,     0.66567,     0.66667,     0.66767,     0.66867,     0.66967,     0.67067,     0.67167,\n",
       "           0.67267,     0.67367,     0.67467,     0.67568,     0.67668,     0.67768,     0.67868,     0.67968,     0.68068,     0.68168,     0.68268,     0.68368,     0.68468,     0.68569,     0.68669,     0.68769,     0.68869,     0.68969,     0.69069,     0.69169,     0.69269,     0.69369,     0.69469,      0.6957,\n",
       "            0.6967,      0.6977,      0.6987,      0.6997,      0.7007,      0.7017,      0.7027,      0.7037,      0.7047,     0.70571,     0.70671,     0.70771,     0.70871,     0.70971,     0.71071,     0.71171,     0.71271,     0.71371,     0.71471,     0.71572,     0.71672,     0.71772,     0.71872,     0.71972,\n",
       "           0.72072,     0.72172,     0.72272,     0.72372,     0.72472,     0.72573,     0.72673,     0.72773,     0.72873,     0.72973,     0.73073,     0.73173,     0.73273,     0.73373,     0.73473,     0.73574,     0.73674,     0.73774,     0.73874,     0.73974,     0.74074,     0.74174,     0.74274,     0.74374,\n",
       "           0.74474,     0.74575,     0.74675,     0.74775,     0.74875,     0.74975,     0.75075,     0.75175,     0.75275,     0.75375,     0.75475,     0.75576,     0.75676,     0.75776,     0.75876,     0.75976,     0.76076,     0.76176,     0.76276,     0.76376,     0.76476,     0.76577,     0.76677,     0.76777,\n",
       "           0.76877,     0.76977,     0.77077,     0.77177,     0.77277,     0.77377,     0.77477,     0.77578,     0.77678,     0.77778,     0.77878,     0.77978,     0.78078,     0.78178,     0.78278,     0.78378,     0.78478,     0.78579,     0.78679,     0.78779,     0.78879,     0.78979,     0.79079,     0.79179,\n",
       "           0.79279,     0.79379,     0.79479,      0.7958,      0.7968,      0.7978,      0.7988,      0.7998,      0.8008,      0.8018,      0.8028,      0.8038,      0.8048,     0.80581,     0.80681,     0.80781,     0.80881,     0.80981,     0.81081,     0.81181,     0.81281,     0.81381,     0.81481,     0.81582,\n",
       "           0.81682,     0.81782,     0.81882,     0.81982,     0.82082,     0.82182,     0.82282,     0.82382,     0.82482,     0.82583,     0.82683,     0.82783,     0.82883,     0.82983,     0.83083,     0.83183,     0.83283,     0.83383,     0.83483,     0.83584,     0.83684,     0.83784,     0.83884,     0.83984,\n",
       "           0.84084,     0.84184,     0.84284,     0.84384,     0.84484,     0.84585,     0.84685,     0.84785,     0.84885,     0.84985,     0.85085,     0.85185,     0.85285,     0.85385,     0.85485,     0.85586,     0.85686,     0.85786,     0.85886,     0.85986,     0.86086,     0.86186,     0.86286,     0.86386,\n",
       "           0.86486,     0.86587,     0.86687,     0.86787,     0.86887,     0.86987,     0.87087,     0.87187,     0.87287,     0.87387,     0.87487,     0.87588,     0.87688,     0.87788,     0.87888,     0.87988,     0.88088,     0.88188,     0.88288,     0.88388,     0.88488,     0.88589,     0.88689,     0.88789,\n",
       "           0.88889,     0.88989,     0.89089,     0.89189,     0.89289,     0.89389,     0.89489,      0.8959,      0.8969,      0.8979,      0.8989,      0.8999,      0.9009,      0.9019,      0.9029,      0.9039,      0.9049,     0.90591,     0.90691,     0.90791,     0.90891,     0.90991,     0.91091,     0.91191,\n",
       "           0.91291,     0.91391,     0.91491,     0.91592,     0.91692,     0.91792,     0.91892,     0.91992,     0.92092,     0.92192,     0.92292,     0.92392,     0.92492,     0.92593,     0.92693,     0.92793,     0.92893,     0.92993,     0.93093,     0.93193,     0.93293,     0.93393,     0.93493,     0.93594,\n",
       "           0.93694,     0.93794,     0.93894,     0.93994,     0.94094,     0.94194,     0.94294,     0.94394,     0.94494,     0.94595,     0.94695,     0.94795,     0.94895,     0.94995,     0.95095,     0.95195,     0.95295,     0.95395,     0.95495,     0.95596,     0.95696,     0.95796,     0.95896,     0.95996,\n",
       "           0.96096,     0.96196,     0.96296,     0.96396,     0.96496,     0.96597,     0.96697,     0.96797,     0.96897,     0.96997,     0.97097,     0.97197,     0.97297,     0.97397,     0.97497,     0.97598,     0.97698,     0.97798,     0.97898,     0.97998,     0.98098,     0.98198,     0.98298,     0.98398,\n",
       "           0.98498,     0.98599,     0.98699,     0.98799,     0.98899,     0.98999,     0.99099,     0.99199,     0.99299,     0.99399,     0.99499,       0.996,       0.997,       0.998,       0.999,           1]), array([[    0.32011,     0.32011,     0.36526,     0.39878,     0.42148,     0.43831,     0.45375,     0.46444,     0.47432,     0.48436,     0.49341,     0.49874,     0.50646,      0.5129,      0.5179,     0.52516,     0.53132,     0.53939,     0.54879,     0.55555,     0.56156,     0.56836,     0.57302,\n",
       "            0.57896,     0.58665,     0.59256,     0.59887,     0.60454,     0.61102,     0.61642,     0.62387,     0.63107,     0.63671,     0.64205,     0.64663,      0.6524,     0.65847,     0.66312,     0.66792,     0.67243,     0.67713,     0.68199,     0.68543,     0.69094,      0.6954,      0.7005,\n",
       "            0.70506,     0.70947,     0.71437,     0.72134,     0.72561,     0.72925,     0.73478,     0.73866,      0.7429,     0.74671,      0.7524,       0.755,     0.75901,     0.76378,     0.76593,     0.76894,     0.77121,     0.77384,     0.77687,     0.78011,     0.78296,      0.7845,      0.7867,\n",
       "            0.78804,     0.78976,     0.79287,     0.79469,     0.79796,     0.80087,     0.80482,     0.80675,     0.80839,     0.81298,     0.81401,     0.81699,     0.81833,     0.82062,     0.82298,     0.82437,     0.82693,     0.82869,      0.8315,     0.83261,     0.83604,     0.83757,     0.83999,\n",
       "            0.84242,     0.84522,     0.84856,     0.85168,     0.85417,     0.85596,     0.85867,     0.85979,     0.86146,     0.86271,     0.86547,     0.86673,     0.86854,     0.86935,     0.87188,     0.87412,     0.87467,      0.8762,     0.87843,     0.88068,     0.88302,     0.88536,     0.88818,\n",
       "            0.89102,     0.89184,     0.89318,     0.89505,     0.89668,     0.89875,     0.90028,     0.90146,     0.90259,      0.9034,     0.90524,     0.90631,     0.90744,     0.90917,     0.91071,     0.91108,      0.9121,     0.91453,     0.91519,     0.91662,      0.9171,     0.91836,     0.92075,\n",
       "            0.92137,     0.92236,     0.92321,     0.92457,      0.9254,      0.9257,     0.92673,     0.92783,     0.92905,     0.93002,     0.93193,     0.93315,     0.93383,     0.93381,     0.93545,     0.93728,     0.93815,     0.93951,     0.93977,     0.94084,     0.94179,     0.94277,     0.94327,\n",
       "             0.9438,     0.94413,     0.94454,     0.94485,     0.94442,      0.9455,     0.94602,     0.94782,     0.94798,     0.94847,     0.94943,     0.94998,     0.95045,     0.95003,     0.95094,     0.95162,     0.95202,     0.95266,     0.95249,     0.95255,     0.95237,     0.95227,     0.95256,\n",
       "             0.9523,     0.95338,     0.95394,     0.95442,     0.95457,     0.95446,     0.95437,     0.95396,     0.95434,     0.95419,     0.95443,     0.95456,     0.95468,     0.95481,     0.95496,     0.95544,     0.95549,     0.95546,     0.95567,     0.95529,     0.95617,     0.95601,     0.95591,\n",
       "            0.95581,     0.95549,     0.95538,     0.95521,     0.95491,     0.95461,     0.95433,      0.9539,     0.95434,     0.95488,     0.95524,     0.95537,     0.95548,     0.95566,     0.95558,     0.95543,     0.95531,     0.95517,     0.95495,     0.95471,      0.9543,     0.95441,     0.95452,\n",
       "            0.95513,     0.95527,     0.95542,     0.95528,     0.95513,     0.95476,     0.95454,     0.95384,     0.95397,     0.95353,     0.95243,     0.95192,     0.95149,     0.95138,     0.95127,     0.95112,     0.95067,     0.94991,       0.949,     0.94914,     0.94932,     0.94963,     0.94886,\n",
       "            0.94865,      0.9485,     0.94836,     0.94821,      0.9477,     0.94748,     0.94736,     0.94725,     0.94714,     0.94722,     0.94729,     0.94737,     0.94742,     0.94731,      0.9472,     0.94714,     0.94731,     0.94696,     0.94674,     0.94651,     0.94557,     0.94484,     0.94443,\n",
       "            0.94429,     0.94416,     0.94377,     0.94366,     0.94344,     0.94313,      0.9427,     0.94245,     0.94262,     0.94255,     0.94233,     0.94213,     0.94212,     0.94189,     0.94175,      0.9412,     0.94117,     0.94135,     0.94147,     0.94142,     0.94103,     0.94075,     0.94056,\n",
       "            0.94017,     0.93997,     0.93997,     0.94014,     0.94003,     0.93989,     0.93996,     0.93988,      0.9399,     0.94004,     0.93995,     0.93985,     0.93975,     0.93905,     0.93885,      0.9386,     0.93822,     0.93793,     0.93773,       0.938,     0.93765,     0.93752,      0.9374,\n",
       "            0.93655,     0.93688,     0.93658,     0.93645,     0.93632,     0.93606,      0.9357,     0.93587,     0.93564,     0.93574,     0.93554,     0.93526,     0.93466,     0.93446,     0.93426,     0.93399,     0.93369,     0.93356,     0.93344,     0.93313,     0.93254,     0.93201,     0.93193,\n",
       "            0.93185,     0.93177,      0.9317,     0.93143,     0.93129,     0.93122,     0.93116,      0.9311,     0.93103,     0.93087,     0.93057,     0.93037,     0.93047,     0.93027,     0.92958,     0.92938,      0.9292,     0.92907,     0.92894,     0.92834,     0.92799,     0.92763,     0.92742,\n",
       "            0.92734,     0.92726,     0.92718,     0.92668,     0.92534,     0.92514,     0.92495,     0.92477,     0.92448,     0.92413,     0.92431,     0.92397,     0.92392,     0.92347,     0.92312,     0.92241,     0.92206,     0.92131,     0.92056,     0.92064,     0.92067,     0.92058,     0.92048,\n",
       "            0.92038,     0.92003,     0.91985,     0.91964,      0.9192,     0.91814,     0.91743,     0.91707,     0.91671,     0.91629,     0.91555,     0.91533,     0.91515,     0.91482,      0.9141,     0.91374,     0.91329,     0.91293,     0.91256,      0.9122,      0.9119,     0.91178,     0.91166,\n",
       "            0.91119,      0.9111,       0.911,      0.9109,     0.91039,     0.91021,     0.91003,     0.90946,     0.90874,     0.90794,     0.90776,     0.90719,      0.9065,     0.90631,     0.90609,     0.90577,     0.90558,     0.90504,     0.90485,     0.90469,     0.90455,     0.90442,     0.90377,\n",
       "             0.9034,     0.90267,     0.90248,     0.90236,     0.90223,     0.90155,     0.90118,     0.90029,     0.90017,     0.90004,     0.89969,     0.89919,     0.89907,     0.89858,      0.8982,     0.89748,     0.89734,     0.89721,     0.89625,     0.89514,     0.89448,     0.89429,      0.8933,\n",
       "            0.89311,     0.89246,     0.89134,     0.88986,     0.88837,     0.88777,     0.88764,     0.88752,     0.88721,     0.88646,     0.88622,     0.88603,     0.88569,     0.88546,     0.88527,     0.88417,     0.88321,     0.88302,     0.88189,     0.88151,     0.88112,     0.87999,     0.87885,\n",
       "             0.8781,      0.8779,     0.87731,     0.87654,     0.87577,     0.87504,     0.87485,      0.8746,     0.87383,      0.8723,     0.87191,     0.86922,     0.86844,     0.86794,     0.86718,     0.86678,       0.866,     0.86561,     0.86405,     0.86326,     0.86287,     0.86172,      0.8612,\n",
       "            0.86041,     0.85922,     0.85843,     0.85803,     0.85724,     0.85487,     0.85446,     0.85366,     0.85247,     0.85048,     0.85007,     0.84687,     0.84545,     0.84525,     0.84283,     0.84121,      0.8408,     0.84038,     0.83713,     0.83631,     0.83552,     0.83531,     0.83342,\n",
       "            0.83141,      0.8312,     0.83093,     0.83051,     0.82968,     0.82926,     0.82677,     0.82552,     0.82343,     0.82175,     0.82049,     0.81937,     0.81922,     0.81908,     0.81835,      0.8175,     0.81665,     0.81538,      0.8141,     0.81367,     0.81281,     0.81169,     0.81147,\n",
       "            0.81023,     0.80998,     0.80976,     0.80722,     0.80592,     0.80441,     0.80182,     0.80137,     0.79963,     0.79745,     0.79614,     0.79526,     0.79422,     0.79246,     0.78937,     0.78848,     0.78759,     0.78492,     0.78502,     0.78429,      0.7825,      0.7816,     0.78044,\n",
       "            0.78021,     0.77843,     0.77572,     0.77457,     0.77434,     0.77207,     0.76933,     0.76902,     0.76769,     0.76707,     0.76476,     0.76337,     0.76244,     0.75936,     0.75912,      0.7587,     0.75497,     0.75464,     0.75195,     0.74818,     0.74675,      0.7427,     0.74031,\n",
       "            0.73934,     0.73741,     0.73547,     0.73305,     0.73158,     0.73109,     0.72864,     0.72717,      0.7252,     0.72285,     0.72051,     0.71803,     0.71454,     0.71203,       0.706,     0.70498,     0.70446,     0.70242,     0.69966,     0.69807,     0.69652,     0.69343,     0.68981,\n",
       "            0.68876,     0.68511,     0.68145,     0.68032,     0.67748,     0.67483,     0.67137,     0.66816,       0.666,      0.6633,     0.66113,     0.65814,     0.65595,     0.65211,     0.65046,     0.64989,     0.64633,     0.64434,     0.64406,     0.63848,     0.63679,     0.63341,     0.63221,\n",
       "            0.62971,     0.62856,     0.62514,     0.62227,     0.61939,     0.61332,     0.61182,     0.60856,     0.60621,     0.60364,     0.60177,     0.59939,     0.59581,     0.59401,     0.59121,     0.58698,     0.58516,     0.58418,     0.57961,     0.57531,     0.57284,     0.57097,     0.56838,\n",
       "            0.56505,     0.56379,      0.5619,     0.55844,     0.55716,       0.554,     0.55186,     0.54984,     0.54728,     0.54431,     0.53947,     0.53687,     0.53555,     0.53391,     0.53325,     0.52997,     0.52727,     0.52568,     0.52434,     0.52235,     0.52002,     0.51934,      0.5185,\n",
       "            0.51698,      0.5163,     0.51561,     0.51282,     0.51214,     0.51119,     0.50908,     0.50725,     0.50669,     0.50532,     0.50225,     0.49952,     0.49877,     0.49709,     0.49639,     0.49535,       0.494,     0.49353,     0.49108,     0.49072,      0.4889,     0.48704,     0.48657,\n",
       "            0.48411,     0.48375,      0.4791,     0.47863,     0.47815,     0.47556,     0.47373,     0.47337,     0.47153,     0.46608,     0.46559,     0.46296,     0.46247,     0.46198,     0.46149,     0.45888,     0.45851,     0.45739,      0.4569,     0.45496,     0.45229,      0.4518,     0.44839,\n",
       "             0.4457,      0.4452,     0.44397,     0.44274,     0.44003,     0.43953,     0.43909,     0.43871,     0.43604,     0.43426,     0.43375,      0.4325,      0.4305,     0.42999,     0.42873,     0.42672,     0.42621,     0.42516,      0.4249,     0.42464,     0.42242,     0.42189,     0.41835,\n",
       "            0.41783,     0.41427,     0.41318,      0.4119,     0.41138,     0.41009,     0.40956,     0.40904,     0.40775,     0.40409,     0.40336,     0.40283,     0.40075,     0.39945,     0.39892,     0.39761,      0.3963,     0.39576,     0.39107,     0.38895,     0.38447,     0.38314,     0.38259,\n",
       "            0.38111,     0.37886,     0.37352,     0.37297,     0.36903,     0.36515,     0.36298,     0.36242,      0.3604,     0.36007,     0.35885,     0.35829,     0.35504,     0.35198,     0.34965,     0.34396,     0.34339,     0.34032,     0.33542,     0.33134,     0.32821,     0.32567,     0.32509,\n",
       "            0.32432,     0.31937,     0.31099,     0.30583,     0.30523,     0.30092,     0.29587,     0.29076,     0.28452,     0.27022,      0.2696,     0.25865,     0.24875,     0.24143,     0.23022,      0.2256,      0.2211,     0.21819,     0.21724,     0.21658,      0.2099,     0.20696,     0.20618,\n",
       "            0.20447,      0.2015,      0.2005,     0.19959,     0.19892,     0.19599,     0.19498,     0.19199,     0.18998,     0.18728,     0.18545,      0.1848,     0.18454,     0.18428,     0.18403,     0.18332,     0.18267,     0.18226,     0.18074,     0.17783,     0.17749,     0.17715,     0.17662,\n",
       "            0.17154,     0.16745,     0.16334,     0.15819,     0.15404,     0.15091,     0.14881,     0.14461,     0.14354,     0.13775,     0.13457,     0.13243,     0.12922,     0.12707,     0.12385,     0.12175,     0.12101,     0.12073,     0.12064,     0.12054,     0.12044,     0.12035,     0.12025,\n",
       "            0.12016,     0.12006,     0.11997,     0.11987,     0.11978,     0.11919,     0.11828,     0.11757,     0.11732,     0.11708,     0.11683,     0.11659,     0.11614,     0.11559,     0.11396,     0.11341,     0.11299,     0.11263,     0.11226,     0.10748,     0.10488,     0.10286,     0.10086,\n",
       "           0.091551,    0.083703,     0.07977,    0.073547,    0.070727,    0.061058,    0.054053,    0.044908,    0.041224,    0.032604,    0.015172,    0.009989,   0.0054484,   0.0033023,   0.0022786,   0.0017824,   0.0012858,           0,           0,           0,           0,           0,           0,\n",
       "                  0,           0,           0,           0,           0,           0,           0,           0,           0,           0,           0,           0,           0,           0,           0,           0,           0,           0,           0,           0,           0,           0,           0,\n",
       "                  0,           0,           0,           0,           0,           0,           0,           0,           0,           0,           0,           0,           0,           0,           0,           0,           0,           0,           0,           0,           0,           0,           0,\n",
       "                  0,           0,           0,           0,           0,           0,           0,           0,           0,           0,           0,           0,           0,           0,           0,           0,           0,           0,           0,           0,           0,           0,           0,\n",
       "                  0,           0,           0,           0,           0,           0,           0,           0,           0,           0,           0]]), 'Confidence', 'F1'], [array([          0,    0.001001,    0.002002,    0.003003,    0.004004,    0.005005,    0.006006,    0.007007,    0.008008,    0.009009,     0.01001,    0.011011,    0.012012,    0.013013,    0.014014,    0.015015,    0.016016,    0.017017,    0.018018,    0.019019,     0.02002,    0.021021,    0.022022,    0.023023,\n",
       "          0.024024,    0.025025,    0.026026,    0.027027,    0.028028,    0.029029,     0.03003,    0.031031,    0.032032,    0.033033,    0.034034,    0.035035,    0.036036,    0.037037,    0.038038,    0.039039,     0.04004,    0.041041,    0.042042,    0.043043,    0.044044,    0.045045,    0.046046,    0.047047,\n",
       "          0.048048,    0.049049,     0.05005,    0.051051,    0.052052,    0.053053,    0.054054,    0.055055,    0.056056,    0.057057,    0.058058,    0.059059,     0.06006,    0.061061,    0.062062,    0.063063,    0.064064,    0.065065,    0.066066,    0.067067,    0.068068,    0.069069,     0.07007,    0.071071,\n",
       "          0.072072,    0.073073,    0.074074,    0.075075,    0.076076,    0.077077,    0.078078,    0.079079,     0.08008,    0.081081,    0.082082,    0.083083,    0.084084,    0.085085,    0.086086,    0.087087,    0.088088,    0.089089,     0.09009,    0.091091,    0.092092,    0.093093,    0.094094,    0.095095,\n",
       "          0.096096,    0.097097,    0.098098,    0.099099,      0.1001,      0.1011,      0.1021,      0.1031,      0.1041,     0.10511,     0.10611,     0.10711,     0.10811,     0.10911,     0.11011,     0.11111,     0.11211,     0.11311,     0.11411,     0.11512,     0.11612,     0.11712,     0.11812,     0.11912,\n",
       "           0.12012,     0.12112,     0.12212,     0.12312,     0.12412,     0.12513,     0.12613,     0.12713,     0.12813,     0.12913,     0.13013,     0.13113,     0.13213,     0.13313,     0.13413,     0.13514,     0.13614,     0.13714,     0.13814,     0.13914,     0.14014,     0.14114,     0.14214,     0.14314,\n",
       "           0.14414,     0.14515,     0.14615,     0.14715,     0.14815,     0.14915,     0.15015,     0.15115,     0.15215,     0.15315,     0.15415,     0.15516,     0.15616,     0.15716,     0.15816,     0.15916,     0.16016,     0.16116,     0.16216,     0.16316,     0.16416,     0.16517,     0.16617,     0.16717,\n",
       "           0.16817,     0.16917,     0.17017,     0.17117,     0.17217,     0.17317,     0.17417,     0.17518,     0.17618,     0.17718,     0.17818,     0.17918,     0.18018,     0.18118,     0.18218,     0.18318,     0.18418,     0.18519,     0.18619,     0.18719,     0.18819,     0.18919,     0.19019,     0.19119,\n",
       "           0.19219,     0.19319,     0.19419,      0.1952,      0.1962,      0.1972,      0.1982,      0.1992,      0.2002,      0.2012,      0.2022,      0.2032,      0.2042,     0.20521,     0.20621,     0.20721,     0.20821,     0.20921,     0.21021,     0.21121,     0.21221,     0.21321,     0.21421,     0.21522,\n",
       "           0.21622,     0.21722,     0.21822,     0.21922,     0.22022,     0.22122,     0.22222,     0.22322,     0.22422,     0.22523,     0.22623,     0.22723,     0.22823,     0.22923,     0.23023,     0.23123,     0.23223,     0.23323,     0.23423,     0.23524,     0.23624,     0.23724,     0.23824,     0.23924,\n",
       "           0.24024,     0.24124,     0.24224,     0.24324,     0.24424,     0.24525,     0.24625,     0.24725,     0.24825,     0.24925,     0.25025,     0.25125,     0.25225,     0.25325,     0.25425,     0.25526,     0.25626,     0.25726,     0.25826,     0.25926,     0.26026,     0.26126,     0.26226,     0.26326,\n",
       "           0.26426,     0.26527,     0.26627,     0.26727,     0.26827,     0.26927,     0.27027,     0.27127,     0.27227,     0.27327,     0.27427,     0.27528,     0.27628,     0.27728,     0.27828,     0.27928,     0.28028,     0.28128,     0.28228,     0.28328,     0.28428,     0.28529,     0.28629,     0.28729,\n",
       "           0.28829,     0.28929,     0.29029,     0.29129,     0.29229,     0.29329,     0.29429,      0.2953,      0.2963,      0.2973,      0.2983,      0.2993,      0.3003,      0.3013,      0.3023,      0.3033,      0.3043,     0.30531,     0.30631,     0.30731,     0.30831,     0.30931,     0.31031,     0.31131,\n",
       "           0.31231,     0.31331,     0.31431,     0.31532,     0.31632,     0.31732,     0.31832,     0.31932,     0.32032,     0.32132,     0.32232,     0.32332,     0.32432,     0.32533,     0.32633,     0.32733,     0.32833,     0.32933,     0.33033,     0.33133,     0.33233,     0.33333,     0.33433,     0.33534,\n",
       "           0.33634,     0.33734,     0.33834,     0.33934,     0.34034,     0.34134,     0.34234,     0.34334,     0.34434,     0.34535,     0.34635,     0.34735,     0.34835,     0.34935,     0.35035,     0.35135,     0.35235,     0.35335,     0.35435,     0.35536,     0.35636,     0.35736,     0.35836,     0.35936,\n",
       "           0.36036,     0.36136,     0.36236,     0.36336,     0.36436,     0.36537,     0.36637,     0.36737,     0.36837,     0.36937,     0.37037,     0.37137,     0.37237,     0.37337,     0.37437,     0.37538,     0.37638,     0.37738,     0.37838,     0.37938,     0.38038,     0.38138,     0.38238,     0.38338,\n",
       "           0.38438,     0.38539,     0.38639,     0.38739,     0.38839,     0.38939,     0.39039,     0.39139,     0.39239,     0.39339,     0.39439,      0.3954,      0.3964,      0.3974,      0.3984,      0.3994,      0.4004,      0.4014,      0.4024,      0.4034,      0.4044,     0.40541,     0.40641,     0.40741,\n",
       "           0.40841,     0.40941,     0.41041,     0.41141,     0.41241,     0.41341,     0.41441,     0.41542,     0.41642,     0.41742,     0.41842,     0.41942,     0.42042,     0.42142,     0.42242,     0.42342,     0.42442,     0.42543,     0.42643,     0.42743,     0.42843,     0.42943,     0.43043,     0.43143,\n",
       "           0.43243,     0.43343,     0.43443,     0.43544,     0.43644,     0.43744,     0.43844,     0.43944,     0.44044,     0.44144,     0.44244,     0.44344,     0.44444,     0.44545,     0.44645,     0.44745,     0.44845,     0.44945,     0.45045,     0.45145,     0.45245,     0.45345,     0.45445,     0.45546,\n",
       "           0.45646,     0.45746,     0.45846,     0.45946,     0.46046,     0.46146,     0.46246,     0.46346,     0.46446,     0.46547,     0.46647,     0.46747,     0.46847,     0.46947,     0.47047,     0.47147,     0.47247,     0.47347,     0.47447,     0.47548,     0.47648,     0.47748,     0.47848,     0.47948,\n",
       "           0.48048,     0.48148,     0.48248,     0.48348,     0.48448,     0.48549,     0.48649,     0.48749,     0.48849,     0.48949,     0.49049,     0.49149,     0.49249,     0.49349,     0.49449,      0.4955,      0.4965,      0.4975,      0.4985,      0.4995,      0.5005,      0.5015,      0.5025,      0.5035,\n",
       "            0.5045,     0.50551,     0.50651,     0.50751,     0.50851,     0.50951,     0.51051,     0.51151,     0.51251,     0.51351,     0.51451,     0.51552,     0.51652,     0.51752,     0.51852,     0.51952,     0.52052,     0.52152,     0.52252,     0.52352,     0.52452,     0.52553,     0.52653,     0.52753,\n",
       "           0.52853,     0.52953,     0.53053,     0.53153,     0.53253,     0.53353,     0.53453,     0.53554,     0.53654,     0.53754,     0.53854,     0.53954,     0.54054,     0.54154,     0.54254,     0.54354,     0.54454,     0.54555,     0.54655,     0.54755,     0.54855,     0.54955,     0.55055,     0.55155,\n",
       "           0.55255,     0.55355,     0.55455,     0.55556,     0.55656,     0.55756,     0.55856,     0.55956,     0.56056,     0.56156,     0.56256,     0.56356,     0.56456,     0.56557,     0.56657,     0.56757,     0.56857,     0.56957,     0.57057,     0.57157,     0.57257,     0.57357,     0.57457,     0.57558,\n",
       "           0.57658,     0.57758,     0.57858,     0.57958,     0.58058,     0.58158,     0.58258,     0.58358,     0.58458,     0.58559,     0.58659,     0.58759,     0.58859,     0.58959,     0.59059,     0.59159,     0.59259,     0.59359,     0.59459,      0.5956,      0.5966,      0.5976,      0.5986,      0.5996,\n",
       "            0.6006,      0.6016,      0.6026,      0.6036,      0.6046,     0.60561,     0.60661,     0.60761,     0.60861,     0.60961,     0.61061,     0.61161,     0.61261,     0.61361,     0.61461,     0.61562,     0.61662,     0.61762,     0.61862,     0.61962,     0.62062,     0.62162,     0.62262,     0.62362,\n",
       "           0.62462,     0.62563,     0.62663,     0.62763,     0.62863,     0.62963,     0.63063,     0.63163,     0.63263,     0.63363,     0.63463,     0.63564,     0.63664,     0.63764,     0.63864,     0.63964,     0.64064,     0.64164,     0.64264,     0.64364,     0.64464,     0.64565,     0.64665,     0.64765,\n",
       "           0.64865,     0.64965,     0.65065,     0.65165,     0.65265,     0.65365,     0.65465,     0.65566,     0.65666,     0.65766,     0.65866,     0.65966,     0.66066,     0.66166,     0.66266,     0.66366,     0.66466,     0.66567,     0.66667,     0.66767,     0.66867,     0.66967,     0.67067,     0.67167,\n",
       "           0.67267,     0.67367,     0.67467,     0.67568,     0.67668,     0.67768,     0.67868,     0.67968,     0.68068,     0.68168,     0.68268,     0.68368,     0.68468,     0.68569,     0.68669,     0.68769,     0.68869,     0.68969,     0.69069,     0.69169,     0.69269,     0.69369,     0.69469,      0.6957,\n",
       "            0.6967,      0.6977,      0.6987,      0.6997,      0.7007,      0.7017,      0.7027,      0.7037,      0.7047,     0.70571,     0.70671,     0.70771,     0.70871,     0.70971,     0.71071,     0.71171,     0.71271,     0.71371,     0.71471,     0.71572,     0.71672,     0.71772,     0.71872,     0.71972,\n",
       "           0.72072,     0.72172,     0.72272,     0.72372,     0.72472,     0.72573,     0.72673,     0.72773,     0.72873,     0.72973,     0.73073,     0.73173,     0.73273,     0.73373,     0.73473,     0.73574,     0.73674,     0.73774,     0.73874,     0.73974,     0.74074,     0.74174,     0.74274,     0.74374,\n",
       "           0.74474,     0.74575,     0.74675,     0.74775,     0.74875,     0.74975,     0.75075,     0.75175,     0.75275,     0.75375,     0.75475,     0.75576,     0.75676,     0.75776,     0.75876,     0.75976,     0.76076,     0.76176,     0.76276,     0.76376,     0.76476,     0.76577,     0.76677,     0.76777,\n",
       "           0.76877,     0.76977,     0.77077,     0.77177,     0.77277,     0.77377,     0.77477,     0.77578,     0.77678,     0.77778,     0.77878,     0.77978,     0.78078,     0.78178,     0.78278,     0.78378,     0.78478,     0.78579,     0.78679,     0.78779,     0.78879,     0.78979,     0.79079,     0.79179,\n",
       "           0.79279,     0.79379,     0.79479,      0.7958,      0.7968,      0.7978,      0.7988,      0.7998,      0.8008,      0.8018,      0.8028,      0.8038,      0.8048,     0.80581,     0.80681,     0.80781,     0.80881,     0.80981,     0.81081,     0.81181,     0.81281,     0.81381,     0.81481,     0.81582,\n",
       "           0.81682,     0.81782,     0.81882,     0.81982,     0.82082,     0.82182,     0.82282,     0.82382,     0.82482,     0.82583,     0.82683,     0.82783,     0.82883,     0.82983,     0.83083,     0.83183,     0.83283,     0.83383,     0.83483,     0.83584,     0.83684,     0.83784,     0.83884,     0.83984,\n",
       "           0.84084,     0.84184,     0.84284,     0.84384,     0.84484,     0.84585,     0.84685,     0.84785,     0.84885,     0.84985,     0.85085,     0.85185,     0.85285,     0.85385,     0.85485,     0.85586,     0.85686,     0.85786,     0.85886,     0.85986,     0.86086,     0.86186,     0.86286,     0.86386,\n",
       "           0.86486,     0.86587,     0.86687,     0.86787,     0.86887,     0.86987,     0.87087,     0.87187,     0.87287,     0.87387,     0.87487,     0.87588,     0.87688,     0.87788,     0.87888,     0.87988,     0.88088,     0.88188,     0.88288,     0.88388,     0.88488,     0.88589,     0.88689,     0.88789,\n",
       "           0.88889,     0.88989,     0.89089,     0.89189,     0.89289,     0.89389,     0.89489,      0.8959,      0.8969,      0.8979,      0.8989,      0.8999,      0.9009,      0.9019,      0.9029,      0.9039,      0.9049,     0.90591,     0.90691,     0.90791,     0.90891,     0.90991,     0.91091,     0.91191,\n",
       "           0.91291,     0.91391,     0.91491,     0.91592,     0.91692,     0.91792,     0.91892,     0.91992,     0.92092,     0.92192,     0.92292,     0.92392,     0.92492,     0.92593,     0.92693,     0.92793,     0.92893,     0.92993,     0.93093,     0.93193,     0.93293,     0.93393,     0.93493,     0.93594,\n",
       "           0.93694,     0.93794,     0.93894,     0.93994,     0.94094,     0.94194,     0.94294,     0.94394,     0.94494,     0.94595,     0.94695,     0.94795,     0.94895,     0.94995,     0.95095,     0.95195,     0.95295,     0.95395,     0.95495,     0.95596,     0.95696,     0.95796,     0.95896,     0.95996,\n",
       "           0.96096,     0.96196,     0.96296,     0.96396,     0.96496,     0.96597,     0.96697,     0.96797,     0.96897,     0.96997,     0.97097,     0.97197,     0.97297,     0.97397,     0.97497,     0.97598,     0.97698,     0.97798,     0.97898,     0.97998,     0.98098,     0.98198,     0.98298,     0.98398,\n",
       "           0.98498,     0.98599,     0.98699,     0.98799,     0.98899,     0.98999,     0.99099,     0.99199,     0.99299,     0.99399,     0.99499,       0.996,       0.997,       0.998,       0.999,           1]), array([[     0.1908,      0.1908,     0.22389,     0.24961,     0.26776,     0.28149,     0.29441,     0.30353,     0.31208,      0.3209,     0.32889,     0.33364,     0.34059,     0.34644,     0.35102,     0.35772,     0.36347,     0.37106,     0.38001,     0.38653,     0.39256,     0.39925,     0.40405,\n",
       "            0.40999,     0.41775,     0.42376,     0.43025,     0.43613,      0.4429,      0.4486,     0.45653,     0.46429,     0.47043,     0.47628,     0.48148,      0.4879,     0.49473,     0.49999,     0.50547,     0.51066,     0.51609,     0.52176,     0.52581,     0.53232,     0.53763,     0.54375,\n",
       "            0.54926,     0.55464,     0.56065,     0.56928,     0.57462,     0.57941,     0.58643,     0.59138,     0.59683,       0.602,     0.60943,     0.61284,     0.61814,      0.6245,     0.62763,     0.63168,     0.63475,     0.63832,     0.64245,      0.6469,     0.65083,     0.65295,     0.65628,\n",
       "            0.65815,     0.66055,     0.66491,     0.66776,     0.67239,     0.67654,     0.68218,     0.68497,     0.68763,      0.6943,     0.69611,     0.70048,     0.70245,     0.70615,     0.70966,     0.71172,     0.71555,     0.71819,     0.72242,      0.7241,     0.72963,     0.73198,     0.73567,\n",
       "            0.73941,     0.74409,     0.74928,     0.75416,     0.75807,      0.7609,     0.76519,     0.76698,     0.77039,     0.77277,      0.7772,     0.77963,     0.78256,     0.78427,     0.78839,     0.79246,     0.79377,      0.7967,      0.8008,     0.80498,     0.80889,     0.81283,      0.8176,\n",
       "            0.82242,     0.82425,     0.82656,     0.82976,     0.83256,      0.8366,     0.83924,     0.84129,     0.84348,     0.84513,     0.84836,     0.85072,     0.85271,     0.85577,      0.8585,     0.85915,     0.86098,     0.86531,     0.86651,     0.86955,     0.87079,     0.87318,     0.87752,\n",
       "            0.87863,     0.88081,      0.8825,     0.88549,     0.88703,     0.88757,     0.88998,       0.892,     0.89426,     0.89606,     0.89963,     0.90189,     0.90371,     0.90419,     0.90727,     0.91127,      0.9129,     0.91548,     0.91598,     0.91806,     0.92038,     0.92225,     0.92322,\n",
       "            0.92423,     0.92485,     0.92621,     0.92705,      0.9271,     0.92919,     0.93018,     0.93367,     0.93399,     0.93551,     0.93795,     0.93903,     0.93994,     0.94004,     0.94208,     0.94342,      0.9442,     0.94545,     0.94688,     0.94723,     0.94721,     0.94765,     0.94831,\n",
       "            0.94829,     0.95043,     0.95156,      0.9525,     0.95282,     0.95341,     0.95395,     0.95392,     0.95477,     0.95508,     0.95556,     0.95583,     0.95607,     0.95633,     0.95663,     0.95759,     0.95794,     0.95823,     0.95908,     0.95912,     0.96138,     0.96137,     0.96136,\n",
       "            0.96135,     0.96139,     0.96189,     0.96188,     0.96185,     0.96183,     0.96238,     0.96253,     0.96342,     0.96452,     0.96526,     0.96553,     0.96576,     0.96613,      0.9665,     0.96649,     0.96649,     0.96648,     0.96646,     0.96645,     0.96651,     0.96674,     0.96696,\n",
       "            0.96823,     0.96852,     0.96881,     0.96882,     0.96881,     0.96879,     0.96877,     0.96878,     0.96933,      0.9693,     0.96924,      0.9698,     0.96977,     0.96977,     0.96976,     0.96975,     0.96972,     0.96968,     0.96963,     0.97012,     0.97116,     0.97206,     0.97201,\n",
       "              0.972,       0.972,     0.97199,     0.97198,     0.97195,     0.97194,     0.97193,     0.97193,     0.97193,     0.97208,     0.97224,      0.9724,     0.97254,     0.97253,     0.97253,      0.9726,     0.97296,     0.97312,     0.97311,      0.9731,     0.97305,     0.97301,     0.97299,\n",
       "            0.97298,     0.97298,     0.97357,     0.97417,     0.97416,     0.97415,     0.97413,     0.97423,      0.9746,     0.97473,     0.97472,     0.97471,     0.97533,     0.97532,     0.97531,     0.97529,     0.97637,     0.97674,     0.97701,     0.97716,     0.97715,     0.97713,     0.97712,\n",
       "            0.97711,      0.9771,     0.97729,     0.97766,     0.97836,     0.97835,     0.97867,     0.97898,     0.97927,     0.97962,     0.97961,     0.97961,     0.97961,     0.97958,     0.97957,     0.97956,     0.97954,     0.97953,     0.97952,     0.98014,     0.98016,     0.98015,     0.98015,\n",
       "            0.98059,      0.9813,     0.98139,     0.98139,     0.98139,     0.98138,     0.98162,     0.98201,     0.98265,      0.9833,     0.98329,     0.98328,     0.98326,     0.98326,     0.98325,     0.98389,     0.98388,     0.98388,     0.98387,     0.98386,     0.98384,     0.98383,     0.98382,\n",
       "            0.98382,     0.98382,     0.98382,     0.98381,      0.9838,      0.9838,      0.9838,      0.9838,      0.9838,     0.98379,     0.98378,     0.98377,     0.98443,     0.98443,     0.98441,      0.9844,      0.9844,     0.98439,     0.98439,     0.98437,     0.98436,     0.98435,       0.985,\n",
       "              0.985,       0.985,     0.98499,     0.98498,     0.98494,     0.98493,     0.98493,     0.98492,     0.98491,     0.98517,     0.98556,     0.98557,     0.98624,     0.98622,     0.98621,     0.98619,     0.98618,     0.98616,     0.98614,     0.98661,     0.98682,     0.98682,     0.98682,\n",
       "            0.98681,     0.98681,      0.9868,      0.9868,     0.98678,     0.98676,     0.98674,     0.98673,     0.98672,     0.98671,     0.98669,     0.98668,     0.98668,     0.98667,     0.98665,     0.98664,     0.98663,     0.98662,     0.98661,      0.9866,     0.98659,     0.98659,     0.98658,\n",
       "            0.98657,     0.98657,     0.98657,     0.98656,     0.98655,     0.98655,     0.98707,     0.98722,      0.9872,     0.98718,     0.98717,     0.98716,     0.98714,     0.98714,     0.98713,     0.98712,     0.98712,      0.9871,      0.9871,      0.9871,     0.98709,     0.98709,     0.98707,\n",
       "            0.98706,     0.98704,     0.98704,     0.98704,     0.98703,     0.98701,     0.98701,     0.98698,     0.98698,     0.98698,     0.98697,     0.98695,     0.98695,     0.98694,     0.98693,     0.98691,     0.98691,      0.9869,     0.98688,     0.98685,     0.98683,     0.98683,     0.98752,\n",
       "            0.98751,      0.9875,     0.98747,     0.98743,     0.98739,     0.98738,     0.98737,     0.98737,     0.98736,     0.98734,     0.98734,     0.98733,     0.98732,     0.98732,     0.98731,     0.98729,     0.98726,     0.98726,     0.98723,     0.98722,     0.98721,     0.98718,     0.98715,\n",
       "            0.98713,     0.98713,     0.98711,     0.98709,     0.98707,     0.98705,     0.98705,     0.98704,     0.98702,     0.98698,     0.98697,      0.9869,     0.98688,     0.98718,      0.9876,     0.98759,     0.98757,     0.98756,     0.98752,      0.9875,     0.98749,     0.98794,     0.98822,\n",
       "             0.9882,     0.98817,     0.98815,     0.98814,     0.98813,     0.98807,     0.98806,     0.98804,     0.98801,     0.98796,     0.98795,     0.98787,     0.98784,     0.98783,     0.98777,     0.98773,     0.98772,     0.98771,     0.98763,     0.98761,     0.98759,     0.98759,     0.98754,\n",
       "            0.98749,     0.98748,     0.98748,     0.98747,     0.98744,     0.98743,     0.98737,     0.98734,     0.98728,     0.98724,     0.98721,     0.98718,     0.98717,     0.98717,     0.98715,     0.98713,     0.98711,     0.98707,     0.98704,     0.98703,       0.987,     0.98697,     0.98697,\n",
       "            0.98694,     0.98693,     0.98692,     0.98685,     0.98682,     0.98678,     0.98671,      0.9867,     0.98665,     0.98659,     0.98655,     0.98653,     0.98738,     0.98733,     0.98725,     0.98723,     0.98721,     0.98714,     0.98783,     0.98802,     0.98798,     0.98795,     0.98792,\n",
       "            0.98792,     0.98787,     0.98781,     0.98778,     0.98777,     0.98771,     0.98764,     0.98763,     0.98815,     0.98852,     0.98847,     0.98843,     0.98841,     0.98833,     0.98833,     0.98832,     0.98823,       0.989,     0.98912,     0.98903,       0.989,     0.98891,     0.98885,\n",
       "            0.98883,     0.98878,     0.98874,     0.98868,     0.98864,     0.98863,     0.98857,     0.98853,     0.98849,     0.98843,     0.98837,     0.98831,     0.98822,     0.98816,       0.988,     0.98797,     0.98796,     0.98791,     0.98783,     0.98779,     0.98775,     0.98767,     0.98757,\n",
       "            0.98754,     0.98744,     0.98734,     0.98731,     0.98723,     0.98715,     0.98821,     0.98813,     0.98807,       0.988,     0.98794,     0.98786,      0.9878,     0.98769,     0.98765,     0.98763,     0.98753,     0.98748,     0.98747,     0.98731,     0.98726,     0.98716,     0.98713,\n",
       "            0.98705,     0.98702,     0.98692,     0.98683,     0.98674,     0.98655,     0.98783,     0.98908,     0.98902,     0.98896,     0.98891,     0.98884,     0.98875,      0.9887,     0.99144,     0.99135,     0.99131,     0.99273,     0.99265,     0.99257,     0.99252,     0.99249,     0.99244,\n",
       "            0.99238,     0.99236,     0.99232,     0.99226,     0.99223,     0.99217,     0.99213,     0.99209,     0.99204,     0.99357,     0.99349,     0.99345,     0.99343,      0.9934,     0.99339,     0.99333,     0.99329,     0.99326,     0.99324,      0.9932,     0.99316,     0.99315,     0.99313,\n",
       "            0.99311,     0.99309,     0.99308,     0.99476,     0.99475,     0.99474,     0.99471,     0.99468,     0.99468,     0.99466,     0.99461,     0.99457,     0.99456,     0.99454,     0.99453,     0.99451,     0.99449,     0.99449,     0.99445,     0.99445,     0.99442,     0.99439,     0.99438,\n",
       "            0.99435,     0.99434,     0.99427,     0.99426,     0.99425,     0.99421,     0.99418,     0.99418,     0.99415,     0.99406,     0.99405,     0.99401,       0.994,     0.99399,     0.99398,     0.99394,     0.99393,     0.99391,      0.9939,     0.99387,     0.99382,     0.99382,     0.99376,\n",
       "            0.99371,      0.9937,     0.99368,     0.99365,      0.9936,     0.99359,     0.99359,     0.99358,     0.99353,     0.99565,     0.99564,     0.99563,      0.9956,      0.9956,     0.99558,     0.99555,     0.99555,     0.99553,     0.99553,     0.99553,      0.9955,     0.99549,     0.99544,\n",
       "            0.99543,     0.99538,     0.99768,     0.99767,     0.99767,     0.99766,     0.99765,     0.99765,     0.99764,     0.99761,     0.99761,      0.9976,     0.99759,     0.99758,     0.99757,     0.99756,     0.99755,     0.99755,     0.99751,      0.9975,     0.99746,     0.99745,     0.99744,\n",
       "            0.99743,     0.99741,     0.99737,     0.99736,     0.99733,     0.99729,     0.99727,     0.99727,     0.99725,     0.99725,     0.99724,     0.99723,      0.9972,     0.99717,     0.99715,     0.99709,     0.99708,     0.99705,       0.997,     0.99696,     0.99692,     0.99689,     0.99689,\n",
       "            0.99688,     0.99682,     0.99672,     0.99665,     0.99665,     0.99659,     0.99652,     0.99645,     0.99636,     0.99614,     0.99613,     0.99594,     0.99575,      0.9956,           1,           1,           1,           1,           1,           1,           1,           1,           1,\n",
       "                  1,           1,           1,           1,           1,           1,           1,           1,           1,           1,           1,           1,           1,           1,           1,           1,           1,           1,           1,           1,           1,           1,           1,\n",
       "                  1,           1,           1,           1,           1,           1,           1,           1,           1,           1,           1,           1,           1,           1,           1,           1,           1,           1,           1,           1,           1,           1,           1,\n",
       "                  1,           1,           1,           1,           1,           1,           1,           1,           1,           1,           1,           1,           1,           1,           1,           1,           1,           1,           1,           1,           1,           1,           1,\n",
       "                  1,           1,           1,           1,           1,           1,           1,           1,           1,           1,           1,           1,           1,           1,           1,           1,           1,           1,           1,           1,           1,           1,           1,\n",
       "                  1,           1,           1,           1,           1,           1,           1,           1,           1,           1,           1,           1,           1,           1,           1,           1,           1,           1,           1,           1,           1,           1,           1,\n",
       "                  1,           1,           1,           1,           1,           1,           1,           1,           1,           1,           1,           1,           1,           1,           1,           1,           1,           1,           1,           1,           1,           1,           1,\n",
       "                  1,           1,           1,           1,           1,           1,           1,           1,           1,           1,           1,           1,           1,           1,           1,           1,           1,           1,           1,           1,           1,           1,           1,\n",
       "                  1,           1,           1,           1,           1,           1,           1,           1,           1,           1,           1]]), 'Confidence', 'Precision'], [array([          0,    0.001001,    0.002002,    0.003003,    0.004004,    0.005005,    0.006006,    0.007007,    0.008008,    0.009009,     0.01001,    0.011011,    0.012012,    0.013013,    0.014014,    0.015015,    0.016016,    0.017017,    0.018018,    0.019019,     0.02002,    0.021021,    0.022022,    0.023023,\n",
       "          0.024024,    0.025025,    0.026026,    0.027027,    0.028028,    0.029029,     0.03003,    0.031031,    0.032032,    0.033033,    0.034034,    0.035035,    0.036036,    0.037037,    0.038038,    0.039039,     0.04004,    0.041041,    0.042042,    0.043043,    0.044044,    0.045045,    0.046046,    0.047047,\n",
       "          0.048048,    0.049049,     0.05005,    0.051051,    0.052052,    0.053053,    0.054054,    0.055055,    0.056056,    0.057057,    0.058058,    0.059059,     0.06006,    0.061061,    0.062062,    0.063063,    0.064064,    0.065065,    0.066066,    0.067067,    0.068068,    0.069069,     0.07007,    0.071071,\n",
       "          0.072072,    0.073073,    0.074074,    0.075075,    0.076076,    0.077077,    0.078078,    0.079079,     0.08008,    0.081081,    0.082082,    0.083083,    0.084084,    0.085085,    0.086086,    0.087087,    0.088088,    0.089089,     0.09009,    0.091091,    0.092092,    0.093093,    0.094094,    0.095095,\n",
       "          0.096096,    0.097097,    0.098098,    0.099099,      0.1001,      0.1011,      0.1021,      0.1031,      0.1041,     0.10511,     0.10611,     0.10711,     0.10811,     0.10911,     0.11011,     0.11111,     0.11211,     0.11311,     0.11411,     0.11512,     0.11612,     0.11712,     0.11812,     0.11912,\n",
       "           0.12012,     0.12112,     0.12212,     0.12312,     0.12412,     0.12513,     0.12613,     0.12713,     0.12813,     0.12913,     0.13013,     0.13113,     0.13213,     0.13313,     0.13413,     0.13514,     0.13614,     0.13714,     0.13814,     0.13914,     0.14014,     0.14114,     0.14214,     0.14314,\n",
       "           0.14414,     0.14515,     0.14615,     0.14715,     0.14815,     0.14915,     0.15015,     0.15115,     0.15215,     0.15315,     0.15415,     0.15516,     0.15616,     0.15716,     0.15816,     0.15916,     0.16016,     0.16116,     0.16216,     0.16316,     0.16416,     0.16517,     0.16617,     0.16717,\n",
       "           0.16817,     0.16917,     0.17017,     0.17117,     0.17217,     0.17317,     0.17417,     0.17518,     0.17618,     0.17718,     0.17818,     0.17918,     0.18018,     0.18118,     0.18218,     0.18318,     0.18418,     0.18519,     0.18619,     0.18719,     0.18819,     0.18919,     0.19019,     0.19119,\n",
       "           0.19219,     0.19319,     0.19419,      0.1952,      0.1962,      0.1972,      0.1982,      0.1992,      0.2002,      0.2012,      0.2022,      0.2032,      0.2042,     0.20521,     0.20621,     0.20721,     0.20821,     0.20921,     0.21021,     0.21121,     0.21221,     0.21321,     0.21421,     0.21522,\n",
       "           0.21622,     0.21722,     0.21822,     0.21922,     0.22022,     0.22122,     0.22222,     0.22322,     0.22422,     0.22523,     0.22623,     0.22723,     0.22823,     0.22923,     0.23023,     0.23123,     0.23223,     0.23323,     0.23423,     0.23524,     0.23624,     0.23724,     0.23824,     0.23924,\n",
       "           0.24024,     0.24124,     0.24224,     0.24324,     0.24424,     0.24525,     0.24625,     0.24725,     0.24825,     0.24925,     0.25025,     0.25125,     0.25225,     0.25325,     0.25425,     0.25526,     0.25626,     0.25726,     0.25826,     0.25926,     0.26026,     0.26126,     0.26226,     0.26326,\n",
       "           0.26426,     0.26527,     0.26627,     0.26727,     0.26827,     0.26927,     0.27027,     0.27127,     0.27227,     0.27327,     0.27427,     0.27528,     0.27628,     0.27728,     0.27828,     0.27928,     0.28028,     0.28128,     0.28228,     0.28328,     0.28428,     0.28529,     0.28629,     0.28729,\n",
       "           0.28829,     0.28929,     0.29029,     0.29129,     0.29229,     0.29329,     0.29429,      0.2953,      0.2963,      0.2973,      0.2983,      0.2993,      0.3003,      0.3013,      0.3023,      0.3033,      0.3043,     0.30531,     0.30631,     0.30731,     0.30831,     0.30931,     0.31031,     0.31131,\n",
       "           0.31231,     0.31331,     0.31431,     0.31532,     0.31632,     0.31732,     0.31832,     0.31932,     0.32032,     0.32132,     0.32232,     0.32332,     0.32432,     0.32533,     0.32633,     0.32733,     0.32833,     0.32933,     0.33033,     0.33133,     0.33233,     0.33333,     0.33433,     0.33534,\n",
       "           0.33634,     0.33734,     0.33834,     0.33934,     0.34034,     0.34134,     0.34234,     0.34334,     0.34434,     0.34535,     0.34635,     0.34735,     0.34835,     0.34935,     0.35035,     0.35135,     0.35235,     0.35335,     0.35435,     0.35536,     0.35636,     0.35736,     0.35836,     0.35936,\n",
       "           0.36036,     0.36136,     0.36236,     0.36336,     0.36436,     0.36537,     0.36637,     0.36737,     0.36837,     0.36937,     0.37037,     0.37137,     0.37237,     0.37337,     0.37437,     0.37538,     0.37638,     0.37738,     0.37838,     0.37938,     0.38038,     0.38138,     0.38238,     0.38338,\n",
       "           0.38438,     0.38539,     0.38639,     0.38739,     0.38839,     0.38939,     0.39039,     0.39139,     0.39239,     0.39339,     0.39439,      0.3954,      0.3964,      0.3974,      0.3984,      0.3994,      0.4004,      0.4014,      0.4024,      0.4034,      0.4044,     0.40541,     0.40641,     0.40741,\n",
       "           0.40841,     0.40941,     0.41041,     0.41141,     0.41241,     0.41341,     0.41441,     0.41542,     0.41642,     0.41742,     0.41842,     0.41942,     0.42042,     0.42142,     0.42242,     0.42342,     0.42442,     0.42543,     0.42643,     0.42743,     0.42843,     0.42943,     0.43043,     0.43143,\n",
       "           0.43243,     0.43343,     0.43443,     0.43544,     0.43644,     0.43744,     0.43844,     0.43944,     0.44044,     0.44144,     0.44244,     0.44344,     0.44444,     0.44545,     0.44645,     0.44745,     0.44845,     0.44945,     0.45045,     0.45145,     0.45245,     0.45345,     0.45445,     0.45546,\n",
       "           0.45646,     0.45746,     0.45846,     0.45946,     0.46046,     0.46146,     0.46246,     0.46346,     0.46446,     0.46547,     0.46647,     0.46747,     0.46847,     0.46947,     0.47047,     0.47147,     0.47247,     0.47347,     0.47447,     0.47548,     0.47648,     0.47748,     0.47848,     0.47948,\n",
       "           0.48048,     0.48148,     0.48248,     0.48348,     0.48448,     0.48549,     0.48649,     0.48749,     0.48849,     0.48949,     0.49049,     0.49149,     0.49249,     0.49349,     0.49449,      0.4955,      0.4965,      0.4975,      0.4985,      0.4995,      0.5005,      0.5015,      0.5025,      0.5035,\n",
       "            0.5045,     0.50551,     0.50651,     0.50751,     0.50851,     0.50951,     0.51051,     0.51151,     0.51251,     0.51351,     0.51451,     0.51552,     0.51652,     0.51752,     0.51852,     0.51952,     0.52052,     0.52152,     0.52252,     0.52352,     0.52452,     0.52553,     0.52653,     0.52753,\n",
       "           0.52853,     0.52953,     0.53053,     0.53153,     0.53253,     0.53353,     0.53453,     0.53554,     0.53654,     0.53754,     0.53854,     0.53954,     0.54054,     0.54154,     0.54254,     0.54354,     0.54454,     0.54555,     0.54655,     0.54755,     0.54855,     0.54955,     0.55055,     0.55155,\n",
       "           0.55255,     0.55355,     0.55455,     0.55556,     0.55656,     0.55756,     0.55856,     0.55956,     0.56056,     0.56156,     0.56256,     0.56356,     0.56456,     0.56557,     0.56657,     0.56757,     0.56857,     0.56957,     0.57057,     0.57157,     0.57257,     0.57357,     0.57457,     0.57558,\n",
       "           0.57658,     0.57758,     0.57858,     0.57958,     0.58058,     0.58158,     0.58258,     0.58358,     0.58458,     0.58559,     0.58659,     0.58759,     0.58859,     0.58959,     0.59059,     0.59159,     0.59259,     0.59359,     0.59459,      0.5956,      0.5966,      0.5976,      0.5986,      0.5996,\n",
       "            0.6006,      0.6016,      0.6026,      0.6036,      0.6046,     0.60561,     0.60661,     0.60761,     0.60861,     0.60961,     0.61061,     0.61161,     0.61261,     0.61361,     0.61461,     0.61562,     0.61662,     0.61762,     0.61862,     0.61962,     0.62062,     0.62162,     0.62262,     0.62362,\n",
       "           0.62462,     0.62563,     0.62663,     0.62763,     0.62863,     0.62963,     0.63063,     0.63163,     0.63263,     0.63363,     0.63463,     0.63564,     0.63664,     0.63764,     0.63864,     0.63964,     0.64064,     0.64164,     0.64264,     0.64364,     0.64464,     0.64565,     0.64665,     0.64765,\n",
       "           0.64865,     0.64965,     0.65065,     0.65165,     0.65265,     0.65365,     0.65465,     0.65566,     0.65666,     0.65766,     0.65866,     0.65966,     0.66066,     0.66166,     0.66266,     0.66366,     0.66466,     0.66567,     0.66667,     0.66767,     0.66867,     0.66967,     0.67067,     0.67167,\n",
       "           0.67267,     0.67367,     0.67467,     0.67568,     0.67668,     0.67768,     0.67868,     0.67968,     0.68068,     0.68168,     0.68268,     0.68368,     0.68468,     0.68569,     0.68669,     0.68769,     0.68869,     0.68969,     0.69069,     0.69169,     0.69269,     0.69369,     0.69469,      0.6957,\n",
       "            0.6967,      0.6977,      0.6987,      0.6997,      0.7007,      0.7017,      0.7027,      0.7037,      0.7047,     0.70571,     0.70671,     0.70771,     0.70871,     0.70971,     0.71071,     0.71171,     0.71271,     0.71371,     0.71471,     0.71572,     0.71672,     0.71772,     0.71872,     0.71972,\n",
       "           0.72072,     0.72172,     0.72272,     0.72372,     0.72472,     0.72573,     0.72673,     0.72773,     0.72873,     0.72973,     0.73073,     0.73173,     0.73273,     0.73373,     0.73473,     0.73574,     0.73674,     0.73774,     0.73874,     0.73974,     0.74074,     0.74174,     0.74274,     0.74374,\n",
       "           0.74474,     0.74575,     0.74675,     0.74775,     0.74875,     0.74975,     0.75075,     0.75175,     0.75275,     0.75375,     0.75475,     0.75576,     0.75676,     0.75776,     0.75876,     0.75976,     0.76076,     0.76176,     0.76276,     0.76376,     0.76476,     0.76577,     0.76677,     0.76777,\n",
       "           0.76877,     0.76977,     0.77077,     0.77177,     0.77277,     0.77377,     0.77477,     0.77578,     0.77678,     0.77778,     0.77878,     0.77978,     0.78078,     0.78178,     0.78278,     0.78378,     0.78478,     0.78579,     0.78679,     0.78779,     0.78879,     0.78979,     0.79079,     0.79179,\n",
       "           0.79279,     0.79379,     0.79479,      0.7958,      0.7968,      0.7978,      0.7988,      0.7998,      0.8008,      0.8018,      0.8028,      0.8038,      0.8048,     0.80581,     0.80681,     0.80781,     0.80881,     0.80981,     0.81081,     0.81181,     0.81281,     0.81381,     0.81481,     0.81582,\n",
       "           0.81682,     0.81782,     0.81882,     0.81982,     0.82082,     0.82182,     0.82282,     0.82382,     0.82482,     0.82583,     0.82683,     0.82783,     0.82883,     0.82983,     0.83083,     0.83183,     0.83283,     0.83383,     0.83483,     0.83584,     0.83684,     0.83784,     0.83884,     0.83984,\n",
       "           0.84084,     0.84184,     0.84284,     0.84384,     0.84484,     0.84585,     0.84685,     0.84785,     0.84885,     0.84985,     0.85085,     0.85185,     0.85285,     0.85385,     0.85485,     0.85586,     0.85686,     0.85786,     0.85886,     0.85986,     0.86086,     0.86186,     0.86286,     0.86386,\n",
       "           0.86486,     0.86587,     0.86687,     0.86787,     0.86887,     0.86987,     0.87087,     0.87187,     0.87287,     0.87387,     0.87487,     0.87588,     0.87688,     0.87788,     0.87888,     0.87988,     0.88088,     0.88188,     0.88288,     0.88388,     0.88488,     0.88589,     0.88689,     0.88789,\n",
       "           0.88889,     0.88989,     0.89089,     0.89189,     0.89289,     0.89389,     0.89489,      0.8959,      0.8969,      0.8979,      0.8989,      0.8999,      0.9009,      0.9019,      0.9029,      0.9039,      0.9049,     0.90591,     0.90691,     0.90791,     0.90891,     0.90991,     0.91091,     0.91191,\n",
       "           0.91291,     0.91391,     0.91491,     0.91592,     0.91692,     0.91792,     0.91892,     0.91992,     0.92092,     0.92192,     0.92292,     0.92392,     0.92492,     0.92593,     0.92693,     0.92793,     0.92893,     0.92993,     0.93093,     0.93193,     0.93293,     0.93393,     0.93493,     0.93594,\n",
       "           0.93694,     0.93794,     0.93894,     0.93994,     0.94094,     0.94194,     0.94294,     0.94394,     0.94494,     0.94595,     0.94695,     0.94795,     0.94895,     0.94995,     0.95095,     0.95195,     0.95295,     0.95395,     0.95495,     0.95596,     0.95696,     0.95796,     0.95896,     0.95996,\n",
       "           0.96096,     0.96196,     0.96296,     0.96396,     0.96496,     0.96597,     0.96697,     0.96797,     0.96897,     0.96997,     0.97097,     0.97197,     0.97297,     0.97397,     0.97497,     0.97598,     0.97698,     0.97798,     0.97898,     0.97998,     0.98098,     0.98198,     0.98298,     0.98398,\n",
       "           0.98498,     0.98599,     0.98699,     0.98799,     0.98899,     0.98999,     0.99099,     0.99199,     0.99299,     0.99399,     0.99499,       0.996,       0.997,       0.998,       0.999,           1]), array([[    0.99333,     0.99333,      0.9909,      0.9909,     0.98969,     0.98969,     0.98908,     0.98848,     0.98787,     0.98727,     0.98727,     0.98727,     0.98727,     0.98727,     0.98727,     0.98727,     0.98727,     0.98727,     0.98727,     0.98727,     0.98605,     0.98605,     0.98484,\n",
       "            0.98484,     0.98484,     0.98484,     0.98484,     0.98484,     0.98484,     0.98484,     0.98484,     0.98484,     0.98484,     0.98484,     0.98423,     0.98423,     0.98423,     0.98423,     0.98423,     0.98423,     0.98423,     0.98423,     0.98423,     0.98423,     0.98423,     0.98423,\n",
       "            0.98423,     0.98423,     0.98423,     0.98423,     0.98423,     0.98363,     0.98363,     0.98363,     0.98363,     0.98302,     0.98302,     0.98302,     0.98302,     0.98302,     0.98241,     0.98241,     0.98241,     0.98241,     0.98241,     0.98241,     0.98241,     0.98241,     0.98181,\n",
       "            0.98181,     0.98181,     0.98181,      0.9812,      0.9812,      0.9812,      0.9812,      0.9812,     0.98059,     0.98059,     0.97999,     0.97999,     0.97999,     0.97938,     0.97938,     0.97938,     0.97938,     0.97938,     0.97938,     0.97938,     0.97878,     0.97878,     0.97878,\n",
       "            0.97878,     0.97817,     0.97817,     0.97817,     0.97817,     0.97817,     0.97817,     0.97817,     0.97696,     0.97635,     0.97635,     0.97574,     0.97574,     0.97514,     0.97514,     0.97453,     0.97392,     0.97332,     0.97271,      0.9721,      0.9721,      0.9721,      0.9721,\n",
       "             0.9721,      0.9715,      0.9715,      0.9715,      0.9715,     0.97089,     0.97089,     0.97089,     0.97061,     0.97029,     0.97029,     0.96968,     0.96968,     0.96968,     0.96968,     0.96968,     0.96968,     0.96968,     0.96968,     0.96907,     0.96861,     0.96847,     0.96847,\n",
       "            0.96847,     0.96802,     0.96786,     0.96725,     0.96725,     0.96725,     0.96665,     0.96665,     0.96665,     0.96665,     0.96665,     0.96665,     0.96604,     0.96543,     0.96543,     0.96483,     0.96483,     0.96483,     0.96483,     0.96477,     0.96422,     0.96422,     0.96422,\n",
       "            0.96422,     0.96422,     0.96361,     0.96334,      0.9624,      0.9624,      0.9624,      0.9624,      0.9624,      0.9618,     0.96119,     0.96119,     0.96119,     0.96024,     0.95998,     0.95998,     0.95998,     0.95998,     0.95816,     0.95794,     0.95758,     0.95694,     0.95684,\n",
       "            0.95635,     0.95634,     0.95634,     0.95634,     0.95634,     0.95551,     0.95478,       0.954,     0.95391,     0.95331,     0.95331,     0.95331,     0.95331,     0.95331,     0.95331,     0.95331,     0.95306,      0.9527,     0.95228,     0.95149,     0.95102,     0.95072,     0.95052,\n",
       "            0.95033,     0.94967,     0.94895,     0.94864,     0.94806,     0.94749,     0.94641,     0.94542,     0.94542,     0.94542,     0.94542,     0.94542,     0.94542,     0.94542,     0.94491,     0.94461,     0.94438,     0.94412,      0.9437,     0.94326,     0.94239,     0.94239,     0.94239,\n",
       "            0.94239,     0.94239,     0.94239,     0.94212,     0.94182,     0.94112,     0.94071,     0.93936,     0.93909,     0.93826,      0.9362,     0.93468,     0.93389,     0.93368,     0.93347,     0.93319,     0.93236,     0.93092,     0.92923,     0.92905,     0.92844,     0.92821,     0.92678,\n",
       "             0.9264,     0.92612,     0.92585,     0.92557,     0.92463,     0.92421,       0.924,     0.92379,     0.92359,     0.92359,     0.92359,     0.92359,     0.92356,     0.92336,     0.92315,     0.92298,     0.92298,     0.92217,     0.92176,     0.92134,      0.9196,     0.91825,     0.91749,\n",
       "            0.91725,       0.917,     0.91574,     0.91501,     0.91459,     0.91402,     0.91323,     0.91267,     0.91267,     0.91242,     0.91201,     0.91166,     0.91109,     0.91068,     0.91043,     0.90941,     0.90843,     0.90843,     0.90843,      0.9082,     0.90749,     0.90698,     0.90662,\n",
       "            0.90592,     0.90557,      0.9054,      0.9054,     0.90459,     0.90434,     0.90418,     0.90379,     0.90358,     0.90354,     0.90336,     0.90319,     0.90301,     0.90174,     0.90138,     0.90094,     0.90024,     0.89971,     0.89936,     0.89933,     0.89868,     0.89845,     0.89822,\n",
       "             0.8963,      0.8963,     0.89567,     0.89544,     0.89522,     0.89474,     0.89388,     0.89388,     0.89292,     0.89256,     0.89221,      0.8917,     0.89063,     0.89028,     0.88992,     0.88891,     0.88837,     0.88815,     0.88792,     0.88738,     0.88632,     0.88537,     0.88524,\n",
       "             0.8851,     0.88496,     0.88482,     0.88435,     0.88409,     0.88398,     0.88387,     0.88375,     0.88364,     0.88335,     0.88283,     0.88247,     0.88212,     0.88176,     0.88054,     0.88018,     0.87986,     0.87964,     0.87941,     0.87834,     0.87772,      0.8771,      0.8762,\n",
       "            0.87606,     0.87592,     0.87578,      0.8749,     0.87254,     0.87219,     0.87186,     0.87155,     0.87104,     0.87022,     0.87022,     0.86963,       0.869,     0.86823,     0.86761,     0.86638,     0.86576,     0.86446,     0.86315,     0.86295,     0.86283,     0.86267,      0.8625,\n",
       "            0.86232,     0.86172,     0.86141,     0.86104,     0.86029,     0.85845,     0.85723,      0.8566,     0.85598,     0.85526,     0.85398,     0.85361,     0.85329,     0.85272,     0.85149,     0.85087,      0.8501,     0.84948,     0.84886,     0.84824,     0.84773,     0.84752,     0.84731,\n",
       "            0.84652,     0.84635,     0.84618,     0.84602,     0.84515,     0.84483,     0.84415,     0.84307,     0.84184,     0.84048,     0.84017,     0.83921,     0.83803,     0.83772,     0.83735,      0.8368,     0.83649,     0.83557,     0.83526,     0.83498,     0.83475,     0.83453,     0.83344,\n",
       "            0.83282,     0.83159,     0.83126,     0.83106,     0.83085,     0.82971,     0.82909,      0.8276,     0.82739,     0.82719,      0.8266,     0.82576,     0.82555,     0.82474,     0.82411,     0.82291,     0.82268,     0.82246,     0.82087,     0.81903,     0.81794,     0.81763,      0.8155,\n",
       "            0.81519,     0.81411,     0.81227,     0.80983,     0.80739,     0.80642,     0.80621,     0.80601,     0.80551,     0.80428,     0.80389,     0.80358,     0.80302,     0.80266,     0.80235,     0.80055,       0.799,     0.79868,     0.79687,     0.79625,     0.79563,     0.79379,     0.79196,\n",
       "            0.79076,     0.79045,     0.78949,     0.78826,     0.78703,     0.78587,     0.78556,     0.78517,     0.78394,      0.7815,     0.78087,     0.77661,     0.77539,     0.77441,     0.77293,     0.77231,     0.77108,     0.77046,     0.76802,     0.76679,     0.76617,      0.7641,     0.76311,\n",
       "            0.76188,     0.76004,     0.75882,     0.75819,     0.75697,     0.75331,     0.75269,     0.75146,     0.74963,     0.74658,     0.74596,     0.74109,     0.73894,     0.73863,     0.73498,     0.73254,     0.73192,      0.7313,     0.72643,      0.7252,     0.72403,     0.72371,     0.72091,\n",
       "            0.71794,     0.71763,     0.71723,     0.71661,     0.71538,     0.71476,      0.7111,     0.70927,     0.70622,     0.70378,     0.70195,     0.70032,     0.70011,     0.69991,     0.69885,     0.69763,      0.6964,     0.69456,     0.69273,     0.69211,     0.69088,     0.68928,     0.68897,\n",
       "             0.6872,     0.68683,     0.68652,     0.68291,     0.68107,     0.67893,     0.67528,     0.67466,     0.67222,     0.66917,     0.66734,     0.66611,     0.66427,     0.66183,     0.65757,     0.65634,     0.65512,     0.65146,      0.6513,     0.65022,     0.64778,     0.64655,     0.64498,\n",
       "            0.64467,     0.64226,     0.63861,     0.63706,     0.63675,     0.63371,     0.63006,     0.62965,     0.62765,     0.62667,     0.62363,     0.62179,     0.62056,     0.61652,     0.61621,     0.61567,      0.6108,     0.61007,     0.60653,     0.60166,     0.59982,     0.59465,     0.59161,\n",
       "            0.59038,     0.58794,      0.5855,     0.58245,     0.58062,     0.57999,     0.57695,     0.57511,     0.57267,     0.56976,     0.56688,     0.56383,     0.55957,     0.55652,     0.54923,       0.548,     0.54738,     0.54494,     0.54164,     0.53976,     0.53792,     0.53427,     0.53001,\n",
       "            0.52878,     0.52452,     0.52026,     0.51896,     0.51568,     0.51263,     0.50837,     0.50472,     0.50228,     0.49923,     0.49679,     0.49344,       0.491,     0.48674,     0.48491,     0.48428,     0.48036,     0.47818,     0.47787,     0.47179,     0.46996,      0.4663,     0.46502,\n",
       "            0.46233,      0.4611,     0.45745,      0.4544,     0.45135,     0.44497,     0.44314,     0.43948,     0.43704,     0.43439,     0.43246,     0.43002,     0.42637,     0.42454,     0.42118,     0.41692,     0.41509,     0.41386,      0.4093,     0.40504,      0.4026,     0.40076,     0.39822,\n",
       "            0.39497,     0.39374,     0.39191,     0.38856,     0.38733,     0.38428,     0.38224,     0.38031,     0.37787,     0.37482,     0.37026,     0.36782,     0.36659,     0.36506,     0.36444,     0.36139,     0.35889,     0.35742,     0.35619,     0.35436,     0.35222,      0.3516,     0.35083,\n",
       "            0.34944,     0.34882,      0.3482,     0.34546,     0.34483,     0.34398,     0.34208,     0.34043,     0.33992,     0.33869,     0.33595,     0.33351,     0.33285,     0.33136,     0.33074,     0.32981,     0.32862,      0.3282,     0.32604,     0.32573,     0.32413,      0.3225,     0.32209,\n",
       "            0.31994,     0.31963,     0.31559,     0.31517,     0.31476,     0.31253,     0.31095,     0.31064,     0.30906,      0.3044,     0.30399,     0.30175,     0.30134,     0.30092,     0.30051,      0.2983,     0.29799,     0.29704,     0.29663,       0.295,     0.29277,     0.29235,     0.28951,\n",
       "            0.28728,     0.28686,     0.28584,     0.28482,     0.28259,     0.28217,     0.28182,     0.28151,     0.27931,     0.27769,     0.27727,     0.27625,     0.27462,     0.27421,     0.27319,     0.27156,     0.27115,      0.2703,     0.27009,     0.26988,     0.26809,     0.26766,     0.26482,\n",
       "            0.26441,     0.26156,     0.26054,     0.25952,     0.25911,     0.25809,     0.25767,     0.25726,     0.25624,     0.25335,     0.25278,     0.25237,     0.25074,     0.24972,      0.2493,     0.24828,     0.24726,     0.24685,     0.24321,     0.24157,     0.23813,     0.23711,     0.23669,\n",
       "            0.23556,     0.23384,     0.22979,     0.22937,      0.2264,     0.22349,     0.22186,     0.22145,     0.21995,      0.2197,     0.21879,     0.21838,     0.21597,     0.21371,       0.212,     0.20782,     0.20741,     0.20518,     0.20163,     0.19869,     0.19644,     0.19462,     0.19421,\n",
       "            0.19367,     0.19015,     0.18424,     0.18063,     0.18021,     0.17722,     0.17372,     0.17021,     0.16595,     0.15631,     0.15589,     0.14862,     0.14213,     0.13737,     0.13008,     0.12714,     0.12429,     0.12246,     0.12185,     0.12144,     0.11726,     0.11542,     0.11494,\n",
       "            0.11387,     0.11204,     0.11142,     0.11086,     0.11044,     0.10864,     0.10802,     0.10619,     0.10496,     0.10332,      0.1022,      0.1018,     0.10165,     0.10149,     0.10134,     0.10091,     0.10052,     0.10027,     0.09935,    0.097595,    0.097388,    0.097181,    0.096864,\n",
       "           0.093817,    0.091376,    0.088935,    0.085888,    0.083447,    0.081612,    0.080384,    0.077943,    0.077322,    0.073971,    0.072137,    0.070909,    0.069074,    0.067846,    0.066012,    0.064818,    0.064404,    0.064243,    0.064189,    0.064135,    0.064081,    0.064027,    0.063973,\n",
       "           0.063919,    0.063865,    0.063811,    0.063757,    0.063703,    0.063374,    0.062857,    0.062456,    0.062318,    0.062179,    0.062041,    0.061903,    0.061652,    0.061341,    0.060424,    0.060113,     0.05988,    0.059673,    0.059466,    0.056794,     0.05534,    0.054216,     0.05311,\n",
       "           0.047972,     0.04368,    0.041542,    0.038178,     0.03666,     0.03149,    0.027777,     0.02297,    0.021046,    0.016572,   0.0076438,   0.0050196,   0.0027317,   0.0016539,   0.0011406,  0.00089198,  0.00064334,           0,           0,           0,           0,           0,           0,\n",
       "                  0,           0,           0,           0,           0,           0,           0,           0,           0,           0,           0,           0,           0,           0,           0,           0,           0,           0,           0,           0,           0,           0,           0,\n",
       "                  0,           0,           0,           0,           0,           0,           0,           0,           0,           0,           0,           0,           0,           0,           0,           0,           0,           0,           0,           0,           0,           0,           0,\n",
       "                  0,           0,           0,           0,           0,           0,           0,           0,           0,           0,           0,           0,           0,           0,           0,           0,           0,           0,           0,           0,           0,           0,           0,\n",
       "                  0,           0,           0,           0,           0,           0,           0,           0,           0,           0,           0]]), 'Confidence', 'Recall'], [array([          0,    0.001001,    0.002002,    0.003003,    0.004004,    0.005005,    0.006006,    0.007007,    0.008008,    0.009009,     0.01001,    0.011011,    0.012012,    0.013013,    0.014014,    0.015015,    0.016016,    0.017017,    0.018018,    0.019019,     0.02002,    0.021021,    0.022022,    0.023023,\n",
       "          0.024024,    0.025025,    0.026026,    0.027027,    0.028028,    0.029029,     0.03003,    0.031031,    0.032032,    0.033033,    0.034034,    0.035035,    0.036036,    0.037037,    0.038038,    0.039039,     0.04004,    0.041041,    0.042042,    0.043043,    0.044044,    0.045045,    0.046046,    0.047047,\n",
       "          0.048048,    0.049049,     0.05005,    0.051051,    0.052052,    0.053053,    0.054054,    0.055055,    0.056056,    0.057057,    0.058058,    0.059059,     0.06006,    0.061061,    0.062062,    0.063063,    0.064064,    0.065065,    0.066066,    0.067067,    0.068068,    0.069069,     0.07007,    0.071071,\n",
       "          0.072072,    0.073073,    0.074074,    0.075075,    0.076076,    0.077077,    0.078078,    0.079079,     0.08008,    0.081081,    0.082082,    0.083083,    0.084084,    0.085085,    0.086086,    0.087087,    0.088088,    0.089089,     0.09009,    0.091091,    0.092092,    0.093093,    0.094094,    0.095095,\n",
       "          0.096096,    0.097097,    0.098098,    0.099099,      0.1001,      0.1011,      0.1021,      0.1031,      0.1041,     0.10511,     0.10611,     0.10711,     0.10811,     0.10911,     0.11011,     0.11111,     0.11211,     0.11311,     0.11411,     0.11512,     0.11612,     0.11712,     0.11812,     0.11912,\n",
       "           0.12012,     0.12112,     0.12212,     0.12312,     0.12412,     0.12513,     0.12613,     0.12713,     0.12813,     0.12913,     0.13013,     0.13113,     0.13213,     0.13313,     0.13413,     0.13514,     0.13614,     0.13714,     0.13814,     0.13914,     0.14014,     0.14114,     0.14214,     0.14314,\n",
       "           0.14414,     0.14515,     0.14615,     0.14715,     0.14815,     0.14915,     0.15015,     0.15115,     0.15215,     0.15315,     0.15415,     0.15516,     0.15616,     0.15716,     0.15816,     0.15916,     0.16016,     0.16116,     0.16216,     0.16316,     0.16416,     0.16517,     0.16617,     0.16717,\n",
       "           0.16817,     0.16917,     0.17017,     0.17117,     0.17217,     0.17317,     0.17417,     0.17518,     0.17618,     0.17718,     0.17818,     0.17918,     0.18018,     0.18118,     0.18218,     0.18318,     0.18418,     0.18519,     0.18619,     0.18719,     0.18819,     0.18919,     0.19019,     0.19119,\n",
       "           0.19219,     0.19319,     0.19419,      0.1952,      0.1962,      0.1972,      0.1982,      0.1992,      0.2002,      0.2012,      0.2022,      0.2032,      0.2042,     0.20521,     0.20621,     0.20721,     0.20821,     0.20921,     0.21021,     0.21121,     0.21221,     0.21321,     0.21421,     0.21522,\n",
       "           0.21622,     0.21722,     0.21822,     0.21922,     0.22022,     0.22122,     0.22222,     0.22322,     0.22422,     0.22523,     0.22623,     0.22723,     0.22823,     0.22923,     0.23023,     0.23123,     0.23223,     0.23323,     0.23423,     0.23524,     0.23624,     0.23724,     0.23824,     0.23924,\n",
       "           0.24024,     0.24124,     0.24224,     0.24324,     0.24424,     0.24525,     0.24625,     0.24725,     0.24825,     0.24925,     0.25025,     0.25125,     0.25225,     0.25325,     0.25425,     0.25526,     0.25626,     0.25726,     0.25826,     0.25926,     0.26026,     0.26126,     0.26226,     0.26326,\n",
       "           0.26426,     0.26527,     0.26627,     0.26727,     0.26827,     0.26927,     0.27027,     0.27127,     0.27227,     0.27327,     0.27427,     0.27528,     0.27628,     0.27728,     0.27828,     0.27928,     0.28028,     0.28128,     0.28228,     0.28328,     0.28428,     0.28529,     0.28629,     0.28729,\n",
       "           0.28829,     0.28929,     0.29029,     0.29129,     0.29229,     0.29329,     0.29429,      0.2953,      0.2963,      0.2973,      0.2983,      0.2993,      0.3003,      0.3013,      0.3023,      0.3033,      0.3043,     0.30531,     0.30631,     0.30731,     0.30831,     0.30931,     0.31031,     0.31131,\n",
       "           0.31231,     0.31331,     0.31431,     0.31532,     0.31632,     0.31732,     0.31832,     0.31932,     0.32032,     0.32132,     0.32232,     0.32332,     0.32432,     0.32533,     0.32633,     0.32733,     0.32833,     0.32933,     0.33033,     0.33133,     0.33233,     0.33333,     0.33433,     0.33534,\n",
       "           0.33634,     0.33734,     0.33834,     0.33934,     0.34034,     0.34134,     0.34234,     0.34334,     0.34434,     0.34535,     0.34635,     0.34735,     0.34835,     0.34935,     0.35035,     0.35135,     0.35235,     0.35335,     0.35435,     0.35536,     0.35636,     0.35736,     0.35836,     0.35936,\n",
       "           0.36036,     0.36136,     0.36236,     0.36336,     0.36436,     0.36537,     0.36637,     0.36737,     0.36837,     0.36937,     0.37037,     0.37137,     0.37237,     0.37337,     0.37437,     0.37538,     0.37638,     0.37738,     0.37838,     0.37938,     0.38038,     0.38138,     0.38238,     0.38338,\n",
       "           0.38438,     0.38539,     0.38639,     0.38739,     0.38839,     0.38939,     0.39039,     0.39139,     0.39239,     0.39339,     0.39439,      0.3954,      0.3964,      0.3974,      0.3984,      0.3994,      0.4004,      0.4014,      0.4024,      0.4034,      0.4044,     0.40541,     0.40641,     0.40741,\n",
       "           0.40841,     0.40941,     0.41041,     0.41141,     0.41241,     0.41341,     0.41441,     0.41542,     0.41642,     0.41742,     0.41842,     0.41942,     0.42042,     0.42142,     0.42242,     0.42342,     0.42442,     0.42543,     0.42643,     0.42743,     0.42843,     0.42943,     0.43043,     0.43143,\n",
       "           0.43243,     0.43343,     0.43443,     0.43544,     0.43644,     0.43744,     0.43844,     0.43944,     0.44044,     0.44144,     0.44244,     0.44344,     0.44444,     0.44545,     0.44645,     0.44745,     0.44845,     0.44945,     0.45045,     0.45145,     0.45245,     0.45345,     0.45445,     0.45546,\n",
       "           0.45646,     0.45746,     0.45846,     0.45946,     0.46046,     0.46146,     0.46246,     0.46346,     0.46446,     0.46547,     0.46647,     0.46747,     0.46847,     0.46947,     0.47047,     0.47147,     0.47247,     0.47347,     0.47447,     0.47548,     0.47648,     0.47748,     0.47848,     0.47948,\n",
       "           0.48048,     0.48148,     0.48248,     0.48348,     0.48448,     0.48549,     0.48649,     0.48749,     0.48849,     0.48949,     0.49049,     0.49149,     0.49249,     0.49349,     0.49449,      0.4955,      0.4965,      0.4975,      0.4985,      0.4995,      0.5005,      0.5015,      0.5025,      0.5035,\n",
       "            0.5045,     0.50551,     0.50651,     0.50751,     0.50851,     0.50951,     0.51051,     0.51151,     0.51251,     0.51351,     0.51451,     0.51552,     0.51652,     0.51752,     0.51852,     0.51952,     0.52052,     0.52152,     0.52252,     0.52352,     0.52452,     0.52553,     0.52653,     0.52753,\n",
       "           0.52853,     0.52953,     0.53053,     0.53153,     0.53253,     0.53353,     0.53453,     0.53554,     0.53654,     0.53754,     0.53854,     0.53954,     0.54054,     0.54154,     0.54254,     0.54354,     0.54454,     0.54555,     0.54655,     0.54755,     0.54855,     0.54955,     0.55055,     0.55155,\n",
       "           0.55255,     0.55355,     0.55455,     0.55556,     0.55656,     0.55756,     0.55856,     0.55956,     0.56056,     0.56156,     0.56256,     0.56356,     0.56456,     0.56557,     0.56657,     0.56757,     0.56857,     0.56957,     0.57057,     0.57157,     0.57257,     0.57357,     0.57457,     0.57558,\n",
       "           0.57658,     0.57758,     0.57858,     0.57958,     0.58058,     0.58158,     0.58258,     0.58358,     0.58458,     0.58559,     0.58659,     0.58759,     0.58859,     0.58959,     0.59059,     0.59159,     0.59259,     0.59359,     0.59459,      0.5956,      0.5966,      0.5976,      0.5986,      0.5996,\n",
       "            0.6006,      0.6016,      0.6026,      0.6036,      0.6046,     0.60561,     0.60661,     0.60761,     0.60861,     0.60961,     0.61061,     0.61161,     0.61261,     0.61361,     0.61461,     0.61562,     0.61662,     0.61762,     0.61862,     0.61962,     0.62062,     0.62162,     0.62262,     0.62362,\n",
       "           0.62462,     0.62563,     0.62663,     0.62763,     0.62863,     0.62963,     0.63063,     0.63163,     0.63263,     0.63363,     0.63463,     0.63564,     0.63664,     0.63764,     0.63864,     0.63964,     0.64064,     0.64164,     0.64264,     0.64364,     0.64464,     0.64565,     0.64665,     0.64765,\n",
       "           0.64865,     0.64965,     0.65065,     0.65165,     0.65265,     0.65365,     0.65465,     0.65566,     0.65666,     0.65766,     0.65866,     0.65966,     0.66066,     0.66166,     0.66266,     0.66366,     0.66466,     0.66567,     0.66667,     0.66767,     0.66867,     0.66967,     0.67067,     0.67167,\n",
       "           0.67267,     0.67367,     0.67467,     0.67568,     0.67668,     0.67768,     0.67868,     0.67968,     0.68068,     0.68168,     0.68268,     0.68368,     0.68468,     0.68569,     0.68669,     0.68769,     0.68869,     0.68969,     0.69069,     0.69169,     0.69269,     0.69369,     0.69469,      0.6957,\n",
       "            0.6967,      0.6977,      0.6987,      0.6997,      0.7007,      0.7017,      0.7027,      0.7037,      0.7047,     0.70571,     0.70671,     0.70771,     0.70871,     0.70971,     0.71071,     0.71171,     0.71271,     0.71371,     0.71471,     0.71572,     0.71672,     0.71772,     0.71872,     0.71972,\n",
       "           0.72072,     0.72172,     0.72272,     0.72372,     0.72472,     0.72573,     0.72673,     0.72773,     0.72873,     0.72973,     0.73073,     0.73173,     0.73273,     0.73373,     0.73473,     0.73574,     0.73674,     0.73774,     0.73874,     0.73974,     0.74074,     0.74174,     0.74274,     0.74374,\n",
       "           0.74474,     0.74575,     0.74675,     0.74775,     0.74875,     0.74975,     0.75075,     0.75175,     0.75275,     0.75375,     0.75475,     0.75576,     0.75676,     0.75776,     0.75876,     0.75976,     0.76076,     0.76176,     0.76276,     0.76376,     0.76476,     0.76577,     0.76677,     0.76777,\n",
       "           0.76877,     0.76977,     0.77077,     0.77177,     0.77277,     0.77377,     0.77477,     0.77578,     0.77678,     0.77778,     0.77878,     0.77978,     0.78078,     0.78178,     0.78278,     0.78378,     0.78478,     0.78579,     0.78679,     0.78779,     0.78879,     0.78979,     0.79079,     0.79179,\n",
       "           0.79279,     0.79379,     0.79479,      0.7958,      0.7968,      0.7978,      0.7988,      0.7998,      0.8008,      0.8018,      0.8028,      0.8038,      0.8048,     0.80581,     0.80681,     0.80781,     0.80881,     0.80981,     0.81081,     0.81181,     0.81281,     0.81381,     0.81481,     0.81582,\n",
       "           0.81682,     0.81782,     0.81882,     0.81982,     0.82082,     0.82182,     0.82282,     0.82382,     0.82482,     0.82583,     0.82683,     0.82783,     0.82883,     0.82983,     0.83083,     0.83183,     0.83283,     0.83383,     0.83483,     0.83584,     0.83684,     0.83784,     0.83884,     0.83984,\n",
       "           0.84084,     0.84184,     0.84284,     0.84384,     0.84484,     0.84585,     0.84685,     0.84785,     0.84885,     0.84985,     0.85085,     0.85185,     0.85285,     0.85385,     0.85485,     0.85586,     0.85686,     0.85786,     0.85886,     0.85986,     0.86086,     0.86186,     0.86286,     0.86386,\n",
       "           0.86486,     0.86587,     0.86687,     0.86787,     0.86887,     0.86987,     0.87087,     0.87187,     0.87287,     0.87387,     0.87487,     0.87588,     0.87688,     0.87788,     0.87888,     0.87988,     0.88088,     0.88188,     0.88288,     0.88388,     0.88488,     0.88589,     0.88689,     0.88789,\n",
       "           0.88889,     0.88989,     0.89089,     0.89189,     0.89289,     0.89389,     0.89489,      0.8959,      0.8969,      0.8979,      0.8989,      0.8999,      0.9009,      0.9019,      0.9029,      0.9039,      0.9049,     0.90591,     0.90691,     0.90791,     0.90891,     0.90991,     0.91091,     0.91191,\n",
       "           0.91291,     0.91391,     0.91491,     0.91592,     0.91692,     0.91792,     0.91892,     0.91992,     0.92092,     0.92192,     0.92292,     0.92392,     0.92492,     0.92593,     0.92693,     0.92793,     0.92893,     0.92993,     0.93093,     0.93193,     0.93293,     0.93393,     0.93493,     0.93594,\n",
       "           0.93694,     0.93794,     0.93894,     0.93994,     0.94094,     0.94194,     0.94294,     0.94394,     0.94494,     0.94595,     0.94695,     0.94795,     0.94895,     0.94995,     0.95095,     0.95195,     0.95295,     0.95395,     0.95495,     0.95596,     0.95696,     0.95796,     0.95896,     0.95996,\n",
       "           0.96096,     0.96196,     0.96296,     0.96396,     0.96496,     0.96597,     0.96697,     0.96797,     0.96897,     0.96997,     0.97097,     0.97197,     0.97297,     0.97397,     0.97497,     0.97598,     0.97698,     0.97798,     0.97898,     0.97998,     0.98098,     0.98198,     0.98298,     0.98398,\n",
       "           0.98498,     0.98599,     0.98699,     0.98799,     0.98899,     0.98999,     0.99099,     0.99199,     0.99299,     0.99399,     0.99499,       0.996,       0.997,       0.998,       0.999,           1]), array([[          1,           1,           1,           1,           1,           1,           1,           1,           1,           1,           1,           1,           1,           1,           1,           1,           1,           1,           1,           1,           1,           1,           1,\n",
       "                  1,           1,           1,           1,           1,           1,           1,           1,           1,           1,           1,           1,           1,           1,           1,           1,           1,           1,           1,           1,           1,           1,           1,\n",
       "                  1,           1,           1,           1,           1,           1,           1,           1,           1,           1,           1,           1,           1,           1,           1,           1,           1,           1,           1,           1,           1,           1,           1,\n",
       "                  1,           1,           1,           1,           1,           1,           1,           1,           1,           1,           1,           1,           1,           1,           1,           1,           1,           1,           1,           1,           1,           1,           1,\n",
       "                  1,           1,           1,           1,           1,           1,           1,           1,           1,           1,           1,           1,           1,           1,           1,           1,           1,           1,           1,           1,           1,           1,           1,\n",
       "                  1,           1,           1,           1,           1,           1,           1,           1,           1,           1,           1,           1,           1,           1,           1,           1,     0.99609,     0.99609,     0.99609,     0.99609,     0.99609,     0.99609,     0.99609,\n",
       "            0.99609,     0.99609,     0.99609,     0.99609,     0.99609,     0.99609,     0.99609,     0.99609,     0.99609,     0.99609,     0.99609,     0.99609,     0.99609,     0.99609,     0.99609,     0.99609,     0.99609,     0.98855,     0.98855,     0.98507,     0.98507,     0.98507,     0.98162,\n",
       "            0.98162,     0.97455,     0.97133,     0.97133,     0.96466,     0.96154,     0.95533,     0.95533,     0.95254,     0.95254,     0.94371,     0.94371,     0.93811,     0.93811,     0.93569,     0.93569,     0.93312,     0.93038,     0.92812,     0.92071,     0.92071,     0.92071,     0.92071,\n",
       "            0.92071,     0.92071,     0.92071,     0.92071,     0.92071,     0.92071,     0.92071,     0.92071,     0.92071,     0.92071,     0.92071,     0.92071,     0.92071,     0.92071,     0.92071,     0.92071,     0.92071,     0.92071,     0.92071,     0.92071,     0.92071,     0.92071,     0.92071,\n",
       "            0.92071,     0.92071,     0.92071,     0.92071,     0.92071,     0.92071,     0.92071,     0.92071,     0.92071,     0.92071,     0.92071,     0.92071,     0.92071,     0.92071,     0.92071,     0.92071,     0.92071,     0.92071,     0.92071,     0.92071,     0.92071,     0.92071,     0.92071,\n",
       "            0.92071,     0.92071,     0.92071,     0.92071,     0.92071,     0.92071,     0.92071,     0.92071,     0.92071,     0.92071,     0.92071,     0.92071,     0.92071,     0.92071,     0.92071,     0.92071,     0.92071,     0.92071,     0.92071,     0.92071,     0.92071,     0.92071,     0.92071,\n",
       "            0.92071,     0.92071,     0.92071,     0.92071,     0.92071,     0.92071,     0.92071,     0.92071,     0.92071,     0.92071,     0.92071,     0.92071,     0.92071,     0.92071,     0.92071,     0.92071,     0.92071,     0.92071,     0.92071,     0.92071,     0.92071,     0.92071,     0.92071,\n",
       "            0.92071,     0.92071,     0.92071,     0.92071,     0.92071,     0.92071,     0.92071,     0.92071,     0.92071,     0.92071,     0.92071,     0.92071,     0.92071,     0.92071,     0.92071,     0.92071,     0.92071,     0.92071,     0.92071,     0.92071,     0.92071,     0.92071,     0.92071,\n",
       "            0.92071,     0.92071,     0.92071,     0.92071,     0.92071,     0.92071,     0.92071,     0.92071,     0.92071,     0.92071,     0.92071,     0.92071,     0.92071,     0.92071,     0.92071,     0.92071,     0.92071,     0.92071,     0.92071,     0.92071,     0.92071,     0.92071,     0.92071,\n",
       "            0.92071,     0.92071,     0.92071,     0.92071,     0.92071,     0.92071,     0.92071,     0.92071,     0.92071,     0.92071,     0.92071,     0.92071,     0.92071,     0.92071,     0.92071,     0.92071,     0.92071,     0.92071,     0.92071,     0.92071,     0.92071,     0.92071,     0.92071,\n",
       "            0.92071,     0.92071,     0.92071,     0.92071,     0.92071,     0.92071,     0.92071,     0.92071,     0.92071,     0.92071,     0.92071,     0.92071,     0.92071,     0.92071,     0.92071,     0.92071,     0.92071,     0.92071,     0.92071,     0.92071,     0.92071,     0.92071,     0.92071,\n",
       "            0.92071,     0.92071,     0.92071,     0.92071,     0.92071,     0.92071,     0.92071,     0.92071,     0.92071,     0.92071,     0.92071,     0.92071,     0.92071,     0.92071,     0.92071,     0.92071,     0.92071,     0.92071,     0.92071,     0.92071,     0.92071,     0.92071,     0.92071,\n",
       "            0.92071,     0.92071,     0.92071,     0.92071,     0.92071,     0.92071,     0.92071,     0.92071,     0.92071,     0.92071,     0.92071,     0.92071,     0.92071,     0.92071,     0.92071,     0.92071,     0.92071,     0.92071,     0.92071,     0.92071,     0.92071,     0.92071,     0.92071,\n",
       "            0.92071,     0.92071,     0.92071,     0.92071,     0.92071,     0.92071,     0.92071,     0.92071,     0.92071,     0.92071,     0.92071,     0.92071,     0.92071,     0.92071,     0.92071,     0.92071,     0.92071,     0.92071,     0.92071,     0.92071,     0.92071,     0.92071,     0.92071,\n",
       "            0.92071,     0.92071,     0.92071,     0.92071,     0.92071,     0.92071,     0.92071,     0.92071,     0.92071,     0.92071,     0.92071,     0.92071,     0.92071,     0.92071,     0.92071,     0.92071,     0.92071,     0.92071,     0.92071,     0.92071,     0.92071,     0.92071,     0.92071,\n",
       "            0.92071,     0.92071,     0.92071,     0.92071,     0.92071,     0.92071,     0.92071,     0.92071,     0.92071,     0.92071,     0.92071,     0.92071,     0.92071,     0.92071,     0.92071,     0.92071,     0.92071,     0.92071,     0.92071,     0.92071,     0.92071,     0.92071,     0.92071,\n",
       "            0.92071,     0.92071,     0.92071,     0.92071,     0.92071,     0.92071,     0.92071,     0.92071,     0.92071,     0.92071,     0.92071,     0.92071,     0.92071,     0.92071,     0.92071,     0.92071,     0.92071,     0.92071,     0.92071,     0.92071,     0.92071,     0.92071,     0.92071,\n",
       "            0.92071,     0.92071,     0.92071,     0.92071,     0.92071,     0.92071,     0.92071,     0.92071,     0.92071,     0.92071,     0.92071,     0.92071,     0.92071,     0.92071,     0.92071,     0.92071,     0.92071,     0.92071,     0.92071,     0.92071,     0.92071,     0.92071,     0.92071,\n",
       "            0.92071,     0.92071,     0.92071,     0.92071,     0.92071,     0.92071,     0.92071,     0.92071,     0.92071,     0.92071,     0.92071,     0.92071,     0.92071,     0.92071,     0.92071,     0.92071,     0.92071,     0.92071,     0.92071,     0.92071,     0.92071,     0.92071,     0.92071,\n",
       "            0.92071,     0.92071,     0.92071,     0.92071,     0.92071,     0.92071,     0.92071,     0.92071,     0.92071,     0.92071,     0.92071,     0.92071,     0.92071,     0.92071,     0.92071,     0.92071,     0.92071,     0.92071,     0.92071,     0.92071,     0.92071,     0.92071,     0.92071,\n",
       "            0.92071,     0.92071,     0.92071,     0.92071,     0.92071,     0.92071,     0.92071,     0.92071,     0.92071,     0.92071,     0.92071,     0.92071,     0.92071,     0.92071,     0.92071,     0.92071,     0.92071,     0.92071,     0.92071,     0.92071,     0.92071,     0.92071,     0.92071,\n",
       "            0.92071,     0.92071,     0.92071,     0.92071,     0.92071,     0.92071,     0.92071,     0.92071,     0.92071,     0.92071,     0.92071,     0.92071,     0.92071,     0.92071,     0.92071,     0.92071,     0.92071,     0.92071,     0.92071,     0.92071,     0.92071,     0.92071,     0.92071,\n",
       "            0.92071,     0.92071,     0.92071,     0.92071,     0.92071,     0.92071,     0.92071,     0.92071,     0.92071,     0.92071,     0.92071,     0.92071,     0.92071,     0.92071,     0.92071,     0.92071,     0.92071,     0.92071,     0.92071,     0.92071,     0.92071,     0.92071,     0.92071,\n",
       "            0.92071,     0.92071,     0.92071,     0.92071,     0.92071,     0.92071,     0.92071,     0.92071,     0.92071,     0.92071,     0.92071,     0.92071,     0.92071,     0.92071,     0.92071,     0.92071,     0.92071,     0.92071,     0.92071,     0.92071,     0.92071,     0.92071,     0.92071,\n",
       "            0.92071,     0.92071,     0.92071,     0.92071,     0.92071,     0.92071,     0.92071,     0.92071,     0.92071,     0.92071,     0.92071,     0.92071,     0.92071,     0.92071,     0.92071,     0.92071,     0.92071,     0.92071,     0.92071,     0.92071,     0.92071,     0.92071,     0.92071,\n",
       "            0.92071,     0.92071,     0.92071,     0.92071,     0.92071,     0.92071,     0.92071,     0.92071,     0.92071,     0.92071,     0.92071,     0.92071,     0.92071,     0.92071,     0.92071,     0.92071,     0.92071,     0.92071,     0.92071,     0.92071,     0.92071,     0.92071,     0.92071,\n",
       "            0.92071,     0.92071,     0.92071,     0.92071,     0.92071,     0.92071,     0.92071,     0.92071,     0.92071,     0.92071,     0.92071,     0.92071,     0.92071,     0.92071,     0.92071,     0.92071,     0.92071,     0.92071,     0.92071,     0.92071,     0.92071,     0.92071,     0.92071,\n",
       "            0.92071,     0.92071,     0.92071,     0.92071,     0.92071,     0.92071,     0.92071,     0.92071,     0.92071,     0.92071,     0.92071,     0.92071,     0.92071,     0.92071,     0.92071,     0.92071,     0.92071,     0.92071,     0.92071,     0.92071,     0.92071,     0.92071,     0.92071,\n",
       "            0.92071,     0.92071,     0.92071,     0.92071,     0.92071,     0.92071,     0.92071,     0.92071,     0.92071,     0.92071,     0.92071,     0.92071,     0.92071,     0.92071,     0.92071,     0.92071,     0.92071,     0.92071,     0.92071,     0.92071,     0.92071,     0.92071,      0.9204,\n",
       "             0.9204,      0.9204,      0.9204,        0.92,        0.92,        0.92,        0.92,        0.92,        0.92,        0.92,        0.92,        0.92,        0.92,     0.91958,     0.91958,     0.91956,     0.91956,     0.91956,     0.91956,     0.91956,     0.91956,     0.91956,     0.91931,\n",
       "            0.91931,     0.91931,     0.91931,     0.91879,     0.91827,      0.9182,      0.9182,      0.9182,      0.9182,      0.9182,      0.9182,      0.9182,     0.91813,     0.91813,     0.91813,     0.91813,     0.91813,     0.91813,     0.91812,     0.91812,     0.91812,     0.91812,     0.91812,\n",
       "            0.91812,     0.91756,     0.91706,      0.9165,       0.916,     0.91506,     0.91506,     0.91506,     0.91474,     0.91474,     0.91474,     0.91453,     0.91453,     0.91453,     0.91453,     0.91399,      0.9129,     0.91236,     0.91129,      0.9098,      0.9098,      0.9098,     0.90933,\n",
       "            0.90903,     0.90903,     0.90903,     0.90857,     0.90857,     0.90857,     0.90857,     0.90857,     0.90857,     0.90857,     0.90805,     0.90794,     0.90794,     0.90794,     0.90794,     0.90794,     0.90613,     0.90613,     0.90613,     0.90613,     0.90613,     0.90613,     0.90613,\n",
       "            0.90613,     0.90613,     0.90613,     0.90613,      0.9058,      0.9058,     0.90329,     0.90329,     0.90329,     0.89951,     0.89846,     0.89803,     0.89761,     0.89657,      0.8956,     0.89132,     0.89037,      0.8899,     0.88522,     0.88429,      0.8839,     0.88292,     0.87782,\n",
       "            0.87478,     0.86979,     0.86639,     0.86546,     0.84835,     0.84506,      0.8419,     0.82806,      0.8246,     0.82198,     0.81192,     0.79649,     0.79083,     0.77156,       0.752,     0.74702,     0.74067,     0.73431,     0.72366,     0.72103,     0.70616,      0.6702,     0.66245,\n",
       "            0.64419,     0.60889,     0.59084,     0.58101,     0.54345,     0.47689,      0.4521,     0.38593,     0.37996,     0.36655,     0.34634,     0.31457,     0.30355,      0.2983,     0.28779,     0.28093,      0.2575,     0.25134,     0.24576,     0.24406,      0.2372,     0.22299,     0.21627,\n",
       "            0.20888,     0.20704,     0.20632,     0.20416,     0.19646,     0.19636,     0.19526,     0.19368,     0.19314,     0.19227,     0.19146,     0.19045,     0.18873,     0.18856,     0.18745,     0.18328,     0.17881,     0.17434,     0.16987,      0.1654,     0.16093,     0.15646,     0.15199,\n",
       "            0.14752,     0.14305,     0.13858,     0.13411,     0.12964,     0.12517,      0.1207,     0.11623,     0.11176,     0.10729,     0.10282,    0.098347,    0.093877,    0.089406,    0.084936,    0.080466,    0.075995,    0.071525,    0.067055,    0.062584,    0.058114,    0.053644,    0.049173,\n",
       "           0.044703,    0.040233,    0.035762,    0.031292,    0.026822,    0.022352,    0.017881,    0.013411,   0.0089406,   0.0044703,           0]]), 'Recall', 'Precision'], [array([          0,    0.001001,    0.002002,    0.003003,    0.004004,    0.005005,    0.006006,    0.007007,    0.008008,    0.009009,     0.01001,    0.011011,    0.012012,    0.013013,    0.014014,    0.015015,    0.016016,    0.017017,    0.018018,    0.019019,     0.02002,    0.021021,    0.022022,    0.023023,\n",
       "          0.024024,    0.025025,    0.026026,    0.027027,    0.028028,    0.029029,     0.03003,    0.031031,    0.032032,    0.033033,    0.034034,    0.035035,    0.036036,    0.037037,    0.038038,    0.039039,     0.04004,    0.041041,    0.042042,    0.043043,    0.044044,    0.045045,    0.046046,    0.047047,\n",
       "          0.048048,    0.049049,     0.05005,    0.051051,    0.052052,    0.053053,    0.054054,    0.055055,    0.056056,    0.057057,    0.058058,    0.059059,     0.06006,    0.061061,    0.062062,    0.063063,    0.064064,    0.065065,    0.066066,    0.067067,    0.068068,    0.069069,     0.07007,    0.071071,\n",
       "          0.072072,    0.073073,    0.074074,    0.075075,    0.076076,    0.077077,    0.078078,    0.079079,     0.08008,    0.081081,    0.082082,    0.083083,    0.084084,    0.085085,    0.086086,    0.087087,    0.088088,    0.089089,     0.09009,    0.091091,    0.092092,    0.093093,    0.094094,    0.095095,\n",
       "          0.096096,    0.097097,    0.098098,    0.099099,      0.1001,      0.1011,      0.1021,      0.1031,      0.1041,     0.10511,     0.10611,     0.10711,     0.10811,     0.10911,     0.11011,     0.11111,     0.11211,     0.11311,     0.11411,     0.11512,     0.11612,     0.11712,     0.11812,     0.11912,\n",
       "           0.12012,     0.12112,     0.12212,     0.12312,     0.12412,     0.12513,     0.12613,     0.12713,     0.12813,     0.12913,     0.13013,     0.13113,     0.13213,     0.13313,     0.13413,     0.13514,     0.13614,     0.13714,     0.13814,     0.13914,     0.14014,     0.14114,     0.14214,     0.14314,\n",
       "           0.14414,     0.14515,     0.14615,     0.14715,     0.14815,     0.14915,     0.15015,     0.15115,     0.15215,     0.15315,     0.15415,     0.15516,     0.15616,     0.15716,     0.15816,     0.15916,     0.16016,     0.16116,     0.16216,     0.16316,     0.16416,     0.16517,     0.16617,     0.16717,\n",
       "           0.16817,     0.16917,     0.17017,     0.17117,     0.17217,     0.17317,     0.17417,     0.17518,     0.17618,     0.17718,     0.17818,     0.17918,     0.18018,     0.18118,     0.18218,     0.18318,     0.18418,     0.18519,     0.18619,     0.18719,     0.18819,     0.18919,     0.19019,     0.19119,\n",
       "           0.19219,     0.19319,     0.19419,      0.1952,      0.1962,      0.1972,      0.1982,      0.1992,      0.2002,      0.2012,      0.2022,      0.2032,      0.2042,     0.20521,     0.20621,     0.20721,     0.20821,     0.20921,     0.21021,     0.21121,     0.21221,     0.21321,     0.21421,     0.21522,\n",
       "           0.21622,     0.21722,     0.21822,     0.21922,     0.22022,     0.22122,     0.22222,     0.22322,     0.22422,     0.22523,     0.22623,     0.22723,     0.22823,     0.22923,     0.23023,     0.23123,     0.23223,     0.23323,     0.23423,     0.23524,     0.23624,     0.23724,     0.23824,     0.23924,\n",
       "           0.24024,     0.24124,     0.24224,     0.24324,     0.24424,     0.24525,     0.24625,     0.24725,     0.24825,     0.24925,     0.25025,     0.25125,     0.25225,     0.25325,     0.25425,     0.25526,     0.25626,     0.25726,     0.25826,     0.25926,     0.26026,     0.26126,     0.26226,     0.26326,\n",
       "           0.26426,     0.26527,     0.26627,     0.26727,     0.26827,     0.26927,     0.27027,     0.27127,     0.27227,     0.27327,     0.27427,     0.27528,     0.27628,     0.27728,     0.27828,     0.27928,     0.28028,     0.28128,     0.28228,     0.28328,     0.28428,     0.28529,     0.28629,     0.28729,\n",
       "           0.28829,     0.28929,     0.29029,     0.29129,     0.29229,     0.29329,     0.29429,      0.2953,      0.2963,      0.2973,      0.2983,      0.2993,      0.3003,      0.3013,      0.3023,      0.3033,      0.3043,     0.30531,     0.30631,     0.30731,     0.30831,     0.30931,     0.31031,     0.31131,\n",
       "           0.31231,     0.31331,     0.31431,     0.31532,     0.31632,     0.31732,     0.31832,     0.31932,     0.32032,     0.32132,     0.32232,     0.32332,     0.32432,     0.32533,     0.32633,     0.32733,     0.32833,     0.32933,     0.33033,     0.33133,     0.33233,     0.33333,     0.33433,     0.33534,\n",
       "           0.33634,     0.33734,     0.33834,     0.33934,     0.34034,     0.34134,     0.34234,     0.34334,     0.34434,     0.34535,     0.34635,     0.34735,     0.34835,     0.34935,     0.35035,     0.35135,     0.35235,     0.35335,     0.35435,     0.35536,     0.35636,     0.35736,     0.35836,     0.35936,\n",
       "           0.36036,     0.36136,     0.36236,     0.36336,     0.36436,     0.36537,     0.36637,     0.36737,     0.36837,     0.36937,     0.37037,     0.37137,     0.37237,     0.37337,     0.37437,     0.37538,     0.37638,     0.37738,     0.37838,     0.37938,     0.38038,     0.38138,     0.38238,     0.38338,\n",
       "           0.38438,     0.38539,     0.38639,     0.38739,     0.38839,     0.38939,     0.39039,     0.39139,     0.39239,     0.39339,     0.39439,      0.3954,      0.3964,      0.3974,      0.3984,      0.3994,      0.4004,      0.4014,      0.4024,      0.4034,      0.4044,     0.40541,     0.40641,     0.40741,\n",
       "           0.40841,     0.40941,     0.41041,     0.41141,     0.41241,     0.41341,     0.41441,     0.41542,     0.41642,     0.41742,     0.41842,     0.41942,     0.42042,     0.42142,     0.42242,     0.42342,     0.42442,     0.42543,     0.42643,     0.42743,     0.42843,     0.42943,     0.43043,     0.43143,\n",
       "           0.43243,     0.43343,     0.43443,     0.43544,     0.43644,     0.43744,     0.43844,     0.43944,     0.44044,     0.44144,     0.44244,     0.44344,     0.44444,     0.44545,     0.44645,     0.44745,     0.44845,     0.44945,     0.45045,     0.45145,     0.45245,     0.45345,     0.45445,     0.45546,\n",
       "           0.45646,     0.45746,     0.45846,     0.45946,     0.46046,     0.46146,     0.46246,     0.46346,     0.46446,     0.46547,     0.46647,     0.46747,     0.46847,     0.46947,     0.47047,     0.47147,     0.47247,     0.47347,     0.47447,     0.47548,     0.47648,     0.47748,     0.47848,     0.47948,\n",
       "           0.48048,     0.48148,     0.48248,     0.48348,     0.48448,     0.48549,     0.48649,     0.48749,     0.48849,     0.48949,     0.49049,     0.49149,     0.49249,     0.49349,     0.49449,      0.4955,      0.4965,      0.4975,      0.4985,      0.4995,      0.5005,      0.5015,      0.5025,      0.5035,\n",
       "            0.5045,     0.50551,     0.50651,     0.50751,     0.50851,     0.50951,     0.51051,     0.51151,     0.51251,     0.51351,     0.51451,     0.51552,     0.51652,     0.51752,     0.51852,     0.51952,     0.52052,     0.52152,     0.52252,     0.52352,     0.52452,     0.52553,     0.52653,     0.52753,\n",
       "           0.52853,     0.52953,     0.53053,     0.53153,     0.53253,     0.53353,     0.53453,     0.53554,     0.53654,     0.53754,     0.53854,     0.53954,     0.54054,     0.54154,     0.54254,     0.54354,     0.54454,     0.54555,     0.54655,     0.54755,     0.54855,     0.54955,     0.55055,     0.55155,\n",
       "           0.55255,     0.55355,     0.55455,     0.55556,     0.55656,     0.55756,     0.55856,     0.55956,     0.56056,     0.56156,     0.56256,     0.56356,     0.56456,     0.56557,     0.56657,     0.56757,     0.56857,     0.56957,     0.57057,     0.57157,     0.57257,     0.57357,     0.57457,     0.57558,\n",
       "           0.57658,     0.57758,     0.57858,     0.57958,     0.58058,     0.58158,     0.58258,     0.58358,     0.58458,     0.58559,     0.58659,     0.58759,     0.58859,     0.58959,     0.59059,     0.59159,     0.59259,     0.59359,     0.59459,      0.5956,      0.5966,      0.5976,      0.5986,      0.5996,\n",
       "            0.6006,      0.6016,      0.6026,      0.6036,      0.6046,     0.60561,     0.60661,     0.60761,     0.60861,     0.60961,     0.61061,     0.61161,     0.61261,     0.61361,     0.61461,     0.61562,     0.61662,     0.61762,     0.61862,     0.61962,     0.62062,     0.62162,     0.62262,     0.62362,\n",
       "           0.62462,     0.62563,     0.62663,     0.62763,     0.62863,     0.62963,     0.63063,     0.63163,     0.63263,     0.63363,     0.63463,     0.63564,     0.63664,     0.63764,     0.63864,     0.63964,     0.64064,     0.64164,     0.64264,     0.64364,     0.64464,     0.64565,     0.64665,     0.64765,\n",
       "           0.64865,     0.64965,     0.65065,     0.65165,     0.65265,     0.65365,     0.65465,     0.65566,     0.65666,     0.65766,     0.65866,     0.65966,     0.66066,     0.66166,     0.66266,     0.66366,     0.66466,     0.66567,     0.66667,     0.66767,     0.66867,     0.66967,     0.67067,     0.67167,\n",
       "           0.67267,     0.67367,     0.67467,     0.67568,     0.67668,     0.67768,     0.67868,     0.67968,     0.68068,     0.68168,     0.68268,     0.68368,     0.68468,     0.68569,     0.68669,     0.68769,     0.68869,     0.68969,     0.69069,     0.69169,     0.69269,     0.69369,     0.69469,      0.6957,\n",
       "            0.6967,      0.6977,      0.6987,      0.6997,      0.7007,      0.7017,      0.7027,      0.7037,      0.7047,     0.70571,     0.70671,     0.70771,     0.70871,     0.70971,     0.71071,     0.71171,     0.71271,     0.71371,     0.71471,     0.71572,     0.71672,     0.71772,     0.71872,     0.71972,\n",
       "           0.72072,     0.72172,     0.72272,     0.72372,     0.72472,     0.72573,     0.72673,     0.72773,     0.72873,     0.72973,     0.73073,     0.73173,     0.73273,     0.73373,     0.73473,     0.73574,     0.73674,     0.73774,     0.73874,     0.73974,     0.74074,     0.74174,     0.74274,     0.74374,\n",
       "           0.74474,     0.74575,     0.74675,     0.74775,     0.74875,     0.74975,     0.75075,     0.75175,     0.75275,     0.75375,     0.75475,     0.75576,     0.75676,     0.75776,     0.75876,     0.75976,     0.76076,     0.76176,     0.76276,     0.76376,     0.76476,     0.76577,     0.76677,     0.76777,\n",
       "           0.76877,     0.76977,     0.77077,     0.77177,     0.77277,     0.77377,     0.77477,     0.77578,     0.77678,     0.77778,     0.77878,     0.77978,     0.78078,     0.78178,     0.78278,     0.78378,     0.78478,     0.78579,     0.78679,     0.78779,     0.78879,     0.78979,     0.79079,     0.79179,\n",
       "           0.79279,     0.79379,     0.79479,      0.7958,      0.7968,      0.7978,      0.7988,      0.7998,      0.8008,      0.8018,      0.8028,      0.8038,      0.8048,     0.80581,     0.80681,     0.80781,     0.80881,     0.80981,     0.81081,     0.81181,     0.81281,     0.81381,     0.81481,     0.81582,\n",
       "           0.81682,     0.81782,     0.81882,     0.81982,     0.82082,     0.82182,     0.82282,     0.82382,     0.82482,     0.82583,     0.82683,     0.82783,     0.82883,     0.82983,     0.83083,     0.83183,     0.83283,     0.83383,     0.83483,     0.83584,     0.83684,     0.83784,     0.83884,     0.83984,\n",
       "           0.84084,     0.84184,     0.84284,     0.84384,     0.84484,     0.84585,     0.84685,     0.84785,     0.84885,     0.84985,     0.85085,     0.85185,     0.85285,     0.85385,     0.85485,     0.85586,     0.85686,     0.85786,     0.85886,     0.85986,     0.86086,     0.86186,     0.86286,     0.86386,\n",
       "           0.86486,     0.86587,     0.86687,     0.86787,     0.86887,     0.86987,     0.87087,     0.87187,     0.87287,     0.87387,     0.87487,     0.87588,     0.87688,     0.87788,     0.87888,     0.87988,     0.88088,     0.88188,     0.88288,     0.88388,     0.88488,     0.88589,     0.88689,     0.88789,\n",
       "           0.88889,     0.88989,     0.89089,     0.89189,     0.89289,     0.89389,     0.89489,      0.8959,      0.8969,      0.8979,      0.8989,      0.8999,      0.9009,      0.9019,      0.9029,      0.9039,      0.9049,     0.90591,     0.90691,     0.90791,     0.90891,     0.90991,     0.91091,     0.91191,\n",
       "           0.91291,     0.91391,     0.91491,     0.91592,     0.91692,     0.91792,     0.91892,     0.91992,     0.92092,     0.92192,     0.92292,     0.92392,     0.92492,     0.92593,     0.92693,     0.92793,     0.92893,     0.92993,     0.93093,     0.93193,     0.93293,     0.93393,     0.93493,     0.93594,\n",
       "           0.93694,     0.93794,     0.93894,     0.93994,     0.94094,     0.94194,     0.94294,     0.94394,     0.94494,     0.94595,     0.94695,     0.94795,     0.94895,     0.94995,     0.95095,     0.95195,     0.95295,     0.95395,     0.95495,     0.95596,     0.95696,     0.95796,     0.95896,     0.95996,\n",
       "           0.96096,     0.96196,     0.96296,     0.96396,     0.96496,     0.96597,     0.96697,     0.96797,     0.96897,     0.96997,     0.97097,     0.97197,     0.97297,     0.97397,     0.97497,     0.97598,     0.97698,     0.97798,     0.97898,     0.97998,     0.98098,     0.98198,     0.98298,     0.98398,\n",
       "           0.98498,     0.98599,     0.98699,     0.98799,     0.98899,     0.98999,     0.99099,     0.99199,     0.99299,     0.99399,     0.99499,       0.996,       0.997,       0.998,       0.999,           1]), array([[    0.30897,     0.30897,      0.3476,     0.37876,     0.39927,     0.41494,     0.42983,     0.43937,     0.44869,     0.45788,     0.46583,     0.47056,     0.47784,     0.48392,     0.48864,     0.49548,      0.5013,     0.50858,     0.51744,     0.52381,     0.52944,     0.53586,      0.5402,\n",
       "            0.54545,     0.55269,     0.55826,      0.5642,     0.56955,     0.57565,     0.58074,     0.58737,     0.59415,     0.59947,     0.60449,     0.60878,     0.61421,     0.61952,     0.62389,     0.62841,     0.63224,     0.63666,     0.64123,     0.64447,     0.64965,     0.65384,     0.65863,\n",
       "            0.66292,     0.66707,     0.67168,     0.67823,     0.68224,     0.68564,     0.69084,     0.69448,     0.69847,     0.70249,     0.70738,     0.70982,     0.71329,      0.7176,      0.7196,     0.72195,     0.72408,     0.72655,     0.72939,     0.73244,     0.73463,     0.73607,     0.73811,\n",
       "            0.73937,     0.74098,     0.74389,     0.74606,     0.74913,     0.75187,     0.75557,     0.75739,      0.7589,      0.7627,     0.76414,     0.76694,      0.7682,     0.77032,     0.77253,     0.77383,     0.77573,     0.77738,     0.78002,     0.78106,     0.78476,      0.7862,     0.78846,\n",
       "            0.79074,     0.79334,     0.79648,     0.79835,     0.80069,     0.80236,      0.8049,     0.80596,     0.80799,     0.80913,     0.81171,     0.81287,     0.81456,     0.81528,     0.81766,     0.81972,     0.82021,     0.82161,     0.82366,     0.82574,     0.82793,     0.83013,     0.83277,\n",
       "            0.83543,     0.83617,     0.83743,     0.83918,      0.8407,     0.84262,     0.84405,     0.84515,      0.8462,     0.84693,     0.84865,     0.84906,     0.85012,     0.85175,     0.85319,     0.85353,     0.85449,     0.85676,     0.85739,     0.85868,     0.85911,     0.86028,     0.86246,\n",
       "            0.86252,     0.86342,     0.86363,     0.86486,     0.86564,     0.86592,     0.86685,     0.86787,     0.86902,     0.86992,     0.87172,     0.87226,     0.87287,     0.87281,     0.87434,     0.87601,     0.87682,     0.87809,     0.87834,     0.87933,     0.88019,      0.8811,     0.88157,\n",
       "            0.88207,     0.88237,     0.88272,     0.88299,     0.88253,     0.88354,     0.88402,     0.88511,     0.88526,     0.88568,     0.88653,     0.88705,     0.88748,     0.88703,     0.88787,      0.8885,     0.88887,     0.88947,     0.88919,     0.88924,     0.88904,     0.88891,     0.88917,\n",
       "            0.88889,      0.8899,     0.89043,     0.89087,     0.89102,     0.89085,     0.89072,     0.89029,     0.89064,     0.89046,     0.89068,     0.89081,     0.89092,     0.89104,     0.89118,     0.89163,      0.8919,     0.89221,     0.89238,     0.89197,     0.89262,     0.89259,     0.89248,\n",
       "            0.89238,     0.89204,     0.89188,     0.89171,     0.89178,     0.89168,     0.89196,     0.89149,      0.8919,      0.8924,     0.89274,     0.89286,     0.89297,     0.89314,     0.89303,     0.89286,     0.89274,     0.89259,     0.89235,     0.89211,     0.89166,     0.89176,     0.89187,\n",
       "            0.89244,     0.89257,     0.89271,     0.89284,     0.89297,     0.89262,     0.89239,     0.89165,     0.89175,     0.89128,     0.89012,     0.88892,     0.88847,     0.88835,     0.88824,     0.88807,      0.8876,     0.88679,     0.88583,     0.88594,      0.8867,     0.88697,     0.88615,\n",
       "            0.88593,     0.88577,     0.88562,     0.88546,     0.88492,     0.88469,     0.88456,     0.88444,     0.88433,      0.8844,     0.88447,     0.88454,     0.88459,     0.88447,     0.88435,     0.88429,     0.88445,     0.88407,     0.88383,     0.88359,     0.88259,     0.88181,     0.88138,\n",
       "            0.88124,     0.88109,     0.88065,      0.8805,     0.88026,     0.87993,     0.87947,      0.8792,     0.87936,     0.87928,     0.87904,     0.87884,     0.87878,     0.87854,      0.8784,     0.87781,     0.87772,     0.87788,     0.87799,     0.87793,     0.87786,     0.87785,     0.87764,\n",
       "            0.87786,     0.87766,     0.87764,      0.8778,     0.87764,     0.87749,     0.87754,     0.87745,     0.87745,     0.87758,     0.87748,     0.87737,     0.87727,     0.87653,     0.87632,     0.87606,     0.87565,     0.87534,     0.87513,     0.87538,     0.87501,     0.87488,     0.87474,\n",
       "            0.87382,     0.87359,     0.87316,     0.87303,      0.8729,     0.87261,     0.87222,     0.87238,     0.87209,     0.87216,     0.87195,     0.87202,     0.87165,     0.87144,     0.87156,     0.87155,     0.87123,     0.87109,     0.87096,     0.87064,     0.87001,     0.86945,     0.86937,\n",
       "            0.86928,      0.8692,     0.86912,     0.86884,     0.86868,     0.86862,     0.86855,     0.86848,     0.86841,     0.86824,     0.86793,     0.86772,     0.86778,     0.86757,     0.86684,     0.86663,     0.86644,      0.8663,     0.86617,     0.86553,     0.86515,     0.86478,     0.86451,\n",
       "            0.86443,     0.86435,     0.86427,     0.86374,     0.86231,      0.8621,      0.8619,     0.86171,     0.86141,     0.86102,     0.86119,     0.86083,     0.86073,     0.86026,     0.86009,     0.85979,     0.85941,     0.85862,     0.85782,     0.85789,      0.8579,      0.8578,      0.8577,\n",
       "            0.85759,     0.85722,     0.85703,     0.85681,     0.85635,     0.85523,     0.85448,      0.8541,     0.85403,     0.85392,     0.85314,      0.8529,     0.85271,     0.85292,     0.85226,     0.85187,      0.8514,     0.85101,     0.85063,     0.85024,     0.84993,      0.8498,     0.84968,\n",
       "            0.84918,     0.84908,     0.84898,     0.84887,     0.84833,     0.84814,     0.84792,     0.84732,     0.84721,     0.84636,     0.84617,     0.84557,     0.84549,      0.8453,     0.84506,     0.84472,     0.84453,     0.84395,     0.84376,     0.84358,     0.84344,      0.8433,     0.84262,\n",
       "            0.84222,     0.84145,     0.84125,     0.84112,     0.84099,     0.84027,     0.83988,     0.83894,     0.83881,     0.83868,     0.83831,     0.83778,     0.83765,     0.83713,     0.83673,     0.83597,     0.83583,     0.83568,     0.83467,     0.83351,     0.83281,     0.83261,     0.83152,\n",
       "            0.83132,     0.83099,     0.83012,     0.82855,     0.82739,     0.82702,     0.82689,     0.82675,     0.82643,     0.82564,     0.82539,     0.82518,     0.82482,     0.82458,     0.82438,     0.82322,     0.82221,       0.822,     0.82082,     0.82041,     0.82001,     0.81881,     0.81761,\n",
       "            0.81682,     0.81661,     0.81598,     0.81517,     0.81437,      0.8136,     0.81339,     0.81313,     0.81232,      0.8107,     0.81029,     0.80745,     0.80663,     0.80609,     0.80526,     0.80485,     0.80402,     0.80361,     0.80196,     0.80113,     0.80072,     0.79948,     0.79892,\n",
       "            0.79808,     0.79684,       0.796,     0.79558,     0.79474,     0.79224,     0.79182,     0.79097,     0.78971,     0.78761,     0.78718,     0.78381,     0.78231,      0.7821,     0.77955,     0.77784,      0.7774,     0.77697,     0.77354,     0.77267,     0.77183,     0.77161,     0.76962,\n",
       "             0.7675,     0.76728,       0.767,     0.76655,     0.76591,     0.76593,     0.76331,     0.76199,      0.7605,     0.75873,      0.7574,     0.75622,     0.75607,     0.75592,     0.75515,     0.75469,     0.75453,     0.75344,      0.7521,     0.75164,     0.75074,     0.74956,     0.74933,\n",
       "            0.74803,     0.74776,     0.74753,     0.74485,     0.74349,      0.7419,     0.73917,      0.7387,     0.73687,     0.73458,      0.7336,     0.73299,     0.73187,     0.73147,     0.72895,     0.72801,     0.72707,     0.72427,     0.72435,     0.72358,      0.7217,     0.72075,     0.71953,\n",
       "            0.71929,     0.71816,     0.71531,     0.71411,     0.71387,     0.71148,     0.70861,     0.70829,     0.70687,     0.70665,     0.70452,     0.70307,     0.70209,      0.6996,     0.69935,     0.69892,     0.69635,     0.69613,     0.69331,     0.68936,     0.68786,     0.68363,     0.68112,\n",
       "             0.6801,     0.67808,     0.67605,     0.67352,     0.67241,     0.67223,     0.66967,     0.66813,     0.66607,     0.66361,     0.66116,     0.65856,     0.65491,     0.65229,     0.64598,     0.64491,     0.64436,     0.64223,     0.63934,     0.63768,     0.63606,     0.63361,     0.62983,\n",
       "            0.62873,     0.62491,     0.62108,      0.6199,     0.61693,     0.61496,     0.61211,     0.60875,      0.6065,     0.60368,     0.60141,     0.59854,     0.59681,     0.59362,      0.5927,     0.59211,     0.58922,     0.58714,     0.58684,     0.58103,     0.57927,     0.57574,      0.5745,\n",
       "            0.57189,      0.5707,     0.56713,     0.56497,     0.56197,     0.55835,     0.55739,     0.55398,     0.55237,     0.54971,     0.54776,     0.54614,     0.54327,     0.54225,     0.53843,     0.53532,     0.53386,     0.53282,     0.52808,     0.52363,     0.52106,     0.51913,     0.51645,\n",
       "              0.513,     0.51169,     0.50973,     0.50702,      0.5057,     0.50242,     0.50021,     0.49811,     0.49722,     0.49411,     0.48999,     0.48818,     0.48726,     0.48602,     0.48533,     0.48195,     0.47916,     0.47751,     0.47614,     0.47497,     0.47363,     0.47365,     0.47279,\n",
       "            0.47122,     0.47123,     0.47071,     0.46871,       0.468,     0.46703,     0.46486,     0.46445,      0.4642,      0.4628,     0.46146,     0.45864,     0.45788,     0.45616,     0.45543,     0.45436,     0.45297,     0.45249,     0.44997,     0.44961,     0.44865,     0.44766,     0.44718,\n",
       "            0.44465,     0.44429,     0.43952,     0.43903,     0.43853,     0.43588,       0.434,     0.43363,     0.43174,     0.42615,     0.42565,     0.42334,     0.42338,     0.42288,     0.42238,      0.4197,     0.41932,     0.41834,     0.41847,     0.41755,     0.41482,     0.41431,      0.4127,\n",
       "            0.41089,     0.41038,     0.40912,     0.40786,     0.40509,     0.40458,     0.40413,     0.40374,     0.40196,     0.40012,      0.3996,     0.39832,     0.39628,     0.39576,     0.39447,     0.39242,     0.39189,     0.39082,     0.39056,     0.39029,     0.38802,     0.38748,     0.38386,\n",
       "            0.38333,     0.38161,     0.38049,     0.37917,     0.37864,     0.37733,     0.37679,     0.37626,     0.37494,      0.3712,     0.37046,     0.36992,      0.3678,     0.36647,     0.36592,     0.36459,     0.36325,     0.36271,     0.35792,     0.35575,     0.35118,     0.34982,     0.34927,\n",
       "            0.34775,     0.34545,        0.34,     0.33944,     0.33542,     0.33246,     0.33123,     0.33066,     0.32861,     0.32827,     0.32702,     0.32645,     0.32414,     0.32102,     0.31865,     0.31485,     0.31427,     0.31216,      0.3077,     0.30505,     0.30288,     0.30138,     0.30148,\n",
       "            0.30162,     0.29844,     0.29256,     0.28955,     0.28965,     0.28754,     0.28402,     0.28143,     0.27828,     0.26812,      0.2675,     0.25865,     0.24875,     0.24143,     0.23022,      0.2256,      0.2211,     0.21819,     0.21724,     0.21658,      0.2099,     0.20696,     0.20618,\n",
       "            0.20447,      0.2015,      0.2005,     0.19959,     0.19892,     0.19599,     0.19498,     0.19199,     0.18998,     0.18728,     0.18545,      0.1848,     0.18454,     0.18428,     0.18403,     0.18332,     0.18267,     0.18226,     0.18074,     0.17783,     0.17749,     0.17715,     0.17662,\n",
       "            0.17154,     0.16745,     0.16334,     0.15819,     0.15404,     0.15091,     0.14881,     0.14461,     0.14354,     0.13775,     0.13457,     0.13243,     0.12922,     0.12707,     0.12385,     0.12175,     0.12101,     0.12073,     0.12064,     0.12054,     0.12044,     0.12035,     0.12025,\n",
       "            0.12016,     0.12006,     0.11997,     0.11987,     0.11978,     0.11919,     0.11828,     0.11757,     0.11732,     0.11708,     0.11683,     0.11659,     0.11614,     0.11559,     0.11396,     0.11341,     0.11299,     0.11263,     0.11226,     0.10748,     0.10488,     0.10286,     0.10086,\n",
       "           0.091551,    0.083703,     0.07977,    0.073547,    0.070727,    0.061058,    0.054053,    0.044908,    0.041224,    0.032604,    0.015172,    0.009989,   0.0054484,   0.0033023,   0.0022786,   0.0017824,   0.0012858,           0,           0,           0,           0,           0,           0,\n",
       "                  0,           0,           0,           0,           0,           0,           0,           0,           0,           0,           0,           0,           0,           0,           0,           0,           0,           0,           0,           0,           0,           0,           0,\n",
       "                  0,           0,           0,           0,           0,           0,           0,           0,           0,           0,           0,           0,           0,           0,           0,           0,           0,           0,           0,           0,           0,           0,           0,\n",
       "                  0,           0,           0,           0,           0,           0,           0,           0,           0,           0,           0,           0,           0,           0,           0,           0,           0,           0,           0,           0,           0,           0,           0,\n",
       "                  0,           0,           0,           0,           0,           0,           0,           0,           0,           0,           0]]), 'Confidence', 'F1'], [array([          0,    0.001001,    0.002002,    0.003003,    0.004004,    0.005005,    0.006006,    0.007007,    0.008008,    0.009009,     0.01001,    0.011011,    0.012012,    0.013013,    0.014014,    0.015015,    0.016016,    0.017017,    0.018018,    0.019019,     0.02002,    0.021021,    0.022022,    0.023023,\n",
       "          0.024024,    0.025025,    0.026026,    0.027027,    0.028028,    0.029029,     0.03003,    0.031031,    0.032032,    0.033033,    0.034034,    0.035035,    0.036036,    0.037037,    0.038038,    0.039039,     0.04004,    0.041041,    0.042042,    0.043043,    0.044044,    0.045045,    0.046046,    0.047047,\n",
       "          0.048048,    0.049049,     0.05005,    0.051051,    0.052052,    0.053053,    0.054054,    0.055055,    0.056056,    0.057057,    0.058058,    0.059059,     0.06006,    0.061061,    0.062062,    0.063063,    0.064064,    0.065065,    0.066066,    0.067067,    0.068068,    0.069069,     0.07007,    0.071071,\n",
       "          0.072072,    0.073073,    0.074074,    0.075075,    0.076076,    0.077077,    0.078078,    0.079079,     0.08008,    0.081081,    0.082082,    0.083083,    0.084084,    0.085085,    0.086086,    0.087087,    0.088088,    0.089089,     0.09009,    0.091091,    0.092092,    0.093093,    0.094094,    0.095095,\n",
       "          0.096096,    0.097097,    0.098098,    0.099099,      0.1001,      0.1011,      0.1021,      0.1031,      0.1041,     0.10511,     0.10611,     0.10711,     0.10811,     0.10911,     0.11011,     0.11111,     0.11211,     0.11311,     0.11411,     0.11512,     0.11612,     0.11712,     0.11812,     0.11912,\n",
       "           0.12012,     0.12112,     0.12212,     0.12312,     0.12412,     0.12513,     0.12613,     0.12713,     0.12813,     0.12913,     0.13013,     0.13113,     0.13213,     0.13313,     0.13413,     0.13514,     0.13614,     0.13714,     0.13814,     0.13914,     0.14014,     0.14114,     0.14214,     0.14314,\n",
       "           0.14414,     0.14515,     0.14615,     0.14715,     0.14815,     0.14915,     0.15015,     0.15115,     0.15215,     0.15315,     0.15415,     0.15516,     0.15616,     0.15716,     0.15816,     0.15916,     0.16016,     0.16116,     0.16216,     0.16316,     0.16416,     0.16517,     0.16617,     0.16717,\n",
       "           0.16817,     0.16917,     0.17017,     0.17117,     0.17217,     0.17317,     0.17417,     0.17518,     0.17618,     0.17718,     0.17818,     0.17918,     0.18018,     0.18118,     0.18218,     0.18318,     0.18418,     0.18519,     0.18619,     0.18719,     0.18819,     0.18919,     0.19019,     0.19119,\n",
       "           0.19219,     0.19319,     0.19419,      0.1952,      0.1962,      0.1972,      0.1982,      0.1992,      0.2002,      0.2012,      0.2022,      0.2032,      0.2042,     0.20521,     0.20621,     0.20721,     0.20821,     0.20921,     0.21021,     0.21121,     0.21221,     0.21321,     0.21421,     0.21522,\n",
       "           0.21622,     0.21722,     0.21822,     0.21922,     0.22022,     0.22122,     0.22222,     0.22322,     0.22422,     0.22523,     0.22623,     0.22723,     0.22823,     0.22923,     0.23023,     0.23123,     0.23223,     0.23323,     0.23423,     0.23524,     0.23624,     0.23724,     0.23824,     0.23924,\n",
       "           0.24024,     0.24124,     0.24224,     0.24324,     0.24424,     0.24525,     0.24625,     0.24725,     0.24825,     0.24925,     0.25025,     0.25125,     0.25225,     0.25325,     0.25425,     0.25526,     0.25626,     0.25726,     0.25826,     0.25926,     0.26026,     0.26126,     0.26226,     0.26326,\n",
       "           0.26426,     0.26527,     0.26627,     0.26727,     0.26827,     0.26927,     0.27027,     0.27127,     0.27227,     0.27327,     0.27427,     0.27528,     0.27628,     0.27728,     0.27828,     0.27928,     0.28028,     0.28128,     0.28228,     0.28328,     0.28428,     0.28529,     0.28629,     0.28729,\n",
       "           0.28829,     0.28929,     0.29029,     0.29129,     0.29229,     0.29329,     0.29429,      0.2953,      0.2963,      0.2973,      0.2983,      0.2993,      0.3003,      0.3013,      0.3023,      0.3033,      0.3043,     0.30531,     0.30631,     0.30731,     0.30831,     0.30931,     0.31031,     0.31131,\n",
       "           0.31231,     0.31331,     0.31431,     0.31532,     0.31632,     0.31732,     0.31832,     0.31932,     0.32032,     0.32132,     0.32232,     0.32332,     0.32432,     0.32533,     0.32633,     0.32733,     0.32833,     0.32933,     0.33033,     0.33133,     0.33233,     0.33333,     0.33433,     0.33534,\n",
       "           0.33634,     0.33734,     0.33834,     0.33934,     0.34034,     0.34134,     0.34234,     0.34334,     0.34434,     0.34535,     0.34635,     0.34735,     0.34835,     0.34935,     0.35035,     0.35135,     0.35235,     0.35335,     0.35435,     0.35536,     0.35636,     0.35736,     0.35836,     0.35936,\n",
       "           0.36036,     0.36136,     0.36236,     0.36336,     0.36436,     0.36537,     0.36637,     0.36737,     0.36837,     0.36937,     0.37037,     0.37137,     0.37237,     0.37337,     0.37437,     0.37538,     0.37638,     0.37738,     0.37838,     0.37938,     0.38038,     0.38138,     0.38238,     0.38338,\n",
       "           0.38438,     0.38539,     0.38639,     0.38739,     0.38839,     0.38939,     0.39039,     0.39139,     0.39239,     0.39339,     0.39439,      0.3954,      0.3964,      0.3974,      0.3984,      0.3994,      0.4004,      0.4014,      0.4024,      0.4034,      0.4044,     0.40541,     0.40641,     0.40741,\n",
       "           0.40841,     0.40941,     0.41041,     0.41141,     0.41241,     0.41341,     0.41441,     0.41542,     0.41642,     0.41742,     0.41842,     0.41942,     0.42042,     0.42142,     0.42242,     0.42342,     0.42442,     0.42543,     0.42643,     0.42743,     0.42843,     0.42943,     0.43043,     0.43143,\n",
       "           0.43243,     0.43343,     0.43443,     0.43544,     0.43644,     0.43744,     0.43844,     0.43944,     0.44044,     0.44144,     0.44244,     0.44344,     0.44444,     0.44545,     0.44645,     0.44745,     0.44845,     0.44945,     0.45045,     0.45145,     0.45245,     0.45345,     0.45445,     0.45546,\n",
       "           0.45646,     0.45746,     0.45846,     0.45946,     0.46046,     0.46146,     0.46246,     0.46346,     0.46446,     0.46547,     0.46647,     0.46747,     0.46847,     0.46947,     0.47047,     0.47147,     0.47247,     0.47347,     0.47447,     0.47548,     0.47648,     0.47748,     0.47848,     0.47948,\n",
       "           0.48048,     0.48148,     0.48248,     0.48348,     0.48448,     0.48549,     0.48649,     0.48749,     0.48849,     0.48949,     0.49049,     0.49149,     0.49249,     0.49349,     0.49449,      0.4955,      0.4965,      0.4975,      0.4985,      0.4995,      0.5005,      0.5015,      0.5025,      0.5035,\n",
       "            0.5045,     0.50551,     0.50651,     0.50751,     0.50851,     0.50951,     0.51051,     0.51151,     0.51251,     0.51351,     0.51451,     0.51552,     0.51652,     0.51752,     0.51852,     0.51952,     0.52052,     0.52152,     0.52252,     0.52352,     0.52452,     0.52553,     0.52653,     0.52753,\n",
       "           0.52853,     0.52953,     0.53053,     0.53153,     0.53253,     0.53353,     0.53453,     0.53554,     0.53654,     0.53754,     0.53854,     0.53954,     0.54054,     0.54154,     0.54254,     0.54354,     0.54454,     0.54555,     0.54655,     0.54755,     0.54855,     0.54955,     0.55055,     0.55155,\n",
       "           0.55255,     0.55355,     0.55455,     0.55556,     0.55656,     0.55756,     0.55856,     0.55956,     0.56056,     0.56156,     0.56256,     0.56356,     0.56456,     0.56557,     0.56657,     0.56757,     0.56857,     0.56957,     0.57057,     0.57157,     0.57257,     0.57357,     0.57457,     0.57558,\n",
       "           0.57658,     0.57758,     0.57858,     0.57958,     0.58058,     0.58158,     0.58258,     0.58358,     0.58458,     0.58559,     0.58659,     0.58759,     0.58859,     0.58959,     0.59059,     0.59159,     0.59259,     0.59359,     0.59459,      0.5956,      0.5966,      0.5976,      0.5986,      0.5996,\n",
       "            0.6006,      0.6016,      0.6026,      0.6036,      0.6046,     0.60561,     0.60661,     0.60761,     0.60861,     0.60961,     0.61061,     0.61161,     0.61261,     0.61361,     0.61461,     0.61562,     0.61662,     0.61762,     0.61862,     0.61962,     0.62062,     0.62162,     0.62262,     0.62362,\n",
       "           0.62462,     0.62563,     0.62663,     0.62763,     0.62863,     0.62963,     0.63063,     0.63163,     0.63263,     0.63363,     0.63463,     0.63564,     0.63664,     0.63764,     0.63864,     0.63964,     0.64064,     0.64164,     0.64264,     0.64364,     0.64464,     0.64565,     0.64665,     0.64765,\n",
       "           0.64865,     0.64965,     0.65065,     0.65165,     0.65265,     0.65365,     0.65465,     0.65566,     0.65666,     0.65766,     0.65866,     0.65966,     0.66066,     0.66166,     0.66266,     0.66366,     0.66466,     0.66567,     0.66667,     0.66767,     0.66867,     0.66967,     0.67067,     0.67167,\n",
       "           0.67267,     0.67367,     0.67467,     0.67568,     0.67668,     0.67768,     0.67868,     0.67968,     0.68068,     0.68168,     0.68268,     0.68368,     0.68468,     0.68569,     0.68669,     0.68769,     0.68869,     0.68969,     0.69069,     0.69169,     0.69269,     0.69369,     0.69469,      0.6957,\n",
       "            0.6967,      0.6977,      0.6987,      0.6997,      0.7007,      0.7017,      0.7027,      0.7037,      0.7047,     0.70571,     0.70671,     0.70771,     0.70871,     0.70971,     0.71071,     0.71171,     0.71271,     0.71371,     0.71471,     0.71572,     0.71672,     0.71772,     0.71872,     0.71972,\n",
       "           0.72072,     0.72172,     0.72272,     0.72372,     0.72472,     0.72573,     0.72673,     0.72773,     0.72873,     0.72973,     0.73073,     0.73173,     0.73273,     0.73373,     0.73473,     0.73574,     0.73674,     0.73774,     0.73874,     0.73974,     0.74074,     0.74174,     0.74274,     0.74374,\n",
       "           0.74474,     0.74575,     0.74675,     0.74775,     0.74875,     0.74975,     0.75075,     0.75175,     0.75275,     0.75375,     0.75475,     0.75576,     0.75676,     0.75776,     0.75876,     0.75976,     0.76076,     0.76176,     0.76276,     0.76376,     0.76476,     0.76577,     0.76677,     0.76777,\n",
       "           0.76877,     0.76977,     0.77077,     0.77177,     0.77277,     0.77377,     0.77477,     0.77578,     0.77678,     0.77778,     0.77878,     0.77978,     0.78078,     0.78178,     0.78278,     0.78378,     0.78478,     0.78579,     0.78679,     0.78779,     0.78879,     0.78979,     0.79079,     0.79179,\n",
       "           0.79279,     0.79379,     0.79479,      0.7958,      0.7968,      0.7978,      0.7988,      0.7998,      0.8008,      0.8018,      0.8028,      0.8038,      0.8048,     0.80581,     0.80681,     0.80781,     0.80881,     0.80981,     0.81081,     0.81181,     0.81281,     0.81381,     0.81481,     0.81582,\n",
       "           0.81682,     0.81782,     0.81882,     0.81982,     0.82082,     0.82182,     0.82282,     0.82382,     0.82482,     0.82583,     0.82683,     0.82783,     0.82883,     0.82983,     0.83083,     0.83183,     0.83283,     0.83383,     0.83483,     0.83584,     0.83684,     0.83784,     0.83884,     0.83984,\n",
       "           0.84084,     0.84184,     0.84284,     0.84384,     0.84484,     0.84585,     0.84685,     0.84785,     0.84885,     0.84985,     0.85085,     0.85185,     0.85285,     0.85385,     0.85485,     0.85586,     0.85686,     0.85786,     0.85886,     0.85986,     0.86086,     0.86186,     0.86286,     0.86386,\n",
       "           0.86486,     0.86587,     0.86687,     0.86787,     0.86887,     0.86987,     0.87087,     0.87187,     0.87287,     0.87387,     0.87487,     0.87588,     0.87688,     0.87788,     0.87888,     0.87988,     0.88088,     0.88188,     0.88288,     0.88388,     0.88488,     0.88589,     0.88689,     0.88789,\n",
       "           0.88889,     0.88989,     0.89089,     0.89189,     0.89289,     0.89389,     0.89489,      0.8959,      0.8969,      0.8979,      0.8989,      0.8999,      0.9009,      0.9019,      0.9029,      0.9039,      0.9049,     0.90591,     0.90691,     0.90791,     0.90891,     0.90991,     0.91091,     0.91191,\n",
       "           0.91291,     0.91391,     0.91491,     0.91592,     0.91692,     0.91792,     0.91892,     0.91992,     0.92092,     0.92192,     0.92292,     0.92392,     0.92492,     0.92593,     0.92693,     0.92793,     0.92893,     0.92993,     0.93093,     0.93193,     0.93293,     0.93393,     0.93493,     0.93594,\n",
       "           0.93694,     0.93794,     0.93894,     0.93994,     0.94094,     0.94194,     0.94294,     0.94394,     0.94494,     0.94595,     0.94695,     0.94795,     0.94895,     0.94995,     0.95095,     0.95195,     0.95295,     0.95395,     0.95495,     0.95596,     0.95696,     0.95796,     0.95896,     0.95996,\n",
       "           0.96096,     0.96196,     0.96296,     0.96396,     0.96496,     0.96597,     0.96697,     0.96797,     0.96897,     0.96997,     0.97097,     0.97197,     0.97297,     0.97397,     0.97497,     0.97598,     0.97698,     0.97798,     0.97898,     0.97998,     0.98098,     0.98198,     0.98298,     0.98398,\n",
       "           0.98498,     0.98599,     0.98699,     0.98799,     0.98899,     0.98999,     0.99099,     0.99199,     0.99299,     0.99399,     0.99499,       0.996,       0.997,       0.998,       0.999,           1]), array([[    0.18416,     0.18416,     0.21307,     0.23709,     0.25365,     0.26648,     0.27888,     0.28714,     0.29522,     0.30335,     0.31051,     0.31479,     0.32134,     0.32686,     0.33119,     0.33751,     0.34293,     0.34986,      0.3583,     0.36445,     0.37011,     0.37641,     0.38092,\n",
       "            0.38626,     0.39357,     0.39924,     0.40534,     0.41088,     0.41727,     0.42264,     0.42983,     0.43713,     0.44291,     0.44842,     0.45329,     0.45934,     0.46547,     0.47041,     0.47557,     0.48014,     0.48525,     0.49058,     0.49438,      0.5005,      0.5055,     0.51125,\n",
       "            0.51644,     0.52149,     0.52714,     0.53526,     0.54027,     0.54476,     0.55136,     0.55601,     0.56114,     0.56634,     0.57296,     0.57617,     0.58091,     0.58674,     0.58966,     0.59308,     0.59596,     0.59931,     0.60319,     0.60737,     0.61065,     0.61265,     0.61574,\n",
       "             0.6175,     0.61975,     0.62384,      0.6269,     0.63125,     0.63514,     0.64044,     0.64306,     0.64553,     0.65137,     0.65346,     0.65757,     0.65942,     0.66287,     0.66615,     0.66809,     0.67125,     0.67372,     0.67769,     0.67926,     0.68488,     0.68708,     0.69055,\n",
       "            0.69405,     0.69842,     0.70329,     0.70694,     0.71061,     0.71325,     0.71727,     0.71895,     0.72257,     0.72477,     0.72893,     0.73118,     0.73393,     0.73549,     0.73936,     0.74315,     0.74435,     0.74706,     0.75088,     0.75476,     0.75843,     0.76212,     0.76659,\n",
       "            0.77111,      0.7728,     0.77496,     0.77796,     0.78059,     0.78434,     0.78682,     0.78875,     0.79078,     0.79231,     0.79533,     0.79698,     0.79885,     0.80172,     0.80428,     0.80488,     0.80659,     0.81065,     0.81177,     0.81459,     0.81573,     0.81796,     0.82197,\n",
       "            0.82252,     0.82453,     0.82555,     0.82831,     0.82974,     0.83025,     0.83248,     0.83436,     0.83648,     0.83816,      0.8415,     0.84305,     0.84471,     0.84512,       0.848,      0.8517,     0.85323,     0.85564,      0.8561,     0.85804,     0.86018,     0.86193,     0.86283,\n",
       "            0.86378,     0.86436,     0.86559,     0.86636,     0.86634,      0.8683,     0.86923,      0.8719,      0.8722,     0.87358,     0.87581,     0.87682,     0.87768,      0.8777,     0.87959,     0.88084,     0.88157,     0.88274,     0.88396,     0.88427,     0.88423,     0.88459,     0.88521,\n",
       "            0.88515,     0.88715,      0.8882,     0.88908,     0.88938,     0.88987,     0.89033,     0.89025,     0.89104,     0.89129,     0.89173,     0.89198,     0.89221,     0.89245,     0.89273,     0.89363,     0.89419,      0.8948,     0.89556,     0.89555,     0.89748,     0.89759,     0.89757,\n",
       "            0.89755,     0.89754,     0.89796,     0.89793,     0.89827,     0.89842,     0.89948,     0.89955,     0.90039,     0.90142,     0.90211,     0.90236,     0.90257,     0.90292,     0.90323,     0.90321,     0.90318,     0.90316,     0.90312,     0.90307,     0.90307,     0.90328,     0.90349,\n",
       "            0.90467,     0.90495,     0.90522,     0.90549,     0.90576,     0.90574,      0.9057,     0.90561,     0.90611,     0.90603,     0.90583,     0.90562,     0.90554,     0.90552,      0.9055,     0.90547,     0.90539,     0.90525,     0.90508,     0.90553,      0.9071,     0.90791,     0.90778,\n",
       "            0.90774,     0.90771,     0.90769,     0.90766,     0.90757,     0.90753,     0.90751,     0.90749,     0.90747,     0.90762,     0.90777,     0.90792,     0.90804,     0.90802,       0.908,     0.90806,      0.9084,     0.90849,     0.90845,     0.90841,     0.90824,     0.90811,     0.90804,\n",
       "            0.90801,     0.90799,     0.90845,     0.90896,     0.90892,     0.90887,     0.90879,     0.90885,     0.90919,      0.9093,     0.90926,     0.90923,     0.90976,     0.90972,      0.9097,      0.9096,     0.91054,     0.91089,     0.91113,     0.91126,     0.91155,      0.9118,     0.91177,\n",
       "            0.91235,     0.91232,     0.91249,     0.91284,     0.91342,      0.9134,     0.91369,     0.91395,      0.9142,     0.91453,     0.91451,     0.91449,     0.91448,     0.91436,     0.91433,     0.91428,     0.91422,     0.91417,     0.91414,     0.91471,     0.91468,     0.91466,     0.91464,\n",
       "            0.91491,     0.91502,     0.91495,     0.91493,     0.91491,     0.91486,     0.91503,     0.91538,     0.91591,     0.91649,     0.91646,      0.9168,     0.91698,     0.91695,     0.91726,     0.91811,     0.91806,     0.91804,     0.91802,     0.91797,     0.91787,     0.91779,     0.91778,\n",
       "            0.91776,     0.91775,     0.91774,     0.91769,     0.91767,     0.91766,     0.91765,     0.91764,     0.91763,      0.9176,     0.91756,     0.91752,     0.91811,     0.91808,     0.91797,     0.91793,      0.9179,     0.91788,     0.91786,     0.91776,     0.91771,     0.91765,     0.91819,\n",
       "            0.91818,     0.91817,     0.91815,     0.91807,     0.91785,     0.91782,     0.91779,     0.91776,     0.91771,     0.91789,     0.91825,     0.91821,     0.91879,     0.91872,     0.91887,     0.91924,     0.91918,     0.91906,     0.91894,     0.91936,     0.91955,     0.91953,     0.91952,\n",
       "             0.9195,     0.91944,     0.91941,     0.91938,     0.91931,     0.91914,     0.91903,     0.91897,     0.91925,     0.91954,     0.91942,     0.91939,     0.91936,     0.91991,     0.91989,     0.91984,     0.91976,     0.91971,     0.91965,     0.91959,     0.91954,     0.91952,      0.9195,\n",
       "            0.91943,     0.91941,      0.9194,     0.91938,      0.9193,     0.91927,      0.9197,     0.91976,     0.92035,     0.92023,      0.9202,     0.92011,     0.92071,     0.92068,     0.92065,     0.92059,     0.92057,     0.92048,     0.92045,     0.92042,      0.9204,     0.92038,     0.92028,\n",
       "            0.92022,      0.9201,     0.92007,     0.92005,     0.92003,     0.91992,     0.91987,     0.91972,      0.9197,     0.91968,     0.91963,     0.91955,     0.91953,     0.91945,     0.91939,     0.91927,     0.91925,     0.91923,     0.91907,     0.91889,     0.91879,     0.91876,     0.91922,\n",
       "            0.91919,     0.91948,     0.91964,      0.9194,     0.91962,     0.91981,     0.91979,     0.91977,     0.91972,      0.9196,     0.91956,     0.91953,     0.91947,     0.91944,     0.91941,     0.91923,     0.91907,     0.91904,     0.91886,      0.9188,     0.91874,     0.91855,     0.91836,\n",
       "            0.91824,     0.91821,     0.91811,     0.91799,     0.91786,     0.91774,     0.91771,     0.91767,     0.91754,     0.91728,     0.91722,     0.91677,     0.91664,     0.91683,     0.91709,     0.91702,     0.91689,     0.91683,     0.91657,     0.91643,     0.91637,     0.91658,     0.91676,\n",
       "            0.91662,     0.91642,     0.91629,     0.91622,     0.91609,     0.91569,     0.91562,     0.91548,     0.91528,     0.91494,     0.91487,     0.91431,     0.91407,     0.91403,     0.91361,     0.91333,     0.91325,     0.91318,     0.91261,     0.91246,     0.91232,     0.91228,     0.91194,\n",
       "            0.91158,     0.91155,      0.9115,     0.91142,     0.91156,     0.91203,     0.91159,     0.91136,     0.91183,     0.91153,      0.9113,      0.9111,     0.91107,     0.91105,     0.91091,     0.91129,     0.91201,     0.91209,     0.91186,     0.91179,     0.91163,     0.91143,     0.91139,\n",
       "            0.91116,     0.91112,     0.91108,     0.91061,     0.91038,      0.9101,     0.90962,     0.90954,     0.90921,      0.9088,     0.90906,     0.90929,     0.90986,     0.91134,     0.91168,     0.91152,     0.91136,     0.91087,     0.91149,     0.91154,     0.91121,     0.91104,     0.91083,\n",
       "            0.91079,     0.91139,     0.91089,     0.91067,     0.91063,     0.91021,     0.90969,     0.90963,     0.90986,     0.91067,     0.91061,     0.91035,     0.91017,     0.91056,     0.91052,     0.91044,     0.91149,     0.91232,     0.91198,     0.91128,     0.91101,     0.91024,     0.90979,\n",
       "             0.9096,     0.90923,     0.90886,     0.90839,     0.90868,     0.90904,     0.90856,     0.90827,     0.90789,     0.90742,     0.90696,     0.90646,     0.90575,     0.90524,       0.904,     0.90379,     0.90368,     0.90326,     0.90267,     0.90234,     0.90201,     0.90247,     0.90169,\n",
       "            0.90147,     0.90068,     0.89987,     0.89963,       0.899,     0.89957,     0.90098,     0.90027,     0.89979,     0.89919,      0.8987,      0.8984,     0.89874,     0.89909,     0.89995,     0.89982,     0.90026,     0.89981,     0.89975,     0.89848,     0.89808,      0.8973,     0.89702,\n",
       "            0.89642,     0.89615,     0.89533,     0.89596,     0.89526,     0.89814,     0.89996,     0.90037,     0.90119,      0.9006,     0.90016,     0.90099,     0.90156,     0.90255,     0.90293,      0.9041,     0.90441,     0.90545,      0.9044,      0.9034,     0.90282,     0.90238,     0.90176,\n",
       "            0.90096,     0.90065,     0.90019,     0.90089,     0.90058,     0.89979,     0.89926,     0.89876,     0.90129,     0.90194,     0.90237,     0.90336,     0.90385,     0.90429,     0.90413,     0.90332,     0.90265,     0.90226,     0.90192,     0.90312,     0.90457,     0.90579,     0.90558,\n",
       "            0.90521,     0.90641,      0.9066,      0.9092,     0.90903,     0.90881,      0.9083,     0.91075,     0.91127,     0.91095,     0.91382,     0.91319,     0.91302,     0.91263,     0.91247,     0.91223,     0.91191,      0.9118,     0.91122,     0.91113,     0.91256,     0.91399,     0.91388,\n",
       "             0.9133,     0.91322,     0.91211,       0.912,     0.91188,     0.91126,     0.91081,     0.91072,     0.91027,      0.9089,     0.90878,     0.90893,     0.90998,     0.90986,     0.90974,     0.90907,     0.90898,     0.90905,     0.91031,     0.91215,     0.91148,     0.91136,     0.91466,\n",
       "            0.91609,     0.91597,     0.91567,     0.91537,     0.91471,     0.91459,     0.91448,     0.91438,     0.91587,     0.91737,     0.91725,     0.91695,     0.91646,     0.91633,     0.91602,     0.91552,     0.91539,     0.91513,     0.91506,       0.915,     0.91443,     0.91429,     0.91338,\n",
       "            0.91324,     0.91692,     0.91873,     0.91841,     0.91828,     0.91795,     0.91782,     0.91769,     0.91736,     0.91642,     0.91624,      0.9161,     0.91555,     0.91521,     0.91507,     0.91472,     0.91437,     0.91423,     0.91295,     0.91236,     0.91109,     0.91071,     0.91056,\n",
       "            0.91013,     0.90947,     0.90788,     0.90771,      0.9065,     0.90799,     0.91005,     0.90988,     0.90926,     0.90916,     0.90879,     0.90861,      0.9104,     0.90945,     0.90872,     0.91272,     0.91254,     0.91454,      0.9146,     0.91784,     0.91998,     0.92254,     0.92451,\n",
       "             0.9271,     0.93148,     0.93766,     0.94361,     0.94577,     0.95226,     0.95663,      0.9645,     0.97451,     0.98841,     0.98838,     0.99594,     0.99575,      0.9956,           1,           1,           1,           1,           1,           1,           1,           1,           1,\n",
       "                  1,           1,           1,           1,           1,           1,           1,           1,           1,           1,           1,           1,           1,           1,           1,           1,           1,           1,           1,           1,           1,           1,           1,\n",
       "                  1,           1,           1,           1,           1,           1,           1,           1,           1,           1,           1,           1,           1,           1,           1,           1,           1,           1,           1,           1,           1,           1,           1,\n",
       "                  1,           1,           1,           1,           1,           1,           1,           1,           1,           1,           1,           1,           1,           1,           1,           1,           1,           1,           1,           1,           1,           1,           1,\n",
       "                  1,           1,           1,           1,           1,           1,           1,           1,           1,           1,           1,           1,           1,           1,           1,           1,           1,           1,           1,           1,           1,           1,           1,\n",
       "                  1,           1,           1,           1,           1,           1,           1,           1,           1,           1,           1,           1,           1,           1,           1,           1,           1,           1,           1,           1,           1,           1,           1,\n",
       "                  1,           1,           1,           1,           1,           1,           1,           1,           1,           1,           1,           1,           1,           1,           1,           1,           1,           1,           1,           1,           1,           1,           1,\n",
       "                  1,           1,           1,           1,           1,           1,           1,           1,           1,           1,           1,           1,           1,           1,           1,           1,           1,           1,           1,           1,           1,           1,           1,\n",
       "                  1,           1,           1,           1,           1,           1,           1,           1,           1,           1,           1]]), 'Confidence', 'Precision'], [array([          0,    0.001001,    0.002002,    0.003003,    0.004004,    0.005005,    0.006006,    0.007007,    0.008008,    0.009009,     0.01001,    0.011011,    0.012012,    0.013013,    0.014014,    0.015015,    0.016016,    0.017017,    0.018018,    0.019019,     0.02002,    0.021021,    0.022022,    0.023023,\n",
       "          0.024024,    0.025025,    0.026026,    0.027027,    0.028028,    0.029029,     0.03003,    0.031031,    0.032032,    0.033033,    0.034034,    0.035035,    0.036036,    0.037037,    0.038038,    0.039039,     0.04004,    0.041041,    0.042042,    0.043043,    0.044044,    0.045045,    0.046046,    0.047047,\n",
       "          0.048048,    0.049049,     0.05005,    0.051051,    0.052052,    0.053053,    0.054054,    0.055055,    0.056056,    0.057057,    0.058058,    0.059059,     0.06006,    0.061061,    0.062062,    0.063063,    0.064064,    0.065065,    0.066066,    0.067067,    0.068068,    0.069069,     0.07007,    0.071071,\n",
       "          0.072072,    0.073073,    0.074074,    0.075075,    0.076076,    0.077077,    0.078078,    0.079079,     0.08008,    0.081081,    0.082082,    0.083083,    0.084084,    0.085085,    0.086086,    0.087087,    0.088088,    0.089089,     0.09009,    0.091091,    0.092092,    0.093093,    0.094094,    0.095095,\n",
       "          0.096096,    0.097097,    0.098098,    0.099099,      0.1001,      0.1011,      0.1021,      0.1031,      0.1041,     0.10511,     0.10611,     0.10711,     0.10811,     0.10911,     0.11011,     0.11111,     0.11211,     0.11311,     0.11411,     0.11512,     0.11612,     0.11712,     0.11812,     0.11912,\n",
       "           0.12012,     0.12112,     0.12212,     0.12312,     0.12412,     0.12513,     0.12613,     0.12713,     0.12813,     0.12913,     0.13013,     0.13113,     0.13213,     0.13313,     0.13413,     0.13514,     0.13614,     0.13714,     0.13814,     0.13914,     0.14014,     0.14114,     0.14214,     0.14314,\n",
       "           0.14414,     0.14515,     0.14615,     0.14715,     0.14815,     0.14915,     0.15015,     0.15115,     0.15215,     0.15315,     0.15415,     0.15516,     0.15616,     0.15716,     0.15816,     0.15916,     0.16016,     0.16116,     0.16216,     0.16316,     0.16416,     0.16517,     0.16617,     0.16717,\n",
       "           0.16817,     0.16917,     0.17017,     0.17117,     0.17217,     0.17317,     0.17417,     0.17518,     0.17618,     0.17718,     0.17818,     0.17918,     0.18018,     0.18118,     0.18218,     0.18318,     0.18418,     0.18519,     0.18619,     0.18719,     0.18819,     0.18919,     0.19019,     0.19119,\n",
       "           0.19219,     0.19319,     0.19419,      0.1952,      0.1962,      0.1972,      0.1982,      0.1992,      0.2002,      0.2012,      0.2022,      0.2032,      0.2042,     0.20521,     0.20621,     0.20721,     0.20821,     0.20921,     0.21021,     0.21121,     0.21221,     0.21321,     0.21421,     0.21522,\n",
       "           0.21622,     0.21722,     0.21822,     0.21922,     0.22022,     0.22122,     0.22222,     0.22322,     0.22422,     0.22523,     0.22623,     0.22723,     0.22823,     0.22923,     0.23023,     0.23123,     0.23223,     0.23323,     0.23423,     0.23524,     0.23624,     0.23724,     0.23824,     0.23924,\n",
       "           0.24024,     0.24124,     0.24224,     0.24324,     0.24424,     0.24525,     0.24625,     0.24725,     0.24825,     0.24925,     0.25025,     0.25125,     0.25225,     0.25325,     0.25425,     0.25526,     0.25626,     0.25726,     0.25826,     0.25926,     0.26026,     0.26126,     0.26226,     0.26326,\n",
       "           0.26426,     0.26527,     0.26627,     0.26727,     0.26827,     0.26927,     0.27027,     0.27127,     0.27227,     0.27327,     0.27427,     0.27528,     0.27628,     0.27728,     0.27828,     0.27928,     0.28028,     0.28128,     0.28228,     0.28328,     0.28428,     0.28529,     0.28629,     0.28729,\n",
       "           0.28829,     0.28929,     0.29029,     0.29129,     0.29229,     0.29329,     0.29429,      0.2953,      0.2963,      0.2973,      0.2983,      0.2993,      0.3003,      0.3013,      0.3023,      0.3033,      0.3043,     0.30531,     0.30631,     0.30731,     0.30831,     0.30931,     0.31031,     0.31131,\n",
       "           0.31231,     0.31331,     0.31431,     0.31532,     0.31632,     0.31732,     0.31832,     0.31932,     0.32032,     0.32132,     0.32232,     0.32332,     0.32432,     0.32533,     0.32633,     0.32733,     0.32833,     0.32933,     0.33033,     0.33133,     0.33233,     0.33333,     0.33433,     0.33534,\n",
       "           0.33634,     0.33734,     0.33834,     0.33934,     0.34034,     0.34134,     0.34234,     0.34334,     0.34434,     0.34535,     0.34635,     0.34735,     0.34835,     0.34935,     0.35035,     0.35135,     0.35235,     0.35335,     0.35435,     0.35536,     0.35636,     0.35736,     0.35836,     0.35936,\n",
       "           0.36036,     0.36136,     0.36236,     0.36336,     0.36436,     0.36537,     0.36637,     0.36737,     0.36837,     0.36937,     0.37037,     0.37137,     0.37237,     0.37337,     0.37437,     0.37538,     0.37638,     0.37738,     0.37838,     0.37938,     0.38038,     0.38138,     0.38238,     0.38338,\n",
       "           0.38438,     0.38539,     0.38639,     0.38739,     0.38839,     0.38939,     0.39039,     0.39139,     0.39239,     0.39339,     0.39439,      0.3954,      0.3964,      0.3974,      0.3984,      0.3994,      0.4004,      0.4014,      0.4024,      0.4034,      0.4044,     0.40541,     0.40641,     0.40741,\n",
       "           0.40841,     0.40941,     0.41041,     0.41141,     0.41241,     0.41341,     0.41441,     0.41542,     0.41642,     0.41742,     0.41842,     0.41942,     0.42042,     0.42142,     0.42242,     0.42342,     0.42442,     0.42543,     0.42643,     0.42743,     0.42843,     0.42943,     0.43043,     0.43143,\n",
       "           0.43243,     0.43343,     0.43443,     0.43544,     0.43644,     0.43744,     0.43844,     0.43944,     0.44044,     0.44144,     0.44244,     0.44344,     0.44444,     0.44545,     0.44645,     0.44745,     0.44845,     0.44945,     0.45045,     0.45145,     0.45245,     0.45345,     0.45445,     0.45546,\n",
       "           0.45646,     0.45746,     0.45846,     0.45946,     0.46046,     0.46146,     0.46246,     0.46346,     0.46446,     0.46547,     0.46647,     0.46747,     0.46847,     0.46947,     0.47047,     0.47147,     0.47247,     0.47347,     0.47447,     0.47548,     0.47648,     0.47748,     0.47848,     0.47948,\n",
       "           0.48048,     0.48148,     0.48248,     0.48348,     0.48448,     0.48549,     0.48649,     0.48749,     0.48849,     0.48949,     0.49049,     0.49149,     0.49249,     0.49349,     0.49449,      0.4955,      0.4965,      0.4975,      0.4985,      0.4995,      0.5005,      0.5015,      0.5025,      0.5035,\n",
       "            0.5045,     0.50551,     0.50651,     0.50751,     0.50851,     0.50951,     0.51051,     0.51151,     0.51251,     0.51351,     0.51451,     0.51552,     0.51652,     0.51752,     0.51852,     0.51952,     0.52052,     0.52152,     0.52252,     0.52352,     0.52452,     0.52553,     0.52653,     0.52753,\n",
       "           0.52853,     0.52953,     0.53053,     0.53153,     0.53253,     0.53353,     0.53453,     0.53554,     0.53654,     0.53754,     0.53854,     0.53954,     0.54054,     0.54154,     0.54254,     0.54354,     0.54454,     0.54555,     0.54655,     0.54755,     0.54855,     0.54955,     0.55055,     0.55155,\n",
       "           0.55255,     0.55355,     0.55455,     0.55556,     0.55656,     0.55756,     0.55856,     0.55956,     0.56056,     0.56156,     0.56256,     0.56356,     0.56456,     0.56557,     0.56657,     0.56757,     0.56857,     0.56957,     0.57057,     0.57157,     0.57257,     0.57357,     0.57457,     0.57558,\n",
       "           0.57658,     0.57758,     0.57858,     0.57958,     0.58058,     0.58158,     0.58258,     0.58358,     0.58458,     0.58559,     0.58659,     0.58759,     0.58859,     0.58959,     0.59059,     0.59159,     0.59259,     0.59359,     0.59459,      0.5956,      0.5966,      0.5976,      0.5986,      0.5996,\n",
       "            0.6006,      0.6016,      0.6026,      0.6036,      0.6046,     0.60561,     0.60661,     0.60761,     0.60861,     0.60961,     0.61061,     0.61161,     0.61261,     0.61361,     0.61461,     0.61562,     0.61662,     0.61762,     0.61862,     0.61962,     0.62062,     0.62162,     0.62262,     0.62362,\n",
       "           0.62462,     0.62563,     0.62663,     0.62763,     0.62863,     0.62963,     0.63063,     0.63163,     0.63263,     0.63363,     0.63463,     0.63564,     0.63664,     0.63764,     0.63864,     0.63964,     0.64064,     0.64164,     0.64264,     0.64364,     0.64464,     0.64565,     0.64665,     0.64765,\n",
       "           0.64865,     0.64965,     0.65065,     0.65165,     0.65265,     0.65365,     0.65465,     0.65566,     0.65666,     0.65766,     0.65866,     0.65966,     0.66066,     0.66166,     0.66266,     0.66366,     0.66466,     0.66567,     0.66667,     0.66767,     0.66867,     0.66967,     0.67067,     0.67167,\n",
       "           0.67267,     0.67367,     0.67467,     0.67568,     0.67668,     0.67768,     0.67868,     0.67968,     0.68068,     0.68168,     0.68268,     0.68368,     0.68468,     0.68569,     0.68669,     0.68769,     0.68869,     0.68969,     0.69069,     0.69169,     0.69269,     0.69369,     0.69469,      0.6957,\n",
       "            0.6967,      0.6977,      0.6987,      0.6997,      0.7007,      0.7017,      0.7027,      0.7037,      0.7047,     0.70571,     0.70671,     0.70771,     0.70871,     0.70971,     0.71071,     0.71171,     0.71271,     0.71371,     0.71471,     0.71572,     0.71672,     0.71772,     0.71872,     0.71972,\n",
       "           0.72072,     0.72172,     0.72272,     0.72372,     0.72472,     0.72573,     0.72673,     0.72773,     0.72873,     0.72973,     0.73073,     0.73173,     0.73273,     0.73373,     0.73473,     0.73574,     0.73674,     0.73774,     0.73874,     0.73974,     0.74074,     0.74174,     0.74274,     0.74374,\n",
       "           0.74474,     0.74575,     0.74675,     0.74775,     0.74875,     0.74975,     0.75075,     0.75175,     0.75275,     0.75375,     0.75475,     0.75576,     0.75676,     0.75776,     0.75876,     0.75976,     0.76076,     0.76176,     0.76276,     0.76376,     0.76476,     0.76577,     0.76677,     0.76777,\n",
       "           0.76877,     0.76977,     0.77077,     0.77177,     0.77277,     0.77377,     0.77477,     0.77578,     0.77678,     0.77778,     0.77878,     0.77978,     0.78078,     0.78178,     0.78278,     0.78378,     0.78478,     0.78579,     0.78679,     0.78779,     0.78879,     0.78979,     0.79079,     0.79179,\n",
       "           0.79279,     0.79379,     0.79479,      0.7958,      0.7968,      0.7978,      0.7988,      0.7998,      0.8008,      0.8018,      0.8028,      0.8038,      0.8048,     0.80581,     0.80681,     0.80781,     0.80881,     0.80981,     0.81081,     0.81181,     0.81281,     0.81381,     0.81481,     0.81582,\n",
       "           0.81682,     0.81782,     0.81882,     0.81982,     0.82082,     0.82182,     0.82282,     0.82382,     0.82482,     0.82583,     0.82683,     0.82783,     0.82883,     0.82983,     0.83083,     0.83183,     0.83283,     0.83383,     0.83483,     0.83584,     0.83684,     0.83784,     0.83884,     0.83984,\n",
       "           0.84084,     0.84184,     0.84284,     0.84384,     0.84484,     0.84585,     0.84685,     0.84785,     0.84885,     0.84985,     0.85085,     0.85185,     0.85285,     0.85385,     0.85485,     0.85586,     0.85686,     0.85786,     0.85886,     0.85986,     0.86086,     0.86186,     0.86286,     0.86386,\n",
       "           0.86486,     0.86587,     0.86687,     0.86787,     0.86887,     0.86987,     0.87087,     0.87187,     0.87287,     0.87387,     0.87487,     0.87588,     0.87688,     0.87788,     0.87888,     0.87988,     0.88088,     0.88188,     0.88288,     0.88388,     0.88488,     0.88589,     0.88689,     0.88789,\n",
       "           0.88889,     0.88989,     0.89089,     0.89189,     0.89289,     0.89389,     0.89489,      0.8959,      0.8969,      0.8979,      0.8989,      0.8999,      0.9009,      0.9019,      0.9029,      0.9039,      0.9049,     0.90591,     0.90691,     0.90791,     0.90891,     0.90991,     0.91091,     0.91191,\n",
       "           0.91291,     0.91391,     0.91491,     0.91592,     0.91692,     0.91792,     0.91892,     0.91992,     0.92092,     0.92192,     0.92292,     0.92392,     0.92492,     0.92593,     0.92693,     0.92793,     0.92893,     0.92993,     0.93093,     0.93193,     0.93293,     0.93393,     0.93493,     0.93594,\n",
       "           0.93694,     0.93794,     0.93894,     0.93994,     0.94094,     0.94194,     0.94294,     0.94394,     0.94494,     0.94595,     0.94695,     0.94795,     0.94895,     0.94995,     0.95095,     0.95195,     0.95295,     0.95395,     0.95495,     0.95596,     0.95696,     0.95796,     0.95896,     0.95996,\n",
       "           0.96096,     0.96196,     0.96296,     0.96396,     0.96496,     0.96597,     0.96697,     0.96797,     0.96897,     0.96997,     0.97097,     0.97197,     0.97297,     0.97397,     0.97497,     0.97598,     0.97698,     0.97798,     0.97898,     0.97998,     0.98098,     0.98198,     0.98298,     0.98398,\n",
       "           0.98498,     0.98599,     0.98699,     0.98799,     0.98899,     0.98999,     0.99099,     0.99199,     0.99299,     0.99399,     0.99499,       0.996,       0.997,       0.998,       0.999,           1]), array([[    0.95876,     0.95876,       0.943,     0.94118,     0.93754,     0.93693,     0.93693,     0.93511,     0.93451,     0.93329,     0.93208,     0.93147,     0.93147,     0.93147,     0.93147,     0.93147,     0.93147,     0.93087,     0.93087,     0.93087,     0.92965,     0.92965,     0.92844,\n",
       "            0.92784,     0.92784,     0.92784,     0.92784,     0.92784,     0.92784,     0.92784,     0.92723,     0.92723,     0.92723,     0.92723,     0.92662,     0.92662,     0.92602,     0.92602,     0.92602,     0.92541,     0.92541,     0.92541,     0.92541,     0.92541,     0.92541,     0.92541,\n",
       "            0.92541,     0.92541,     0.92541,     0.92541,     0.92541,      0.9248,      0.9248,      0.9248,      0.9248,      0.9248,      0.9242,      0.9242,     0.92381,     0.92359,     0.92298,     0.92238,     0.92238,     0.92238,     0.92238,     0.92238,     0.92177,     0.92177,     0.92116,\n",
       "            0.92116,     0.92116,     0.92116,     0.92116,     0.92116,     0.92116,     0.92116,     0.92116,     0.92056,     0.91995,     0.91995,     0.91995,     0.91995,     0.91935,     0.91935,     0.91935,     0.91874,     0.91874,     0.91874,     0.91874,     0.91874,     0.91874,     0.91874,\n",
       "            0.91874,     0.91813,     0.91813,     0.91692,     0.91692,     0.91692,     0.91692,     0.91692,     0.91631,     0.91571,     0.91571,      0.9151,      0.9151,     0.91449,     0.91449,     0.91389,     0.91328,     0.91267,     0.91207,     0.91146,     0.91146,     0.91146,     0.91146,\n",
       "            0.91146,     0.91086,     0.91086,     0.91086,     0.91086,     0.91025,     0.91025,     0.91025,     0.90997,     0.90964,     0.90964,     0.90843,     0.90843,     0.90843,     0.90843,     0.90843,     0.90843,     0.90843,     0.90843,     0.90782,     0.90736,     0.90722,     0.90715,\n",
       "            0.90661,     0.90617,      0.9054,     0.90479,     0.90479,     0.90479,     0.90418,     0.90418,     0.90418,     0.90418,     0.90418,     0.90358,     0.90297,     0.90237,     0.90237,     0.90176,     0.90176,     0.90176,     0.90176,     0.90171,     0.90115,     0.90115,     0.90115,\n",
       "            0.90115,     0.90115,     0.90055,     0.90027,     0.89933,     0.89933,     0.89933,     0.89873,     0.89873,     0.89812,     0.89751,     0.89751,     0.89751,     0.89656,      0.8963,      0.8963,      0.8963,      0.8963,     0.89448,     0.89426,     0.89391,     0.89327,     0.89317,\n",
       "            0.89267,     0.89266,     0.89266,     0.89266,     0.89266,     0.89183,     0.89111,     0.89033,     0.89024,     0.88963,     0.88963,     0.88963,     0.88963,     0.88963,     0.88963,     0.88963,     0.88963,     0.88963,     0.88921,     0.88842,     0.88781,     0.88765,     0.88746,\n",
       "            0.88726,      0.8866,     0.88588,     0.88557,     0.88539,     0.88503,     0.88456,     0.88357,     0.88357,     0.88357,     0.88357,     0.88357,     0.88357,     0.88357,     0.88305,     0.88275,     0.88253,     0.88226,     0.88185,      0.8814,     0.88053,     0.88053,     0.88053,\n",
       "            0.88053,     0.88053,     0.88053,     0.88053,     0.88053,     0.87987,     0.87946,     0.87811,     0.87784,     0.87701,     0.87495,     0.87283,     0.87203,     0.87183,     0.87162,     0.87133,      0.8705,     0.86907,     0.86738,     0.86719,     0.86719,     0.86696,     0.86553,\n",
       "            0.86515,     0.86487,      0.8646,     0.86432,     0.86338,     0.86296,     0.86275,     0.86254,     0.86234,     0.86234,     0.86234,     0.86234,     0.86231,     0.86211,      0.8619,     0.86173,     0.86173,     0.86092,     0.86051,     0.86009,     0.85835,       0.857,     0.85624,\n",
       "              0.856,     0.85575,     0.85449,     0.85376,     0.85334,     0.85277,     0.85199,     0.85143,     0.85143,     0.85117,     0.85076,     0.85041,     0.84984,     0.84943,     0.84918,     0.84816,     0.84718,     0.84718,     0.84718,     0.84695,     0.84657,     0.84634,     0.84598,\n",
       "            0.84589,     0.84553,     0.84536,     0.84536,     0.84455,      0.8443,     0.84415,     0.84375,     0.84354,     0.84351,     0.84333,     0.84315,     0.84297,      0.8417,     0.84135,      0.8409,      0.8402,     0.83967,     0.83932,      0.8393,     0.83864,     0.83841,     0.83819,\n",
       "            0.83626,     0.83576,     0.83503,      0.8348,     0.83458,     0.83409,     0.83323,     0.83323,     0.83228,     0.83192,     0.83157,     0.83141,      0.8306,     0.83024,      0.8302,     0.82948,     0.82894,     0.82872,     0.82849,     0.82795,     0.82689,     0.82594,     0.82581,\n",
       "            0.82567,     0.82553,     0.82539,     0.82492,     0.82466,     0.82455,     0.82444,     0.82432,     0.82421,     0.82392,      0.8234,     0.82304,     0.82269,     0.82233,     0.82111,     0.82075,     0.82043,     0.82021,     0.81998,     0.81892,     0.81829,     0.81767,     0.81677,\n",
       "            0.81663,     0.81649,     0.81635,     0.81547,     0.81311,     0.81276,     0.81243,     0.81212,     0.81161,     0.81079,     0.81079,      0.8102,     0.80957,      0.8088,     0.80837,     0.80756,     0.80694,     0.80563,     0.80433,     0.80412,     0.80401,     0.80384,     0.80368,\n",
       "             0.8035,     0.80289,     0.80258,     0.80222,     0.80146,     0.79963,      0.7984,     0.79778,     0.79745,     0.79704,     0.79576,     0.79539,     0.79508,     0.79503,     0.79388,     0.79326,     0.79249,     0.79187,     0.79125,     0.79062,     0.79012,     0.78991,      0.7897,\n",
       "             0.7889,     0.78874,     0.78857,     0.78841,     0.78753,     0.78722,     0.78654,     0.78545,     0.78483,     0.78348,     0.78317,     0.78221,     0.78164,     0.78133,     0.78095,      0.7804,     0.78009,     0.77917,     0.77886,     0.77858,     0.77835,     0.77813,     0.77704,\n",
       "            0.77642,     0.77519,     0.77487,     0.77466,     0.77445,     0.77331,     0.77269,      0.7712,       0.771,     0.77079,      0.7702,     0.76936,     0.76916,     0.76834,     0.76772,     0.76651,     0.76629,     0.76606,     0.76447,     0.76264,     0.76154,     0.76123,      0.7591,\n",
       "            0.75879,     0.75804,     0.75648,     0.75404,     0.75197,     0.75124,     0.75103,     0.75082,     0.75033,      0.7491,     0.74871,      0.7484,     0.74784,     0.74747,     0.74716,     0.74537,     0.74381,      0.7435,     0.74168,     0.74106,     0.74044,     0.73861,     0.73677,\n",
       "            0.73557,     0.73526,      0.7343,     0.73307,     0.73185,     0.73068,     0.73037,     0.72998,     0.72875,     0.72631,     0.72569,     0.72143,      0.7202,     0.71922,     0.71775,     0.71712,      0.7159,     0.71527,     0.71283,     0.71161,     0.71098,     0.70891,     0.70792,\n",
       "            0.70669,     0.70486,     0.70363,     0.70301,     0.70178,     0.69813,     0.69751,     0.69628,     0.69444,      0.6914,     0.69077,     0.68591,     0.68376,     0.68345,      0.6798,     0.67736,     0.67674,     0.67611,     0.67125,     0.67002,     0.66884,     0.66853,     0.66573,\n",
       "            0.66275,     0.66244,     0.66204,     0.66142,      0.6604,     0.66018,     0.65653,     0.65469,     0.65225,     0.64981,     0.64798,     0.64635,     0.64614,     0.64593,     0.64488,     0.64403,     0.64342,      0.6418,     0.63997,     0.63935,     0.63812,     0.63652,     0.63621,\n",
       "            0.63444,     0.63407,     0.63376,     0.63015,     0.62831,     0.62617,     0.62252,      0.6219,     0.61946,     0.61641,     0.61492,     0.61395,     0.61212,     0.61089,     0.60724,     0.60601,     0.60478,     0.60113,     0.60097,     0.59989,     0.59744,     0.59622,     0.59464,\n",
       "            0.59433,     0.59253,     0.58888,     0.58734,     0.58703,     0.58398,     0.58034,     0.57992,     0.57793,     0.57732,     0.57451,     0.57267,     0.57144,     0.56801,      0.5677,     0.56715,     0.56337,     0.56277,     0.55922,     0.55436,     0.55252,     0.54735,     0.54431,\n",
       "            0.54308,     0.54064,      0.5382,     0.53515,     0.53366,      0.5333,     0.53025,     0.52842,     0.52598,     0.52307,     0.52018,     0.51714,     0.51288,     0.50983,     0.50254,     0.50131,     0.50069,     0.49825,     0.49495,     0.49306,     0.49123,     0.48818,     0.48392,\n",
       "            0.48269,     0.47843,     0.47417,     0.47287,     0.46959,     0.46715,      0.4635,     0.45984,      0.4574,     0.45436,     0.45192,     0.44876,     0.44673,     0.44308,     0.44185,     0.44123,     0.43791,     0.43573,     0.43542,     0.42934,     0.42751,     0.42385,     0.42257,\n",
       "            0.41988,     0.41865,       0.415,     0.41256,     0.40951,     0.40509,     0.40372,     0.40007,     0.39823,     0.39558,     0.39365,     0.39182,     0.38877,     0.38754,     0.38359,     0.38023,      0.3787,     0.37748,     0.37291,     0.36865,     0.36621,     0.36438,     0.36184,\n",
       "            0.35859,     0.35736,     0.35552,     0.35278,     0.35155,      0.3485,     0.34646,     0.34453,      0.3433,     0.34026,      0.3363,     0.33447,     0.33354,     0.33231,     0.33169,     0.32864,     0.32615,     0.32467,     0.32344,     0.32222,      0.3208,     0.32067,      0.3199,\n",
       "            0.31852,     0.31837,     0.31788,     0.31574,     0.31512,     0.31426,     0.31236,      0.3117,     0.31142,     0.31019,     0.30866,     0.30622,     0.30556,     0.30407,     0.30345,     0.30252,     0.30133,     0.30091,     0.29875,     0.29844,     0.29745,     0.29642,     0.29601,\n",
       "            0.29386,     0.29355,     0.28951,      0.2891,     0.28868,     0.28645,     0.28487,     0.28456,     0.28298,     0.27832,     0.27791,     0.27592,     0.27587,     0.27545,     0.27504,     0.27283,     0.27252,     0.27168,     0.27168,     0.27074,     0.26851,     0.26809,     0.26647,\n",
       "            0.26484,     0.26443,      0.2634,     0.26238,     0.26015,     0.25974,     0.25938,     0.25907,     0.25748,     0.25585,     0.25544,     0.25442,     0.25279,     0.25238,     0.25136,     0.24973,     0.24932,     0.24846,     0.24826,     0.24805,     0.24626,     0.24583,     0.24299,\n",
       "            0.24257,     0.24095,     0.23993,      0.2389,     0.23849,     0.23747,     0.23706,     0.23664,     0.23562,     0.23274,     0.23216,     0.23175,     0.23012,      0.2291,     0.22869,     0.22767,     0.22664,     0.22623,     0.22259,     0.22095,     0.21751,     0.21649,     0.21607,\n",
       "            0.21494,     0.21322,     0.20917,     0.20875,     0.20578,     0.20348,     0.20246,     0.20204,     0.20054,     0.20029,     0.19939,     0.19897,     0.19717,     0.19491,      0.1932,     0.19024,     0.18982,      0.1882,     0.18496,     0.18292,     0.18128,     0.18011,     0.18011,\n",
       "            0.18011,     0.17768,     0.17332,     0.17101,     0.17101,     0.16933,     0.16677,     0.16475,     0.16231,      0.1551,     0.15468,     0.14862,     0.14213,     0.13737,     0.13008,     0.12714,     0.12429,     0.12246,     0.12185,     0.12144,     0.11726,     0.11542,     0.11494,\n",
       "            0.11387,     0.11204,     0.11142,     0.11086,     0.11044,     0.10864,     0.10802,     0.10619,     0.10496,     0.10332,      0.1022,      0.1018,     0.10165,     0.10149,     0.10134,     0.10091,     0.10052,     0.10027,     0.09935,    0.097595,    0.097388,    0.097181,    0.096864,\n",
       "           0.093817,    0.091376,    0.088935,    0.085888,    0.083447,    0.081612,    0.080384,    0.077943,    0.077322,    0.073971,    0.072137,    0.070909,    0.069074,    0.067846,    0.066012,    0.064818,    0.064404,    0.064243,    0.064189,    0.064135,    0.064081,    0.064027,    0.063973,\n",
       "           0.063919,    0.063865,    0.063811,    0.063757,    0.063703,    0.063374,    0.062857,    0.062456,    0.062318,    0.062179,    0.062041,    0.061903,    0.061652,    0.061341,    0.060424,    0.060113,     0.05988,    0.059673,    0.059466,    0.056794,     0.05534,    0.054216,     0.05311,\n",
       "           0.047972,     0.04368,    0.041542,    0.038178,     0.03666,     0.03149,    0.027777,     0.02297,    0.021046,    0.016572,   0.0076438,   0.0050196,   0.0027317,   0.0016539,   0.0011406,  0.00089198,  0.00064334,           0,           0,           0,           0,           0,           0,\n",
       "                  0,           0,           0,           0,           0,           0,           0,           0,           0,           0,           0,           0,           0,           0,           0,           0,           0,           0,           0,           0,           0,           0,           0,\n",
       "                  0,           0,           0,           0,           0,           0,           0,           0,           0,           0,           0,           0,           0,           0,           0,           0,           0,           0,           0,           0,           0,           0,           0,\n",
       "                  0,           0,           0,           0,           0,           0,           0,           0,           0,           0,           0,           0,           0,           0,           0,           0,           0,           0,           0,           0,           0,           0,           0,\n",
       "                  0,           0,           0,           0,           0,           0,           0,           0,           0,           0,           0]]), 'Confidence', 'Recall']]\n",
       "fitness: np.float64(0.9710767426228099)\n",
       "keys: ['metrics/precision(B)', 'metrics/recall(B)', 'metrics/mAP50(B)', 'metrics/mAP50-95(B)', 'metrics/precision(M)', 'metrics/recall(M)', 'metrics/mAP50(M)', 'metrics/mAP50-95(M)']\n",
       "maps: array([    0.87389])\n",
       "names: {0: 'pupil'}\n",
       "plot: True\n",
       "results_dict: {'metrics/precision(B)': np.float64(0.9655328784834157), 'metrics/recall(B)': np.float64(0.9454214675560946), 'metrics/mAP50(B)': np.float64(0.9739373948129941), 'metrics/mAP50-95(B)': np.float64(0.49966602062596477), 'metrics/precision(M)': np.float64(0.9023613880374194), 'metrics/recall(M)': np.float64(0.8835657974530018), 'metrics/mAP50(M)': np.float64(0.8718432441942704), 'metrics/mAP50-95(M)': np.float64(0.3742214001763501), 'fitness': np.float64(0.9710767426228099)}\n",
       "save_dir: PosixPath('runs/segment/train10')\n",
       "seg: ultralytics.utils.metrics.Metric object\n",
       "speed: {'preprocess': 0.24127065118262386, 'inference': 12.76545394402722, 'loss': 0.0003008034177743263, 'postprocess': 0.2727766221429436}\n",
       "task: 'segment'"
      ]
     },
     "execution_count": 4,
     "metadata": {},
     "output_type": "execute_result"
    }
   ],
   "source": [
    "model.train(data=os.path.join(ROOT_DIR,'data.yaml'), epochs=30, batch=8)\n",
    "\n",
    "#!yolo task=segment mode=train model=yolov8m-seg.pt data={dataset_location}/data.yaml epochs=10 imgsz=640"
   ]
  },
  {
   "cell_type": "code",
   "execution_count": 5,
   "metadata": {},
   "outputs": [],
   "source": [
    "model.save('trained.pt')"
   ]
  },
  {
   "cell_type": "code",
   "execution_count": null,
   "metadata": {},
   "outputs": [],
   "source": [
    "model = YOLO('trained.pt')"
   ]
  },
  {
   "cell_type": "code",
   "execution_count": null,
   "metadata": {},
   "outputs": [],
   "source": [
    "test_result = model('data/images/train/frame_000399.PNG')"
   ]
  },
  {
   "cell_type": "code",
   "execution_count": null,
   "metadata": {},
   "outputs": [],
   "source": [
    "x = test_result[0].masks.xy[0]d\n",
    "y = test_result[0].masks.xy[0][1,:]\n",
    "len(test_result[0].masks.xy[0][:,0])"
   ]
  },
  {
   "cell_type": "markdown",
   "metadata": {
    "jp-MarkdownHeadingCollapsed": true
   },
   "source": [
    "## Live webcam"
   ]
  },
  {
   "cell_type": "code",
   "execution_count": null,
   "metadata": {},
   "outputs": [],
   "source": [
    "import cv2\n",
    "import time"
   ]
  },
  {
   "cell_type": "code",
   "execution_count": null,
   "metadata": {},
   "outputs": [],
   "source": [
    "cap = cv2.VideoCapture(0)"
   ]
  },
  {
   "cell_type": "code",
   "execution_count": null,
   "metadata": {
    "scrolled": true
   },
   "outputs": [],
   "source": [
    "while cap.isOpened():\n",
    "    suc, frame = cap.read()\n",
    "\n",
    "    if suc:\n",
    "        start = time.perf_counter()\n",
    "        results = model(frame)\n",
    "        end = time.perf_counter()\n",
    "\n",
    "        annotated_frame = results[0].plot()\n",
    "\n",
    "        cv2.imshow(\"yolov8 inference\", annotated_frame)\n",
    "        cv2.waitKey()"
   ]
  }
 ],
 "metadata": {
  "accelerator": "GPU",
  "colab": {
   "gpuType": "T4",
   "provenance": []
  },
  "kernelspec": {
   "display_name": "Python 3 (ipykernel)",
   "language": "python",
   "name": "python3"
  },
  "language_info": {
   "codemirror_mode": {
    "name": "ipython",
    "version": 3
   },
   "file_extension": ".py",
   "mimetype": "text/x-python",
   "name": "python",
   "nbconvert_exporter": "python",
   "pygments_lexer": "ipython3",
   "version": "3.12.3"
  }
 },
 "nbformat": 4,
 "nbformat_minor": 4
}
